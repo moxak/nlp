{
 "cells": [
  {
   "cell_type": "markdown",
   "metadata": {},
   "source": [
    "# 1. Insight Summary"
   ]
  },
  {
   "cell_type": "markdown",
   "metadata": {},
   "source": [
    "## Loading libraries"
   ]
  },
  {
   "cell_type": "code",
   "execution_count": 1,
   "metadata": {},
   "outputs": [
    {
     "name": "stdout",
     "output_type": "stream",
     "text": [
      "2.0.1+cpu\n",
      "cpu\n"
     ]
    }
   ],
   "source": [
    "import torch\n",
    "\n",
    "print(torch.__version__)\n",
    "device = torch.device(\"cuda:0\" if torch.cuda.is_available() else \"cpu\")\n",
    "print(device)"
   ]
  },
  {
   "cell_type": "code",
   "execution_count": 2,
   "metadata": {},
   "outputs": [],
   "source": [
    "import os, sys, glob\n",
    "from typing import Dict, List, Tuple\n",
    "\n",
    "import numpy as np\n",
    "import pandas as pd\n",
    "import matplotlib.pyplot as plt\n",
    "import seaborn as sns\n",
    "import japanize_matplotlib\n",
    "\n",
    "from sklearn.metrics import precision_score, recall_score\n",
    "from transformers import BertForSequenceClassification, BertTokenizerFast, BertJapaneseTokenizer, Trainer, TrainingArguments\n",
    "from transformers import pipeline, Pipeline\n",
    "from datasets import load_dataset, Dataset\n",
    "\n",
    "pd.options.display.float_format = \"{:.4f}\".format"
   ]
  },
  {
   "cell_type": "markdown",
   "metadata": {},
   "source": [
    "## Preparing data"
   ]
  },
  {
   "cell_type": "code",
   "execution_count": 3,
   "metadata": {},
   "outputs": [],
   "source": [
    "DATA_DIR = os.path.join(os.getcwd(), 'data\\\\STARS_4月')"
   ]
  },
  {
   "cell_type": "code",
   "execution_count": 4,
   "metadata": {},
   "outputs": [
    {
     "name": "stdout",
     "output_type": "stream",
     "text": [
      "(832, 2)\n",
      "(3142615, 11)\n"
     ]
    },
    {
     "name": "stderr",
     "output_type": "stream",
     "text": [
      "C:\\Users\\000063JP6\\AppData\\Local\\Temp\\ipykernel_13900\\3177550527.py:19: DtypeWarning: Columns (8) have mixed types. Specify dtype option on import or set low_memory=False.\n",
      "  qa_df = pd.read_csv(os.path.join(DATA_DIR, 'question_answer.csv'), encoding='cp932')\n"
     ]
    },
    {
     "name": "stdout",
     "output_type": "stream",
     "text": [
      "(174035, 4)\n"
     ]
    }
   ],
   "source": [
    "# 店舗名が格納されたDataFrame\n",
    "# 'store_code', 'store_name'\n",
    "store_df_origin = pd.read_csv(os.path.join(DATA_DIR, 'store.csv'), encoding='cp932')\n",
    "store_df = store_df_origin[['store_code', 'store_name']]\n",
    "store_df = store_df.drop_duplicates()\n",
    "print(store_df.shape)\n",
    "\n",
    "# 回答の属性データ等\n",
    "# 'answer_id', 'store_code', 'member_id', 'majica_no',\n",
    "# 'majica_no_category', 'sex', 'age', 'occupation', 'create_datetime',\n",
    "# 'sending_datetime', 'buying_amount'\n",
    "answer_df_origin = pd.read_csv(os.path.join(DATA_DIR, 'answer.csv'), encoding='cp932')\n",
    "answer_df = answer_df_origin[['answer_id', 'store_code', 'member_id', 'majica_no', 'majica_no_category', 'sex', 'age', 'occupation', 'create_datetime', 'sending_datetime', 'buying_amount']]\n",
    "# answer_df = answer_df_origin[['answer_id', 'store_code']]\n",
    "print(answer_df.shape)\n",
    "\n",
    "# 回答データ\n",
    "# 'question_answer_id', 'answer_id', 'question_id', 'answer_question'\n",
    "qa_df = pd.read_csv(os.path.join(DATA_DIR, 'question_answer.csv'), encoding='cp932')\n",
    "voc_df = qa_df[qa_df['answer_question'].notnull()][['question_answer_id', 'answer_id', 'question_id', 'answer_question']]\n",
    "print(voc_df.shape)"
   ]
  },
  {
   "cell_type": "code",
   "execution_count": 5,
   "metadata": {},
   "outputs": [],
   "source": [
    "# 結合\n",
    "voc_all_df = pd.merge(\n",
    "    left=pd.merge(left=voc_df, right=answer_df, on='answer_id'),\n",
    "    right=store_df,\n",
    "    on='store_code', \n",
    "    how='inner')"
   ]
  },
  {
   "cell_type": "code",
   "execution_count": 6,
   "metadata": {},
   "outputs": [],
   "source": [
    "# 確認と保存、メモリ解放\n",
    "assert voc_df.shape[0] == voc_all_df.shape[0], 'DataFrameのサイズが違います'\n",
    "\n",
    "voc_all_df.to_csv(os.path.join(DATA_DIR, 'data.csv'), encoding='cp932', index=False)\n",
    "\n",
    "del store_df_origin, store_df, answer_df_origin, answer_df, qa_df, voc_df, voc_all_df"
   ]
  },
  {
   "cell_type": "markdown",
   "metadata": {},
   "source": [
    "### VoC"
   ]
  },
  {
   "cell_type": "code",
   "execution_count": 8,
   "metadata": {},
   "outputs": [
    {
     "name": "stdout",
     "output_type": "stream",
     "text": [
      "Index(['question_answer_id', 'answer_id', 'question_id', 'answer_question',\n",
      "       'store_code', 'member_id', 'majica_no', 'majica_no_category', 'sex',\n",
      "       'age', 'occupation', 'create_datetime', 'sending_datetime',\n",
      "       'buying_amount', 'store_name'],\n",
      "      dtype='object')\n",
      "(174035, 3)\n"
     ]
    },
    {
     "data": {
      "text/html": [
       "<div>\n",
       "<style scoped>\n",
       "    .dataframe tbody tr th:only-of-type {\n",
       "        vertical-align: middle;\n",
       "    }\n",
       "\n",
       "    .dataframe tbody tr th {\n",
       "        vertical-align: top;\n",
       "    }\n",
       "\n",
       "    .dataframe thead th {\n",
       "        text-align: right;\n",
       "    }\n",
       "</style>\n",
       "<table border=\"1\" class=\"dataframe\">\n",
       "  <thead>\n",
       "    <tr style=\"text-align: right;\">\n",
       "      <th></th>\n",
       "      <th>answer_question</th>\n",
       "      <th>store_name</th>\n",
       "      <th>buying_amount</th>\n",
       "    </tr>\n",
       "  </thead>\n",
       "  <tbody>\n",
       "    <tr>\n",
       "      <th>0</th>\n",
       "      <td>品物豊富で何でもそろう！クーポンがあったり、大盛り肉が安くて助かる！幼児用の立つカートがあっ...</td>\n",
       "      <td>MEGAドン・キホーテ長野店</td>\n",
       "      <td>14025.0000</td>\n",
       "    </tr>\n",
       "    <tr>\n",
       "      <th>1</th>\n",
       "      <td>他店に比べて商品が多いので、欲しい商品を探すのも大変だが、ドンキは探すことも楽しさに繋がるの...</td>\n",
       "      <td>MEGAドン・キホーテ長野店</td>\n",
       "      <td>3695.0000</td>\n",
       "    </tr>\n",
       "    <tr>\n",
       "      <th>2</th>\n",
       "      <td>近い。</td>\n",
       "      <td>MEGAドン・キホーテ長野店</td>\n",
       "      <td>1620.0000</td>\n",
       "    </tr>\n",
       "    <tr>\n",
       "      <th>3</th>\n",
       "      <td>レジの時にクーポンのご利用はありますかと一言あると嬉しいです。</td>\n",
       "      <td>MEGAドン・キホーテ長野店</td>\n",
       "      <td>756.0000</td>\n",
       "    </tr>\n",
       "    <tr>\n",
       "      <th>4</th>\n",
       "      <td>ミニトマト、ハナノアが安いから。</td>\n",
       "      <td>MEGAドン・キホーテ長野店</td>\n",
       "      <td>753.0000</td>\n",
       "    </tr>\n",
       "    <tr>\n",
       "      <th>...</th>\n",
       "      <td>...</td>\n",
       "      <td>...</td>\n",
       "      <td>...</td>\n",
       "    </tr>\n",
       "    <tr>\n",
       "      <th>174030</th>\n",
       "      <td>他のドンキホーテも、あまり好きではない。物がごちゃごちゃして、先をみわたすことができず、目当...</td>\n",
       "      <td>MEGAドン・キホーテUNY大覚寺店</td>\n",
       "      <td>2835.0000</td>\n",
       "    </tr>\n",
       "    <tr>\n",
       "      <th>174031</th>\n",
       "      <td>ほしいのがあるので。</td>\n",
       "      <td>ドン・キホーテ セブンパークアリオ柏店</td>\n",
       "      <td>877.0000</td>\n",
       "    </tr>\n",
       "    <tr>\n",
       "      <th>174032</th>\n",
       "      <td>安い品が多いから！</td>\n",
       "      <td>ドン・キホーテ セブンパークアリオ柏店</td>\n",
       "      <td>877.0000</td>\n",
       "    </tr>\n",
       "    <tr>\n",
       "      <th>174033</th>\n",
       "      <td>いろんなコンタクトレンズあるから</td>\n",
       "      <td>ドン・キホーテ セブンパークアリオ柏店</td>\n",
       "      <td>3035.0000</td>\n",
       "    </tr>\n",
       "    <tr>\n",
       "      <th>174034</th>\n",
       "      <td>好きな商品が置いてあるから</td>\n",
       "      <td>ドン・キホーテ セブンパークアリオ柏店</td>\n",
       "      <td>860.0000</td>\n",
       "    </tr>\n",
       "  </tbody>\n",
       "</table>\n",
       "<p>174035 rows × 3 columns</p>\n",
       "</div>"
      ],
      "text/plain": [
       "                                          answer_question  \\\n",
       "0       品物豊富で何でもそろう！クーポンがあったり、大盛り肉が安くて助かる！幼児用の立つカートがあっ...   \n",
       "1       他店に比べて商品が多いので、欲しい商品を探すのも大変だが、ドンキは探すことも楽しさに繋がるの...   \n",
       "2                                                     近い。   \n",
       "3                         レジの時にクーポンのご利用はありますかと一言あると嬉しいです。   \n",
       "4                                        ミニトマト、ハナノアが安いから。   \n",
       "...                                                   ...   \n",
       "174030  他のドンキホーテも、あまり好きではない。物がごちゃごちゃして、先をみわたすことができず、目当...   \n",
       "174031                                         ほしいのがあるので。   \n",
       "174032                                          安い品が多いから！   \n",
       "174033                                   いろんなコンタクトレンズあるから   \n",
       "174034                                      好きな商品が置いてあるから   \n",
       "\n",
       "                 store_name  buying_amount  \n",
       "0            MEGAドン・キホーテ長野店     14025.0000  \n",
       "1            MEGAドン・キホーテ長野店      3695.0000  \n",
       "2            MEGAドン・キホーテ長野店      1620.0000  \n",
       "3            MEGAドン・キホーテ長野店       756.0000  \n",
       "4            MEGAドン・キホーテ長野店       753.0000  \n",
       "...                     ...            ...  \n",
       "174030   MEGAドン・キホーテUNY大覚寺店      2835.0000  \n",
       "174031  ドン・キホーテ セブンパークアリオ柏店       877.0000  \n",
       "174032  ドン・キホーテ セブンパークアリオ柏店       877.0000  \n",
       "174033  ドン・キホーテ セブンパークアリオ柏店      3035.0000  \n",
       "174034  ドン・キホーテ セブンパークアリオ柏店       860.0000  \n",
       "\n",
       "[174035 rows x 3 columns]"
      ]
     },
     "execution_count": 8,
     "metadata": {},
     "output_type": "execute_result"
    }
   ],
   "source": [
    "voc_all_df = pd.read_csv(\n",
    "    os.path.join(DATA_DIR, 'data.csv'), encoding='cp932')\n",
    "\n",
    "print(voc_all_df.columns)\n",
    "\n",
    "voc_all_df = voc_all_df[['answer_question', 'store_name', 'buying_amount']]\n",
    "print(voc_all_df.shape)\n",
    "\n",
    "voc_all_df"
   ]
  },
  {
   "cell_type": "markdown",
   "metadata": {},
   "source": [
    "### Store"
   ]
  },
  {
   "cell_type": "code",
   "execution_count": 10,
   "metadata": {},
   "outputs": [
    {
     "data": {
      "text/plain": [
       "487"
      ]
     },
     "execution_count": 10,
     "metadata": {},
     "output_type": "execute_result"
    }
   ],
   "source": [
    "store_list = voc_all_df['store_name'].unique()\n",
    "len(store_list)"
   ]
  },
  {
   "cell_type": "code",
   "execution_count": 21,
   "metadata": {},
   "outputs": [],
   "source": [
    "with open(os.path.join(DATA_DIR, 'store_list.txt'), mode='w', encoding='cp932') as f:\n",
    "    f.write('\\n'.join(store_list))"
   ]
  },
  {
   "cell_type": "markdown",
   "metadata": {},
   "source": [
    "## EDA"
   ]
  },
  {
   "cell_type": "code",
   "execution_count": 24,
   "metadata": {},
   "outputs": [
    {
     "data": {
      "text/plain": [
       "store_name\n",
       "MEGAドン・キホーテUNY東海通店        1763\n",
       "MEGAドン・キホーテ大森山王店          1680\n",
       "MEGAドン・キホーテ 福重店           1427\n",
       "二俣川店                      1387\n",
       "MEGAドン・キホーテUNY稲沢東店        1339\n",
       "                          ... \n",
       "キラキラドンキ ダイバーシティ東京 プラザ店       4\n",
       "ミチドンキ NEOPASA清水店             4\n",
       "情熱職人東松山店                     2\n",
       "お菓子ドンキ・お酒ドンキ店                2\n",
       "情熱職人昭島店                      1\n",
       "Name: answer_question, Length: 487, dtype: int64"
      ]
     },
     "execution_count": 24,
     "metadata": {},
     "output_type": "execute_result"
    }
   ],
   "source": [
    "voc_all_df.groupby('store_name')['answer_question'].count().sort_values(ascending=False)\n",
    "# .to_csv(os.path.join(DATA_DIR, 'store_list.csv'))"
   ]
  },
  {
   "cell_type": "code",
   "execution_count": 38,
   "metadata": {},
   "outputs": [
    {
     "data": {
      "image/png": "[encoded data removed]",
      "text/plain": [
       "<Figure size 640x480 with 1 Axes>"
      ]
     },
     "metadata": {},
     "output_type": "display_data"
    }
   ],
   "source": [
    "voc_all_df.groupby('store_name')['answer_question'].count().sort_values(ascending=False).hist(bins=50)\n",
    "plt.title('店舗あたりVoC数の分布')\n",
    "plt.xlabel('VoC数')\n",
    "plt.ylabel('店舗数')\n",
    "plt.show()"
   ]
  },
  {
   "cell_type": "code",
   "execution_count": 26,
   "metadata": {},
   "outputs": [
    {
     "data": {
      "text/plain": [
       "store_name\n",
       "MEGAドン・キホーテUNY東海通店     7948933\n",
       "MEGAドン・キホーテ大森山王店       6926261\n",
       "MEGAドン・キホーテ 福重店        6691316\n",
       "MEGAドン・キホーテ豊橋店         6351837\n",
       "MEGAドン・キホーテUNY稲沢東店     5759663\n",
       "                        ...   \n",
       "情熱職人昭島店                  12360\n",
       "ドン・キホーテ ららぽーと立川立飛店        8898\n",
       "ドン・キホーテ セブンパークアリオ柏店       5649\n",
       "ミチドンキ NEOPASA清水店          4692\n",
       "お菓子ドンキ・お酒ドンキ店             1241\n",
       "Name: buying_amount, Length: 487, dtype: int32"
      ]
     },
     "execution_count": 26,
     "metadata": {},
     "output_type": "execute_result"
    }
   ],
   "source": [
    "voc_all_df.groupby('store_name')['buying_amount'].sum().sort_values(ascending=False).astype(int)\n",
    "# .to_csv(os.path.join(DATA_DIR, ''))"
   ]
  },
  {
   "cell_type": "code",
   "execution_count": 40,
   "metadata": {},
   "outputs": [
    {
     "data": {
      "image/png": "[encoded data removed]",
      "text/plain": [
       "<Figure size 640x480 with 1 Axes>"
      ]
     },
     "metadata": {},
     "output_type": "display_data"
    }
   ],
   "source": [
    "voc_all_df.groupby('store_name')['buying_amount'].sum().sort_values(ascending=False).astype(int).hist(bins=50)\n",
    "plt.title('店舗あたり売上(Thankyouメール送信者のみ)')\n",
    "plt.xlabel('売上')\n",
    "plt.ylabel('店舗数')\n",
    "plt.show()"
   ]
  },
  {
   "cell_type": "markdown",
   "metadata": {},
   "source": [
    "## Inference"
   ]
  },
  {
   "cell_type": "code",
   "execution_count": 41,
   "metadata": {},
   "outputs": [],
   "source": [
    "target_store_list = ['MEGAドン・キホーテUNY東海通店', 'MEGAドン・キホーテUNY 横浜大口店', 'ドン・キホーテ 川西店', 'ドン・キホーテ 六本木店','小樽店']\n",
    "# MEGAドン・キホーテUNY東海通店: 1763\n",
    "# MEGAドン・キホーテUNY 横浜大口店: 809\n",
    "# 川西店: 304\n",
    "# ドン・キホーテ 六本木店: 136\n",
    "# 小樽店: 92"
   ]
  },
  {
   "cell_type": "code",
   "execution_count": null,
   "metadata": {},
   "outputs": [],
   "source": [
    "from transformers import pipeline\n",
    "\n",
    "tokenizer = BertJapaneseTokenizer.from_pretrained('cl-tohoku/bert-large-japanese-v2')\n",
    "model = BertForSequenceClassification.from_pretrained('results_bert-base-japanese-v3_50', num_labels=3)\n",
    "sentiment_analyzer = pipeline('sentiment-analysis', model=model, tokenizer=tokenizer)"
   ]
  }
 ],
 "metadata": {
  "interpreter": {
   "hash": "1685e972c8e6ae035eec8c83118266536b1044e7517d791fce49ac42e275e5e1"
  },
  "kernelspec": {
   "display_name": "Python 3.10.4 ('.venv': poetry)",
   "language": "python",
   "name": "python3"
  },
  "language_info": {
   "codemirror_mode": {
    "name": "ipython",
    "version": 3
   },
   "file_extension": ".py",
   "mimetype": "text/x-python",
   "name": "python",
   "nbconvert_exporter": "python",
   "pygments_lexer": "ipython3",
   "version": "3.10.4"
  },
  "orig_nbformat": 4
 },
 "nbformat": 4,
 "nbformat_minor": 2
}
