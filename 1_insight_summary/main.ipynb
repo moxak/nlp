{
 "cells": [
  {
   "cell_type": "markdown",
   "metadata": {},
   "source": [
    "# 1. Insight Summary"
   ]
  },
  {
   "cell_type": "markdown",
   "metadata": {},
   "source": [
    "## Loading libraries"
   ]
  },
  {
   "cell_type": "code",
   "execution_count": 3,
   "metadata": {},
   "outputs": [
    {
     "name": "stdout",
     "output_type": "stream",
     "text": [
      "2.0.1+cpu\n",
      "cpu\n"
     ]
    }
   ],
   "source": [
    "import torch\n",
    "\n",
    "print(torch.__version__)\n",
    "device = torch.device(\"cuda:0\" if torch.cuda.is_available() else \"cpu\")\n",
    "print(device)"
   ]
  },
  {
   "cell_type": "code",
   "execution_count": 1,
   "metadata": {},
   "outputs": [],
   "source": [
    "import os, sys, glob\n",
    "from typing import Dict, List, Tuple\n",
    "\n",
    "import numpy as np\n",
    "import pandas as pd\n",
    "import matplotlib.pyplot as plt\n",
    "import seaborn as sns\n",
    "import japanize_matplotlib\n",
    "\n",
    "from sklearn.metrics import precision_score, recall_score\n",
    "from transformers import BertForSequenceClassification, BertTokenizerFast, BertJapaneseTokenizer, Trainer, TrainingArguments\n",
    "from transformers import pipeline, Pipeline\n",
    "from datasets import load_dataset, Dataset\n",
    "\n",
    "pd.options.display.float_format = \"{:.4f}\".format"
   ]
  },
  {
   "cell_type": "markdown",
   "metadata": {},
   "source": [
    "## Preparing data"
   ]
  },
  {
   "cell_type": "code",
   "execution_count": 6,
   "metadata": {},
   "outputs": [],
   "source": [
    "DATA_DIR = os.path.join(os.getcwd(), 'data\\\\STARS_4月')"
   ]
  },
  {
   "cell_type": "code",
   "execution_count": 4,
   "metadata": {},
   "outputs": [
    {
     "name": "stdout",
     "output_type": "stream",
     "text": [
      "(832, 2)\n",
      "(3142615, 11)\n"
     ]
    },
    {
     "name": "stderr",
     "output_type": "stream",
     "text": [
      "C:\\Users\\000063JP6\\AppData\\Local\\Temp\\ipykernel_13900\\3177550527.py:19: DtypeWarning: Columns (8) have mixed types. Specify dtype option on import or set low_memory=False.\n",
      "  qa_df = pd.read_csv(os.path.join(DATA_DIR, 'question_answer.csv'), encoding='cp932')\n"
     ]
    },
    {
     "name": "stdout",
     "output_type": "stream",
     "text": [
      "(174035, 4)\n"
     ]
    }
   ],
   "source": [
    "# 店舗名が格納されたDataFrame\n",
    "# 'store_code', 'store_name'\n",
    "store_df_origin = pd.read_csv(os.path.join(DATA_DIR, 'store.csv'), encoding='cp932')\n",
    "store_df = store_df_origin[['store_code', 'store_name']]\n",
    "store_df = store_df.drop_duplicates()\n",
    "print(store_df.shape)\n",
    "\n",
    "# 回答の属性データ等\n",
    "# 'answer_id', 'store_code', 'member_id', 'majica_no',\n",
    "# 'majica_no_category', 'sex', 'age', 'occupation', 'create_datetime',\n",
    "# 'sending_datetime', 'buying_amount'\n",
    "answer_df_origin = pd.read_csv(os.path.join(DATA_DIR, 'answer.csv'), encoding='cp932')\n",
    "answer_df = answer_df_origin[['answer_id', 'store_code', 'member_id', 'majica_no', 'majica_no_category', 'sex', 'age', 'occupation', 'create_datetime', 'sending_datetime', 'buying_amount']]\n",
    "# answer_df = answer_df_origin[['answer_id', 'store_code']]\n",
    "print(answer_df.shape)\n",
    "\n",
    "# 回答データ\n",
    "# 'question_answer_id', 'answer_id', 'question_id', 'answer_question'\n",
    "qa_df = pd.read_csv(os.path.join(DATA_DIR, 'question_answer.csv'), encoding='cp932')\n",
    "voc_df = qa_df[qa_df['answer_question'].notnull()][['question_answer_id', 'answer_id', 'question_id', 'answer_question']]\n",
    "print(voc_df.shape)"
   ]
  },
  {
   "cell_type": "code",
   "execution_count": 5,
   "metadata": {},
   "outputs": [],
   "source": [
    "# 結合\n",
    "voc_all_df = pd.merge(\n",
    "    left=pd.merge(left=voc_df, right=answer_df, on='answer_id'),\n",
    "    right=store_df,\n",
    "    on='store_code', \n",
    "    how='inner')"
   ]
  },
  {
   "cell_type": "code",
   "execution_count": 6,
   "metadata": {},
   "outputs": [],
   "source": [
    "# 確認と保存、メモリ解放\n",
    "assert voc_df.shape[0] == voc_all_df.shape[0], 'DataFrameのサイズが違います'\n",
    "\n",
    "voc_all_df.to_csv(os.path.join(DATA_DIR, 'data.csv'), encoding='cp932', index=False)\n",
    "\n",
    "del store_df_origin, store_df, answer_df_origin, answer_df, qa_df, voc_df, voc_all_df"
   ]
  },
  {
   "cell_type": "markdown",
   "metadata": {},
   "source": [
    "### VoC"
   ]
  },
  {
   "cell_type": "code",
   "execution_count": 79,
   "metadata": {},
   "outputs": [
    {
     "name": "stdout",
     "output_type": "stream",
     "text": [
      "Index(['question_answer_id', 'answer_id', 'question_id', 'answer_question',\n",
      "       'store_code', 'member_id', 'majica_no', 'majica_no_category', 'sex',\n",
      "       'age', 'occupation', 'create_datetime', 'sending_datetime',\n",
      "       'buying_amount', 'store_name'],\n",
      "      dtype='object')\n",
      "(174035, 3)\n"
     ]
    },
    {
     "data": {
      "text/html": [
       "<div>\n",
       "<style scoped>\n",
       "    .dataframe tbody tr th:only-of-type {\n",
       "        vertical-align: middle;\n",
       "    }\n",
       "\n",
       "    .dataframe tbody tr th {\n",
       "        vertical-align: top;\n",
       "    }\n",
       "\n",
       "    .dataframe thead th {\n",
       "        text-align: right;\n",
       "    }\n",
       "</style>\n",
       "<table border=\"1\" class=\"dataframe\">\n",
       "  <thead>\n",
       "    <tr style=\"text-align: right;\">\n",
       "      <th></th>\n",
       "      <th>answer_question</th>\n",
       "      <th>store_name</th>\n",
       "      <th>buying_amount</th>\n",
       "    </tr>\n",
       "  </thead>\n",
       "  <tbody>\n",
       "    <tr>\n",
       "      <th>0</th>\n",
       "      <td>品物豊富で何でもそろう！クーポンがあったり、大盛り肉が安くて助かる！幼児用の立つカートがあっ...</td>\n",
       "      <td>MEGAドン・キホーテ長野店</td>\n",
       "      <td>14025.0000</td>\n",
       "    </tr>\n",
       "    <tr>\n",
       "      <th>1</th>\n",
       "      <td>他店に比べて商品が多いので、欲しい商品を探すのも大変だが、ドンキは探すことも楽しさに繋がるの...</td>\n",
       "      <td>MEGAドン・キホーテ長野店</td>\n",
       "      <td>3695.0000</td>\n",
       "    </tr>\n",
       "    <tr>\n",
       "      <th>2</th>\n",
       "      <td>近い。</td>\n",
       "      <td>MEGAドン・キホーテ長野店</td>\n",
       "      <td>1620.0000</td>\n",
       "    </tr>\n",
       "    <tr>\n",
       "      <th>3</th>\n",
       "      <td>レジの時にクーポンのご利用はありますかと一言あると嬉しいです。</td>\n",
       "      <td>MEGAドン・キホーテ長野店</td>\n",
       "      <td>756.0000</td>\n",
       "    </tr>\n",
       "    <tr>\n",
       "      <th>4</th>\n",
       "      <td>ミニトマト、ハナノアが安いから。</td>\n",
       "      <td>MEGAドン・キホーテ長野店</td>\n",
       "      <td>753.0000</td>\n",
       "    </tr>\n",
       "    <tr>\n",
       "      <th>...</th>\n",
       "      <td>...</td>\n",
       "      <td>...</td>\n",
       "      <td>...</td>\n",
       "    </tr>\n",
       "    <tr>\n",
       "      <th>174030</th>\n",
       "      <td>他のドンキホーテも、あまり好きではない。物がごちゃごちゃして、先をみわたすことができず、目当...</td>\n",
       "      <td>MEGAドン・キホーテUNY大覚寺店</td>\n",
       "      <td>2835.0000</td>\n",
       "    </tr>\n",
       "    <tr>\n",
       "      <th>174031</th>\n",
       "      <td>ほしいのがあるので。</td>\n",
       "      <td>ドン・キホーテ セブンパークアリオ柏店</td>\n",
       "      <td>877.0000</td>\n",
       "    </tr>\n",
       "    <tr>\n",
       "      <th>174032</th>\n",
       "      <td>安い品が多いから！</td>\n",
       "      <td>ドン・キホーテ セブンパークアリオ柏店</td>\n",
       "      <td>877.0000</td>\n",
       "    </tr>\n",
       "    <tr>\n",
       "      <th>174033</th>\n",
       "      <td>いろんなコンタクトレンズあるから</td>\n",
       "      <td>ドン・キホーテ セブンパークアリオ柏店</td>\n",
       "      <td>3035.0000</td>\n",
       "    </tr>\n",
       "    <tr>\n",
       "      <th>174034</th>\n",
       "      <td>好きな商品が置いてあるから</td>\n",
       "      <td>ドン・キホーテ セブンパークアリオ柏店</td>\n",
       "      <td>860.0000</td>\n",
       "    </tr>\n",
       "  </tbody>\n",
       "</table>\n",
       "<p>174035 rows × 3 columns</p>\n",
       "</div>"
      ],
      "text/plain": [
       "                                          answer_question  \\\n",
       "0       品物豊富で何でもそろう！クーポンがあったり、大盛り肉が安くて助かる！幼児用の立つカートがあっ...   \n",
       "1       他店に比べて商品が多いので、欲しい商品を探すのも大変だが、ドンキは探すことも楽しさに繋がるの...   \n",
       "2                                                     近い。   \n",
       "3                         レジの時にクーポンのご利用はありますかと一言あると嬉しいです。   \n",
       "4                                        ミニトマト、ハナノアが安いから。   \n",
       "...                                                   ...   \n",
       "174030  他のドンキホーテも、あまり好きではない。物がごちゃごちゃして、先をみわたすことができず、目当...   \n",
       "174031                                         ほしいのがあるので。   \n",
       "174032                                          安い品が多いから！   \n",
       "174033                                   いろんなコンタクトレンズあるから   \n",
       "174034                                      好きな商品が置いてあるから   \n",
       "\n",
       "                 store_name  buying_amount  \n",
       "0            MEGAドン・キホーテ長野店     14025.0000  \n",
       "1            MEGAドン・キホーテ長野店      3695.0000  \n",
       "2            MEGAドン・キホーテ長野店      1620.0000  \n",
       "3            MEGAドン・キホーテ長野店       756.0000  \n",
       "4            MEGAドン・キホーテ長野店       753.0000  \n",
       "...                     ...            ...  \n",
       "174030   MEGAドン・キホーテUNY大覚寺店      2835.0000  \n",
       "174031  ドン・キホーテ セブンパークアリオ柏店       877.0000  \n",
       "174032  ドン・キホーテ セブンパークアリオ柏店       877.0000  \n",
       "174033  ドン・キホーテ セブンパークアリオ柏店      3035.0000  \n",
       "174034  ドン・キホーテ セブンパークアリオ柏店       860.0000  \n",
       "\n",
       "[174035 rows x 3 columns]"
      ]
     },
     "execution_count": 79,
     "metadata": {},
     "output_type": "execute_result"
    }
   ],
   "source": [
    "voc_all_df = pd.read_csv(\n",
    "    os.path.join(DATA_DIR, 'data.csv'), encoding='cp932')\n",
    "\n",
    "print(voc_all_df.columns)\n",
    "\n",
    "voc_all_df = voc_all_df[['answer_question', 'store_name', 'buying_amount']]\n",
    "print(voc_all_df.shape)\n",
    "\n",
    "voc_all_df"
   ]
  },
  {
   "cell_type": "markdown",
   "metadata": {},
   "source": [
    "### Store"
   ]
  },
  {
   "cell_type": "code",
   "execution_count": 7,
   "metadata": {},
   "outputs": [
    {
     "data": {
      "text/plain": [
       "487"
      ]
     },
     "execution_count": 7,
     "metadata": {},
     "output_type": "execute_result"
    }
   ],
   "source": [
    "store_list = voc_all_df['store_name'].unique()\n",
    "len(store_list)"
   ]
  },
  {
   "cell_type": "code",
   "execution_count": 8,
   "metadata": {},
   "outputs": [],
   "source": [
    "with open(os.path.join(DATA_DIR, 'store_list.txt'), mode='w', encoding='cp932') as f:\n",
    "    f.write('\\n'.join(store_list))"
   ]
  },
  {
   "cell_type": "markdown",
   "metadata": {},
   "source": [
    "## EDA"
   ]
  },
  {
   "cell_type": "code",
   "execution_count": 9,
   "metadata": {},
   "outputs": [
    {
     "data": {
      "text/plain": [
       "store_name\n",
       "MEGAドン・キホーテUNY東海通店        1763\n",
       "MEGAドン・キホーテ大森山王店          1680\n",
       "MEGAドン・キホーテ 福重店           1427\n",
       "二俣川店                      1387\n",
       "MEGAドン・キホーテUNY稲沢東店        1339\n",
       "                          ... \n",
       "キラキラドンキ ダイバーシティ東京 プラザ店       4\n",
       "ミチドンキ NEOPASA清水店             4\n",
       "情熱職人東松山店                     2\n",
       "お菓子ドンキ・お酒ドンキ店                2\n",
       "情熱職人昭島店                      1\n",
       "Name: answer_question, Length: 487, dtype: int64"
      ]
     },
     "execution_count": 9,
     "metadata": {},
     "output_type": "execute_result"
    }
   ],
   "source": [
    "voc_all_df.groupby('store_name')['answer_question'].count().sort_values(ascending=False)\n",
    "# .to_csv(os.path.join(DATA_DIR, 'store_list.csv'))"
   ]
  },
  {
   "cell_type": "code",
   "execution_count": 10,
   "metadata": {},
   "outputs": [
    {
     "data": {
      "image/png": "[encoded data removed]",
      "text/plain": [
       "<Figure size 640x480 with 1 Axes>"
      ]
     },
     "metadata": {},
     "output_type": "display_data"
    }
   ],
   "source": [
    "voc_all_df.groupby('store_name')['answer_question'].count().sort_values(ascending=False).hist(bins=50)\n",
    "plt.title('店舗あたりVoC数の分布')\n",
    "plt.xlabel('VoC数')\n",
    "plt.ylabel('店舗数')\n",
    "plt.show()"
   ]
  },
  {
   "cell_type": "code",
   "execution_count": 11,
   "metadata": {},
   "outputs": [
    {
     "data": {
      "text/plain": [
       "store_name\n",
       "MEGAドン・キホーテUNY東海通店     7948933\n",
       "MEGAドン・キホーテ大森山王店       6926261\n",
       "MEGAドン・キホーテ 福重店        6691316\n",
       "MEGAドン・キホーテ豊橋店         6351837\n",
       "MEGAドン・キホーテUNY稲沢東店     5759663\n",
       "                        ...   \n",
       "情熱職人昭島店                  12360\n",
       "ドン・キホーテ ららぽーと立川立飛店        8898\n",
       "ドン・キホーテ セブンパークアリオ柏店       5649\n",
       "ミチドンキ NEOPASA清水店          4692\n",
       "お菓子ドンキ・お酒ドンキ店             1241\n",
       "Name: buying_amount, Length: 487, dtype: int32"
      ]
     },
     "execution_count": 11,
     "metadata": {},
     "output_type": "execute_result"
    }
   ],
   "source": [
    "voc_all_df.groupby('store_name')['buying_amount'].sum().sort_values(ascending=False).astype(int)\n",
    "# .to_csv(os.path.join(DATA_DIR, ''))"
   ]
  },
  {
   "cell_type": "code",
   "execution_count": 12,
   "metadata": {},
   "outputs": [
    {
     "data": {
      "image/png": "[encoded data removed]",
      "text/plain": [
       "<Figure size 640x480 with 1 Axes>"
      ]
     },
     "metadata": {},
     "output_type": "display_data"
    }
   ],
   "source": [
    "voc_all_df.groupby('store_name')['buying_amount'].sum().sort_values(ascending=False).astype(int).hist(bins=50)\n",
    "plt.title('店舗あたり売上(Thankyouメール送信者のみ)')\n",
    "plt.xlabel('売上')\n",
    "plt.ylabel('店舗数')\n",
    "plt.show()"
   ]
  },
  {
   "cell_type": "markdown",
   "metadata": {},
   "source": [
    "## Inference"
   ]
  },
  {
   "cell_type": "code",
   "execution_count": 128,
   "metadata": {},
   "outputs": [],
   "source": [
    "target_store_list = ['MEGAドン・キホーテUNY東海通店', 'MEGAドン・キホーテUNY 横浜大口店', 'ドン・キホーテ 川西店', 'ドン・キホーテ 六本木店','小樽店']\n",
    "# MEGAドン・キホーテUNY東海通店: 1763\n",
    "# MEGAドン・キホーテUNY 横浜大口店: 809\n",
    "# 川西店: 304\n",
    "# ドン・キホーテ 六本木店: 136\n",
    "# 小樽店: 92"
   ]
  },
  {
   "cell_type": "code",
   "execution_count": 84,
   "metadata": {},
   "outputs": [
    {
     "data": {
      "text/plain": [
       "78788"
      ]
     },
     "execution_count": 84,
     "metadata": {},
     "output_type": "execute_result"
    }
   ],
   "source": []
  },
  {
   "cell_type": "code",
   "execution_count": 82,
   "metadata": {},
   "outputs": [
    {
     "name": "stderr",
     "output_type": "stream",
     "text": [
      "c:\\Users\\mak1_\\Documents\\Code\\nlp\\.venv\\lib\\site-packages\\transformers\\pipelines\\text_classification.py:104: UserWarning: `return_all_scores` is now deprecated,  if want a similar functionality use `top_k=None` instead of `return_all_scores=True` or `top_k=1` instead of `return_all_scores=False`.\n",
      "  warnings.warn(\n",
      "C:\\Users\\mak1_\\AppData\\Local\\Temp\\ipykernel_5340\\4099118025.py:2: SettingWithCopyWarning: \n",
      "A value is trying to be set on a copy of a slice from a DataFrame.\n",
      "Try using .loc[row_indexer,col_indexer] = value instead\n",
      "\n",
      "See the caveats in the documentation: https://pandas.pydata.org/pandas-docs/stable/user_guide/indexing.html#returning-a-view-versus-a-copy\n",
      "  _df['sentiment_results'] = _df['answer_question'].apply(lambda x: sentiment_analyzer(x, return_all_scores=True))\n"
     ]
    }
   ],
   "source": [
    "_df = voc_all_df.query('store_name in @target_store_list')\n",
    "from compute_sentiment_score import compute_sentiment_score_by_BERT\n",
    "FT_MODEL_DIR = '../sentiment_classification/'\n",
    "\n",
    "_df = compute_sentiment_score_by_BERT(\n",
    "    df=_df, \n",
    "    model_path=os.path.join(FT_MODEL_DIR, 'results_bert-base-japanese-v3_50'),\n",
    "    tokenizer_model='cl-tohoku/bert-large-japanese-v2')"
   ]
  },
  {
   "cell_type": "code",
   "execution_count": null,
   "metadata": {},
   "outputs": [],
   "source": [
    "_df['answer_question'].apply(lambda x: len(x)).sum()"
   ]
  },
  {
   "cell_type": "markdown",
   "metadata": {},
   "source": [
    "3104件で1分20秒程度"
   ]
  },
  {
   "cell_type": "markdown",
   "metadata": {},
   "source": [
    "- label (str) – The label predicted.\n",
    "- score (float) – The corresponding probability."
   ]
  },
  {
   "cell_type": "code",
   "execution_count": 3,
   "metadata": {},
   "outputs": [],
   "source": [
    "# _df.to_csv(os.path.join(DATA_DIR, 'scores_for_target_stores.csv'), index=False)\n",
    "_df = pd.read_csv(os.path.join(DATA_DIR, 'scores_for_target_stores.csv'))"
   ]
  },
  {
   "cell_type": "code",
   "execution_count": 4,
   "metadata": {},
   "outputs": [],
   "source": [
    "from compute_sentiment_score import compute_sentiment_score\n",
    "_df = compute_sentiment_score(_df)"
   ]
  },
  {
   "cell_type": "code",
   "execution_count": 5,
   "metadata": {},
   "outputs": [
    {
     "data": {
      "text/html": [
       "<div>\n",
       "<style scoped>\n",
       "    .dataframe tbody tr th:only-of-type {\n",
       "        vertical-align: middle;\n",
       "    }\n",
       "\n",
       "    .dataframe tbody tr th {\n",
       "        vertical-align: top;\n",
       "    }\n",
       "\n",
       "    .dataframe thead th {\n",
       "        text-align: right;\n",
       "    }\n",
       "</style>\n",
       "<table border=\"1\" class=\"dataframe\">\n",
       "  <thead>\n",
       "    <tr style=\"text-align: right;\">\n",
       "      <th></th>\n",
       "      <th>answer_question</th>\n",
       "      <th>store_name</th>\n",
       "      <th>buying_amount</th>\n",
       "      <th>sentiment_results</th>\n",
       "      <th>sentiment_label</th>\n",
       "      <th>sentiment_score</th>\n",
       "    </tr>\n",
       "  </thead>\n",
       "  <tbody>\n",
       "    <tr>\n",
       "      <th>0</th>\n",
       "      <td>よかったみたいなのでまた利用します。</td>\n",
       "      <td>ドン・キホーテ 川西店</td>\n",
       "      <td>1665.0000</td>\n",
       "      <td>[[{'label': 'NEGATIVE', 'score': 2.82993642031...</td>\n",
       "      <td>positive</td>\n",
       "      <td>0.9960</td>\n",
       "    </tr>\n",
       "    <tr>\n",
       "      <th>1</th>\n",
       "      <td>リンドールのチョコレートをお安く提供してほしいです</td>\n",
       "      <td>ドン・キホーテ 川西店</td>\n",
       "      <td>5615.0000</td>\n",
       "      <td>[[{'label': 'NEGATIVE', 'score': 3.36916200467...</td>\n",
       "      <td>positive</td>\n",
       "      <td>0.9968</td>\n",
       "    </tr>\n",
       "    <tr>\n",
       "      <th>2</th>\n",
       "      <td>家から近いから。</td>\n",
       "      <td>ドン・キホーテ 川西店</td>\n",
       "      <td>1235.0000</td>\n",
       "      <td>[[{'label': 'NEGATIVE', 'score': 0.00019125168...</td>\n",
       "      <td>neutral</td>\n",
       "      <td>0.4472</td>\n",
       "    </tr>\n",
       "    <tr>\n",
       "      <th>3</th>\n",
       "      <td>商品が安いから</td>\n",
       "      <td>ドン・キホーテ 川西店</td>\n",
       "      <td>2130.0000</td>\n",
       "      <td>[[{'label': 'NEGATIVE', 'score': 0.00199854490...</td>\n",
       "      <td>positive</td>\n",
       "      <td>0.8022</td>\n",
       "    </tr>\n",
       "    <tr>\n",
       "      <th>4</th>\n",
       "      <td>良い</td>\n",
       "      <td>ドン・キホーテ 川西店</td>\n",
       "      <td>6290.0000</td>\n",
       "      <td>[[{'label': 'NEGATIVE', 'score': 3.88607950299...</td>\n",
       "      <td>positive</td>\n",
       "      <td>0.9858</td>\n",
       "    </tr>\n",
       "    <tr>\n",
       "      <th>...</th>\n",
       "      <td>...</td>\n",
       "      <td>...</td>\n",
       "      <td>...</td>\n",
       "      <td>...</td>\n",
       "      <td>...</td>\n",
       "      <td>...</td>\n",
       "    </tr>\n",
       "    <tr>\n",
       "      <th>3099</th>\n",
       "      <td>いつも決まって買う物があるので</td>\n",
       "      <td>ドン・キホーテ 六本木店</td>\n",
       "      <td>2935.0000</td>\n",
       "      <td>[[{'label': 'NEGATIVE', 'score': 2.92688164336...</td>\n",
       "      <td>neutral</td>\n",
       "      <td>0.4472</td>\n",
       "    </tr>\n",
       "    <tr>\n",
       "      <th>3100</th>\n",
       "      <td>焼き芋がおいしすぎる??</td>\n",
       "      <td>ドン・キホーテ 六本木店</td>\n",
       "      <td>3165.0000</td>\n",
       "      <td>[[{'label': 'NEGATIVE', 'score': 0.99972754716...</td>\n",
       "      <td>negative</td>\n",
       "      <td>0.0901</td>\n",
       "    </tr>\n",
       "    <tr>\n",
       "      <th>3101</th>\n",
       "      <td>六本木店は透明のプラ袋を置いていないので、焼き芋を購入したら、必ずプラ袋に入れてほしい。こち...</td>\n",
       "      <td>ドン・キホーテ 六本木店</td>\n",
       "      <td>1130.0000</td>\n",
       "      <td>[[{'label': 'NEGATIVE', 'score': 0.99994206428...</td>\n",
       "      <td>negative</td>\n",
       "      <td>0.0117</td>\n",
       "    </tr>\n",
       "    <tr>\n",
       "      <th>3102</th>\n",
       "      <td>周辺2kmくらいに、ドンキに匹敵するようなオモ楽しいお店はありませんから！</td>\n",
       "      <td>ドン・キホーテ 六本木店</td>\n",
       "      <td>2360.0000</td>\n",
       "      <td>[[{'label': 'NEGATIVE', 'score': 2.63045658357...</td>\n",
       "      <td>neutral</td>\n",
       "      <td>0.4472</td>\n",
       "    </tr>\n",
       "    <tr>\n",
       "      <th>3103</th>\n",
       "      <td>クレジットカード決済でポイントが貯まらないなら</td>\n",
       "      <td>ドン・キホーテ 六本木店</td>\n",
       "      <td>4200.0000</td>\n",
       "      <td>[[{'label': 'NEGATIVE', 'score': 0.99994540214...</td>\n",
       "      <td>negative</td>\n",
       "      <td>0.0087</td>\n",
       "    </tr>\n",
       "  </tbody>\n",
       "</table>\n",
       "<p>3104 rows × 6 columns</p>\n",
       "</div>"
      ],
      "text/plain": [
       "                                        answer_question    store_name  \\\n",
       "0                                    よかったみたいなのでまた利用します。   ドン・キホーテ 川西店   \n",
       "1                             リンドールのチョコレートをお安く提供してほしいです   ドン・キホーテ 川西店   \n",
       "2                                              家から近いから。   ドン・キホーテ 川西店   \n",
       "3                                               商品が安いから   ドン・キホーテ 川西店   \n",
       "4                                                    良い   ドン・キホーテ 川西店   \n",
       "...                                                 ...           ...   \n",
       "3099                                    いつも決まって買う物があるので  ドン・キホーテ 六本木店   \n",
       "3100                                       焼き芋がおいしすぎる??  ドン・キホーテ 六本木店   \n",
       "3101  六本木店は透明のプラ袋を置いていないので、焼き芋を購入したら、必ずプラ袋に入れてほしい。こち...  ドン・キホーテ 六本木店   \n",
       "3102              周辺2kmくらいに、ドンキに匹敵するようなオモ楽しいお店はありませんから！  ドン・キホーテ 六本木店   \n",
       "3103                            クレジットカード決済でポイントが貯まらないなら  ドン・キホーテ 六本木店   \n",
       "\n",
       "      buying_amount                                  sentiment_results  \\\n",
       "0         1665.0000  [[{'label': 'NEGATIVE', 'score': 2.82993642031...   \n",
       "1         5615.0000  [[{'label': 'NEGATIVE', 'score': 3.36916200467...   \n",
       "2         1235.0000  [[{'label': 'NEGATIVE', 'score': 0.00019125168...   \n",
       "3         2130.0000  [[{'label': 'NEGATIVE', 'score': 0.00199854490...   \n",
       "4         6290.0000  [[{'label': 'NEGATIVE', 'score': 3.88607950299...   \n",
       "...             ...                                                ...   \n",
       "3099      2935.0000  [[{'label': 'NEGATIVE', 'score': 2.92688164336...   \n",
       "3100      3165.0000  [[{'label': 'NEGATIVE', 'score': 0.99972754716...   \n",
       "3101      1130.0000  [[{'label': 'NEGATIVE', 'score': 0.99994206428...   \n",
       "3102      2360.0000  [[{'label': 'NEGATIVE', 'score': 2.63045658357...   \n",
       "3103      4200.0000  [[{'label': 'NEGATIVE', 'score': 0.99994540214...   \n",
       "\n",
       "     sentiment_label  sentiment_score  \n",
       "0           positive           0.9960  \n",
       "1           positive           0.9968  \n",
       "2            neutral           0.4472  \n",
       "3           positive           0.8022  \n",
       "4           positive           0.9858  \n",
       "...              ...              ...  \n",
       "3099         neutral           0.4472  \n",
       "3100        negative           0.0901  \n",
       "3101        negative           0.0117  \n",
       "3102         neutral           0.4472  \n",
       "3103        negative           0.0087  \n",
       "\n",
       "[3104 rows x 6 columns]"
      ]
     },
     "execution_count": 5,
     "metadata": {},
     "output_type": "execute_result"
    }
   ],
   "source": [
    "_df"
   ]
  },
  {
   "cell_type": "code",
   "execution_count": 141,
   "metadata": {},
   "outputs": [
    {
     "name": "stdout",
     "output_type": "stream",
     "text": [
      "store_name:  MEGAドン・キホーテUNY東海通店\n",
      "score_avg:  68.6983131159475\n",
      "score_median:  0.9429210673618121\n",
      "sentiment_label\n",
      "positive    1102\n",
      "negative     351\n",
      "neutral      310\n",
      "Name: count, dtype: int64\n"
     ]
    },
    {
     "data": {
      "image/png": "[encoded data removed]",
      "text/plain": [
       "<Figure size 300x300 with 1 Axes>"
      ]
     },
     "metadata": {},
     "output_type": "display_data"
    },
    {
     "name": "stdout",
     "output_type": "stream",
     "text": [
      "store_name:  MEGAドン・キホーテUNY 横浜大口店\n",
      "score_avg:  66.39181242436081\n",
      "score_median:  0.8854002667385427\n",
      "sentiment_label\n",
      "positive    473\n",
      "neutral     171\n",
      "negative    165\n",
      "Name: count, dtype: int64\n"
     ]
    },
    {
     "data": {
      "image/png": "[encoded data removed]",
      "text/plain": [
       "<Figure size 300x300 with 1 Axes>"
      ]
     },
     "metadata": {},
     "output_type": "display_data"
    },
    {
     "name": "stdout",
     "output_type": "stream",
     "text": [
      "store_name:  ドン・キホーテ 川西店\n",
      "score_avg:  74.34988379207358\n",
      "score_median:  0.9708651016054768\n",
      "sentiment_label\n",
      "positive    213\n",
      "neutral      46\n",
      "negative     45\n",
      "Name: count, dtype: int64\n"
     ]
    },
    {
     "data": {
      "image/png": "[encoded data removed]",
      "text/plain": [
       "<Figure size 300x300 with 1 Axes>"
      ]
     },
     "metadata": {},
     "output_type": "display_data"
    },
    {
     "name": "stdout",
     "output_type": "stream",
     "text": [
      "store_name:  ドン・キホーテ 六本木店\n",
      "score_avg:  68.96671989235092\n",
      "score_median:  0.9032083775075734\n",
      "sentiment_label\n",
      "positive    90\n",
      "negative    26\n",
      "neutral     20\n",
      "Name: count, dtype: int64\n"
     ]
    },
    {
     "data": {
      "image/png": "[encoded data removed]",
      "text/plain": [
       "<Figure size 300x300 with 1 Axes>"
      ]
     },
     "metadata": {},
     "output_type": "display_data"
    },
    {
     "name": "stdout",
     "output_type": "stream",
     "text": [
      "store_name:  小樽店\n",
      "score_avg:  74.71077252062499\n",
      "score_median:  0.9473787839952803\n",
      "sentiment_label\n",
      "positive    62\n",
      "neutral     19\n",
      "negative    11\n",
      "Name: count, dtype: int64\n"
     ]
    },
    {
     "data": {
      "image/png": "[encoded data removed]",
      "text/plain": [
       "<Figure size 300x300 with 1 Axes>"
      ]
     },
     "metadata": {},
     "output_type": "display_data"
    }
   ],
   "source": [
    "scores = []\n",
    "\n",
    "for store_name in target_store_list:\n",
    "  target_df = _df.query('store_name == @store_name')\n",
    "  print('store_name: ', store_name)\n",
    "  score_avg = target_df['sentiment_score'].mean() * 100\n",
    "  score_median = target_df['sentiment_score'].median()\n",
    "  print('score_avg: ', score_avg)\n",
    "  print('score_median: ', score_median)\n",
    "  print(target_df['sentiment_label'].value_counts())\n",
    "  target_df['sentiment_label'].value_counts().plot(kind='pie', autopct='%1.1f%%', figsize=(3, 3), startangle=90)\n",
    "  plt.title(store_name)\n",
    "  plt.ylabel('%')\n",
    "  plt.show()\n",
    "\n",
    "  scores.append([store_name, score_avg])"
   ]
  },
  {
   "cell_type": "code",
   "execution_count": 142,
   "metadata": {},
   "outputs": [
    {
     "data": {
      "text/plain": [
       "store_name\n",
       "MEGAドン・キホーテUNY東海通店      1763\n",
       "MEGAドン・キホーテUNY 横浜大口店     809\n",
       "ドン・キホーテ 川西店              304\n",
       "ドン・キホーテ 六本木店             136\n",
       "小樽店                       92\n",
       "Name: count, dtype: int64"
      ]
     },
     "execution_count": 142,
     "metadata": {},
     "output_type": "execute_result"
    }
   ],
   "source": [
    "_df['store_name'].value_counts()"
   ]
  },
  {
   "cell_type": "code",
   "execution_count": 143,
   "metadata": {},
   "outputs": [
    {
     "data": {
      "text/html": [
       "<div>\n",
       "<style scoped>\n",
       "    .dataframe tbody tr th:only-of-type {\n",
       "        vertical-align: middle;\n",
       "    }\n",
       "\n",
       "    .dataframe tbody tr th {\n",
       "        vertical-align: top;\n",
       "    }\n",
       "\n",
       "    .dataframe thead th {\n",
       "        text-align: right;\n",
       "    }\n",
       "</style>\n",
       "<table border=\"1\" class=\"dataframe\">\n",
       "  <thead>\n",
       "    <tr style=\"text-align: right;\">\n",
       "      <th></th>\n",
       "      <th>店舗名</th>\n",
       "      <th>スコア平均</th>\n",
       "    </tr>\n",
       "  </thead>\n",
       "  <tbody>\n",
       "    <tr>\n",
       "      <th>4</th>\n",
       "      <td>小樽店</td>\n",
       "      <td>74.7108</td>\n",
       "    </tr>\n",
       "    <tr>\n",
       "      <th>2</th>\n",
       "      <td>ドン・キホーテ 川西店</td>\n",
       "      <td>74.3499</td>\n",
       "    </tr>\n",
       "    <tr>\n",
       "      <th>3</th>\n",
       "      <td>ドン・キホーテ 六本木店</td>\n",
       "      <td>68.9667</td>\n",
       "    </tr>\n",
       "    <tr>\n",
       "      <th>0</th>\n",
       "      <td>MEGAドン・キホーテUNY東海通店</td>\n",
       "      <td>68.6983</td>\n",
       "    </tr>\n",
       "    <tr>\n",
       "      <th>1</th>\n",
       "      <td>MEGAドン・キホーテUNY 横浜大口店</td>\n",
       "      <td>66.3918</td>\n",
       "    </tr>\n",
       "  </tbody>\n",
       "</table>\n",
       "</div>"
      ],
      "text/plain": [
       "                    店舗名   スコア平均\n",
       "4                   小樽店 74.7108\n",
       "2           ドン・キホーテ 川西店 74.3499\n",
       "3          ドン・キホーテ 六本木店 68.9667\n",
       "0    MEGAドン・キホーテUNY東海通店 68.6983\n",
       "1  MEGAドン・キホーテUNY 横浜大口店 66.3918"
      ]
     },
     "metadata": {},
     "output_type": "display_data"
    },
    {
     "data": {
      "image/png": "[encoded data removed]",
      "text/plain": [
       "<Figure size 1000x300 with 1 Axes>"
      ]
     },
     "metadata": {},
     "output_type": "display_data"
    }
   ],
   "source": [
    "score_df = pd.DataFrame(scores, columns=['店舗名', 'スコア平均']).sort_values('スコア平均', ascending=False)\n",
    "\n",
    "display(score_df)\n",
    "\n",
    "fig, ax = plt.subplots(figsize=(10, 3))\n",
    "sns.barplot(x='スコア平均', y='店舗名', data=score_df, ax=ax)\n",
    "ax.set_title('店舗スコア')\n",
    "ax.set_xlim(0, 100)\n",
    "plt.show()"
   ]
  },
  {
   "cell_type": "code",
   "execution_count": 144,
   "metadata": {},
   "outputs": [
    {
     "data": {
      "text/html": [
       "<div>\n",
       "<style scoped>\n",
       "    .dataframe tbody tr th:only-of-type {\n",
       "        vertical-align: middle;\n",
       "    }\n",
       "\n",
       "    .dataframe tbody tr th {\n",
       "        vertical-align: top;\n",
       "    }\n",
       "\n",
       "    .dataframe thead th {\n",
       "        text-align: right;\n",
       "    }\n",
       "</style>\n",
       "<table border=\"1\" class=\"dataframe\">\n",
       "  <thead>\n",
       "    <tr style=\"text-align: right;\">\n",
       "      <th></th>\n",
       "      <th>answer_question</th>\n",
       "      <th>store_name</th>\n",
       "      <th>buying_amount</th>\n",
       "      <th>sentiment_label</th>\n",
       "      <th>sentiment_score</th>\n",
       "    </tr>\n",
       "  </thead>\n",
       "  <tbody>\n",
       "    <tr>\n",
       "      <th>0</th>\n",
       "      <td>よかったみたいなのでまた利用します。</td>\n",
       "      <td>ドン・キホーテ 川西店</td>\n",
       "      <td>1665.0000</td>\n",
       "      <td>positive</td>\n",
       "      <td>0.9960</td>\n",
       "    </tr>\n",
       "    <tr>\n",
       "      <th>1</th>\n",
       "      <td>リンドールのチョコレートをお安く提供してほしいです</td>\n",
       "      <td>ドン・キホーテ 川西店</td>\n",
       "      <td>5615.0000</td>\n",
       "      <td>positive</td>\n",
       "      <td>0.9968</td>\n",
       "    </tr>\n",
       "    <tr>\n",
       "      <th>2</th>\n",
       "      <td>家から近いから。</td>\n",
       "      <td>ドン・キホーテ 川西店</td>\n",
       "      <td>1235.0000</td>\n",
       "      <td>neutral</td>\n",
       "      <td>0.4472</td>\n",
       "    </tr>\n",
       "    <tr>\n",
       "      <th>3</th>\n",
       "      <td>商品が安いから</td>\n",
       "      <td>ドン・キホーテ 川西店</td>\n",
       "      <td>2130.0000</td>\n",
       "      <td>positive</td>\n",
       "      <td>0.8022</td>\n",
       "    </tr>\n",
       "    <tr>\n",
       "      <th>4</th>\n",
       "      <td>良い</td>\n",
       "      <td>ドン・キホーテ 川西店</td>\n",
       "      <td>6290.0000</td>\n",
       "      <td>positive</td>\n",
       "      <td>0.9858</td>\n",
       "    </tr>\n",
       "    <tr>\n",
       "      <th>...</th>\n",
       "      <td>...</td>\n",
       "      <td>...</td>\n",
       "      <td>...</td>\n",
       "      <td>...</td>\n",
       "      <td>...</td>\n",
       "    </tr>\n",
       "    <tr>\n",
       "      <th>3099</th>\n",
       "      <td>いつも決まって買う物があるので</td>\n",
       "      <td>ドン・キホーテ 六本木店</td>\n",
       "      <td>2935.0000</td>\n",
       "      <td>neutral</td>\n",
       "      <td>0.4472</td>\n",
       "    </tr>\n",
       "    <tr>\n",
       "      <th>3100</th>\n",
       "      <td>焼き芋がおいしすぎる??</td>\n",
       "      <td>ドン・キホーテ 六本木店</td>\n",
       "      <td>3165.0000</td>\n",
       "      <td>negative</td>\n",
       "      <td>0.0901</td>\n",
       "    </tr>\n",
       "    <tr>\n",
       "      <th>3101</th>\n",
       "      <td>六本木店は透明のプラ袋を置いていないので、焼き芋を購入したら、必ずプラ袋に入れてほしい。こち...</td>\n",
       "      <td>ドン・キホーテ 六本木店</td>\n",
       "      <td>1130.0000</td>\n",
       "      <td>negative</td>\n",
       "      <td>0.0117</td>\n",
       "    </tr>\n",
       "    <tr>\n",
       "      <th>3102</th>\n",
       "      <td>周辺2kmくらいに、ドンキに匹敵するようなオモ楽しいお店はありませんから！</td>\n",
       "      <td>ドン・キホーテ 六本木店</td>\n",
       "      <td>2360.0000</td>\n",
       "      <td>neutral</td>\n",
       "      <td>0.4472</td>\n",
       "    </tr>\n",
       "    <tr>\n",
       "      <th>3103</th>\n",
       "      <td>クレジットカード決済でポイントが貯まらないなら</td>\n",
       "      <td>ドン・キホーテ 六本木店</td>\n",
       "      <td>4200.0000</td>\n",
       "      <td>negative</td>\n",
       "      <td>0.0087</td>\n",
       "    </tr>\n",
       "  </tbody>\n",
       "</table>\n",
       "<p>3104 rows × 5 columns</p>\n",
       "</div>"
      ],
      "text/plain": [
       "                                        answer_question    store_name  \\\n",
       "0                                    よかったみたいなのでまた利用します。   ドン・キホーテ 川西店   \n",
       "1                             リンドールのチョコレートをお安く提供してほしいです   ドン・キホーテ 川西店   \n",
       "2                                              家から近いから。   ドン・キホーテ 川西店   \n",
       "3                                               商品が安いから   ドン・キホーテ 川西店   \n",
       "4                                                    良い   ドン・キホーテ 川西店   \n",
       "...                                                 ...           ...   \n",
       "3099                                    いつも決まって買う物があるので  ドン・キホーテ 六本木店   \n",
       "3100                                       焼き芋がおいしすぎる??  ドン・キホーテ 六本木店   \n",
       "3101  六本木店は透明のプラ袋を置いていないので、焼き芋を購入したら、必ずプラ袋に入れてほしい。こち...  ドン・キホーテ 六本木店   \n",
       "3102              周辺2kmくらいに、ドンキに匹敵するようなオモ楽しいお店はありませんから！  ドン・キホーテ 六本木店   \n",
       "3103                            クレジットカード決済でポイントが貯まらないなら  ドン・キホーテ 六本木店   \n",
       "\n",
       "      buying_amount sentiment_label  sentiment_score  \n",
       "0         1665.0000        positive           0.9960  \n",
       "1         5615.0000        positive           0.9968  \n",
       "2         1235.0000         neutral           0.4472  \n",
       "3         2130.0000        positive           0.8022  \n",
       "4         6290.0000        positive           0.9858  \n",
       "...             ...             ...              ...  \n",
       "3099      2935.0000         neutral           0.4472  \n",
       "3100      3165.0000        negative           0.0901  \n",
       "3101      1130.0000        negative           0.0117  \n",
       "3102      2360.0000         neutral           0.4472  \n",
       "3103      4200.0000        negative           0.0087  \n",
       "\n",
       "[3104 rows x 5 columns]"
      ]
     },
     "execution_count": 144,
     "metadata": {},
     "output_type": "execute_result"
    }
   ],
   "source": [
    "_df[['answer_question', 'store_name', 'buying_amount', 'sentiment_label', 'sentiment_score']]"
   ]
  }
 ],
 "metadata": {
  "interpreter": {
   "hash": "1685e972c8e6ae035eec8c83118266536b1044e7517d791fce49ac42e275e5e1"
  },
  "kernelspec": {
   "display_name": "Python 3.10.4 ('.venv': poetry)",
   "language": "python",
   "name": "python3"
  },
  "language_info": {
   "codemirror_mode": {
    "name": "ipython",
    "version": 3
   },
   "file_extension": ".py",
   "mimetype": "text/x-python",
   "name": "python",
   "nbconvert_exporter": "python",
   "pygments_lexer": "ipython3",
   "version": "3.10.4"
  },
  "orig_nbformat": 4
 },
 "nbformat": 4,
 "nbformat_minor": 2
}
