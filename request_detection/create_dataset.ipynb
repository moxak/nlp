{
 "cells": [
  {
   "cell_type": "code",
   "execution_count": null,
   "metadata": {},
   "outputs": [],
   "source": [
    "import pandas as pd\n",
    "\n",
    "# データの読み込み\n",
    "filepath = '../origin/categorize.csv'\n",
    "df = pd.read_csv(filepath)[['mail', 'sentiment']]\n",
    "display(df['sentiment'].value_counts())\n",
    "\n",
    "# ニュートラルを除外\n",
    "# df = df[df['sentiment'] != 'NEUTRAL']\n",
    "\n",
    "# ラベルを数値に変換\n",
    "df['sentiment'] = df['sentiment'].map(label_map)\n",
    "display(df['sentiment'].value_counts())\n",
    "\n",
    "df.rename(columns={'mail':'text', 'sentiment':'label'}, inplace=True)\n",
    "\n",
    "from sklearn.model_selection import train_test_split\n",
    "\n",
    "X_train, X_test, y_train, y_test = train_test_split(\n",
    "    df['text'], df['label'], train_size=0.5, random_state=42, stratify=df['label'])\n",
    "\n",
    "X_test, X_eval, y_test, y_eval = train_test_split(\n",
    "    X_test, y_test, train_size=0.5, random_state=42, stratify=y_test)"
   ]
  }
 ],
 "metadata": {
  "language_info": {
   "name": "python"
  },
  "orig_nbformat": 4
 },
 "nbformat": 4,
 "nbformat_minor": 2
}
