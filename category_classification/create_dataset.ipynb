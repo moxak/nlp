{
 "cells": [
  {
   "cell_type": "markdown",
   "metadata": {},
   "source": [
    "# データセットの作成"
   ]
  },
  {
   "cell_type": "markdown",
   "metadata": {},
   "source": [
    "ファインチューニング用のデータセットをOpenAIのGPT APIを使って作成します。"
   ]
  },
  {
   "cell_type": "code",
   "execution_count": 1,
   "metadata": {},
   "outputs": [
    {
     "data": {
      "text/plain": [
       "('chatgpt-35', 'tea2')"
      ]
     },
     "execution_count": 1,
     "metadata": {},
     "output_type": "execute_result"
    }
   ],
   "source": [
    "import os\n",
    "import re\n",
    "import time\n",
    "import json\n",
    "\n",
    "import pandas as pd\n",
    "import numpy as np\n",
    "from rich import print\n",
    "from tqdm import tqdm\n",
    "import japanize_matplotlib\n",
    "\n",
    "from dotenv import load_dotenv\n",
    "\n",
    "load_dotenv() \n",
    "\n",
    "import openai\n",
    "openai.api_type = \"azure\"\n",
    "openai.api_base = \"https://gpt-l4-exp-oepnai-exp.openai.azure.com/\"\n",
    "openai.api_version = \"2023-07-01-preview\"\n",
    "openai.api_key = os.getenv(\"OPENAI_API_KEY\")\n",
    "\n",
    "CHAT_MODEL_DEPLOYMENT_NAME = os.environ.get('CHAT_MODEL_DEPLOYMENT_NAME')\n",
    "EMBE_MODEL_DEPLOYMENT_NAME = os.environ.get('EMBE_MODEL_DEPLOYMENT_NAME')\n",
    "# CHAT_MODEL_DEPLOYMENT_NAME, EMBE_MODEL_DEPLOYMENT_NAME\n",
    "\n",
    "import litellm\n",
    "\n",
    "litellm.api_type = \"azure\"\n",
    "litellm.api_base = \"https://gpt-l4-exp-oepnai-exp.openai.azure.com/\"\n",
    "litellm.api_version = \"2023-07-01-preview\"\n",
    "litellm.api_key = os.getenv(\"OPENAI_API_KEY\")\n",
    "temperature = 0"
   ]
  },
  {
   "cell_type": "markdown",
   "metadata": {},
   "source": [
    "Function Callingで学習用データを作成する"
   ]
  },
  {
   "cell_type": "markdown",
   "metadata": {},
   "source": [
    "タグの定義"
   ]
  },
  {
   "cell_type": "code",
   "execution_count": 4,
   "metadata": {},
   "outputs": [],
   "source": [
    "gp_list_df = pd.read_csv(\"data/gplist.csv\")\n",
    "product_tags_list = (gp_list_df['日本語'] + '(' + gp_list_df['説明'] + ')').to_list()"
   ]
  },
  {
   "cell_type": "code",
   "execution_count": 5,
   "metadata": {},
   "outputs": [],
   "source": [
    "sub_category_csv = \"\"\"\n",
    "観点\n",
    "商品知識\n",
    "接客態度\n",
    "レジ処理の速度\n",
    "店内の清潔度\n",
    "店内レイアウト\n",
    "商品陳列\n",
    "商品在庫\n",
    "欠品\n",
    "照明設備\n",
    "音響設備\n",
    "駐車場\n",
    "空調\n",
    "安全対策\n",
    "トイレ設備\n",
    "ハンディキャップ対応\n",
    "\"\"\"\n",
    "from io import StringIO\n",
    "sub_category_df = pd.read_csv(StringIO(sub_category_csv))\n",
    "service_store_tags_list = sub_category_df['観点'].to_list()"
   ]
  },
  {
   "cell_type": "code",
   "execution_count": 6,
   "metadata": {},
   "outputs": [],
   "source": [
    "tags_list = []\n",
    "tags_list += product_tags_list\n",
    "tags_list += service_store_tags_list\n",
    "# tags_list"
   ]
  },
  {
   "cell_type": "markdown",
   "metadata": {},
   "source": [
    "関数の定義"
   ]
  },
  {
   "cell_type": "code",
   "execution_count": 49,
   "metadata": {},
   "outputs": [],
   "source": [
    "function_schema = [  \n",
    "    {\n",
    "        \"name\": \"classify_comment\",\n",
    "        \"description\": \"Select 'categories' and 'tags' based on the content of the comment body. Also, excerpt important topic keywords and include them in 'keywords'.\",\n",
    "        \"parameters\": {\n",
    "            \"type\": \"object\",\n",
    "            \"properties\": {\n",
    "                \"categories\": {\n",
    "                    \"type\": \"string\",\n",
    "                    \"enum\": [\"商品\", \"サービス・設備\"],\n",
    "                    \"description\": \"The category of the comment\"\n",
    "                },\n",
    "                \"tags\": {\n",
    "                    \"type\": \"array\",\n",
    "                    \"items\": {\n",
    "                        \"type\": \"string\",\n",
    "                        \"enum\": tags_list\n",
    "                    },\n",
    "                    \"description\": \"Tags related to the comment. **A description is written in brackets behind the tag. No parentheses are required after the parentheses when tagging.**\"\n",
    "                },\n",
    "                \"keywords\": {\n",
    "                    \"type\": \"array\",\n",
    "                    \"items\": {\n",
    "                        \"type\": \"string\"\n",
    "                    },\n",
    "                    \"description\": \"Important topic keywords extracted from the comment\"\n",
    "                }\n",
    "            },\n",
    "            \"required\": [\"categories\", \"tags\", \"keywords\"]\n",
    "        }\n",
    "    }\n",
    "]  "
   ]
  },
  {
   "cell_type": "code",
   "execution_count": 50,
   "metadata": {},
   "outputs": [
    {
     "data": {
      "text/plain": [
       "['オートチャージで丁寧に教えてくれた。感謝。',\n",
       " 'スプレッドで、明治スプレッタブルという商品を置いてほしい。しょうゆとマヨネーズは安めにしてほしい。お菓子はスーパーと値段がほぼ変わらないので季節ものの商品は安めに置いて頂くとかしたらわざわざ買いに行く価値があるかと思います。',\n",
       " 'シャンプーのジュレームを安くしてほしい',\n",
       " 'いつも、Aさんの対応が素晴らしい。これからも頑張ってください。',\n",
       " '頻繁に売り場が、急に変わるのが困ります。']"
      ]
     },
     "execution_count": 50,
     "metadata": {},
     "output_type": "execute_result"
    }
   ],
   "source": [
    "with open('./data/comments.txt', encoding='utf-8') as f:\n",
    "    voc_comments = f.readlines()\n",
    "voc_comments = [comment.replace(\"\\n\", \"\") for comment in voc_comments]\n",
    "voc_comments[:5]"
   ]
  },
  {
   "cell_type": "code",
   "execution_count": 52,
   "metadata": {},
   "outputs": [],
   "source": [
    "results = []"
   ]
  },
  {
   "cell_type": "markdown",
   "metadata": {},
   "source": [
    "タグ付けの実行"
   ]
  },
  {
   "cell_type": "markdown",
   "metadata": {},
   "source": [
    "1299件で1時間6分 = 1件19秒"
   ]
  },
  {
   "cell_type": "code",
   "execution_count": 53,
   "metadata": {},
   "outputs": [
    {
     "name": "stderr",
     "output_type": "stream",
     "text": [
      "100%|██████████| 1299/1299 [1:11:37<00:00,  3.31s/it]\n"
     ]
    }
   ],
   "source": [
    "for i in tqdm(range(0, len(voc_comments))):\n",
    "    messages = [\n",
    "        {\"role\": \"system\", \"content\": \"You receive comments from customers. For each comment, you select arguments for function input to perform the appropriate processing. Input from user is a comment from a customer.\"},\n",
    "        {\"role\": \"user\", \"content\": voc_comments[i]}]\n",
    "\n",
    "    response = litellm.completion(\n",
    "        f\"azure/{CHAT_MODEL_DEPLOYMENT_NAME}\",\n",
    "        messages=messages,\n",
    "        functions=function_schema,\n",
    "        temperature=temperature,\n",
    "        stream=False,\n",
    "        )\n",
    "    results.append({\n",
    "        'input': voc_comments[i],\n",
    "        'output': response\n",
    "    })\n",
    "    time.sleep(1)\n",
    "    "
   ]
  },
  {
   "cell_type": "code",
   "execution_count": 63,
   "metadata": {},
   "outputs": [
    {
     "data": {
      "text/html": [
       "<pre style=\"white-space:pre;overflow-x:auto;line-height:normal;font-family:Menlo,'DejaVu Sans Mono',consolas,'Courier New',monospace\">なし。 <span style=\"font-weight: bold\">{</span>\n",
       "  <span style=\"color: #008000; text-decoration-color: #008000\">\"categories\"</span>: <span style=\"color: #008000; text-decoration-color: #008000\">\"\"</span>,\n",
       "  <span style=\"color: #008000; text-decoration-color: #008000\">\"tags\"</span>: <span style=\"color: #008000; text-decoration-color: #008000\">\"\"</span>,\n",
       "  <span style=\"color: #008000; text-decoration-color: #008000\">\"keywords\"</span>: <span style=\"font-weight: bold\">[]</span>\n",
       "<span style=\"font-weight: bold\">}</span>\n",
       "</pre>\n"
      ],
      "text/plain": [
       "なし。 \u001b[1m{\u001b[0m\n",
       "  \u001b[32m\"categories\"\u001b[0m: \u001b[32m\"\"\u001b[0m,\n",
       "  \u001b[32m\"tags\"\u001b[0m: \u001b[32m\"\"\u001b[0m,\n",
       "  \u001b[32m\"keywords\"\u001b[0m: \u001b[1m[\u001b[0m\u001b[1m]\u001b[0m\n",
       "\u001b[1m}\u001b[0m\n"
      ]
     },
     "metadata": {},
     "output_type": "display_data"
    }
   ],
   "source": [
    "print(voc_comments[-1],response.choices[0].message.function_call.arguments)"
   ]
  },
  {
   "cell_type": "code",
   "execution_count": 136,
   "metadata": {},
   "outputs": [
    {
     "data": {
      "text/html": [
       "<pre style=\"white-space:pre;overflow-x:auto;line-height:normal;font-family:Menlo,'DejaVu Sans Mono',consolas,'Courier New',monospace\"><span style=\"font-weight: bold\">{</span>\n",
       "  <span style=\"color: #008000; text-decoration-color: #008000\">\"categories\"</span>: <span style=\"color: #008000; text-decoration-color: #008000\">\"サービス・設備\"</span>,\n",
       "  <span style=\"color: #008000; text-decoration-color: #008000\">\"tags\"</span>: <span style=\"color: #008000; text-decoration-color: #008000\">\"接客態度(レジの担当の方が丁寧)\"</span>, <span style=\"color: #008000; text-decoration-color: #008000\">\"店内の清潔度(トイレが綺麗)\"</span>,\n",
       "  <span style=\"color: #008000; text-decoration-color: #008000\">\"keywords\"</span>: <span style=\"font-weight: bold\">[</span><span style=\"color: #008000; text-decoration-color: #008000\">\"レジ\"</span>, <span style=\"color: #008000; text-decoration-color: #008000\">\"担当\"</span>, <span style=\"color: #008000; text-decoration-color: #008000\">\"丁寧\"</span>, <span style=\"color: #008000; text-decoration-color: #008000\">\"嬉しい\"</span>, <span style=\"color: #008000; text-decoration-color: #008000\">\"トイレ\"</span>, <span style=\"color: #008000; text-decoration-color: #008000\">\"綺麗\"</span><span style=\"font-weight: bold\">]</span>\n",
       "<span style=\"font-weight: bold\">}</span>\n",
       "</pre>\n"
      ],
      "text/plain": [
       "\u001b[1m{\u001b[0m\n",
       "  \u001b[32m\"categories\"\u001b[0m: \u001b[32m\"サービス・設備\"\u001b[0m,\n",
       "  \u001b[32m\"tags\"\u001b[0m: \u001b[32m\"接客態度\u001b[0m\u001b[32m(\u001b[0m\u001b[32mレジの担当の方が丁寧\u001b[0m\u001b[32m)\u001b[0m\u001b[32m\"\u001b[0m, \u001b[32m\"店内の清潔度\u001b[0m\u001b[32m(\u001b[0m\u001b[32mトイレが綺麗\u001b[0m\u001b[32m)\u001b[0m\u001b[32m\"\u001b[0m,\n",
       "  \u001b[32m\"keywords\"\u001b[0m: \u001b[1m[\u001b[0m\u001b[32m\"レジ\"\u001b[0m, \u001b[32m\"担当\"\u001b[0m, \u001b[32m\"丁寧\"\u001b[0m, \u001b[32m\"嬉しい\"\u001b[0m, \u001b[32m\"トイレ\"\u001b[0m, \u001b[32m\"綺麗\"\u001b[0m\u001b[1m]\u001b[0m\n",
       "\u001b[1m}\u001b[0m\n"
      ]
     },
     "metadata": {},
     "output_type": "display_data"
    }
   ],
   "source": [
    "def result_handler(result):\n",
    "    output = result['output']\n",
    "    try:\n",
    "        if 'function_call' in output['choices'][0]['message']:\n",
    "            return {\n",
    "                'valid_format': True,\n",
    "                'input': result['input'],\n",
    "                'output': arguments_handler(json.loads(output['choices'][0]['message']['function_call']['arguments']))\n",
    "            }\n",
    "    except:\n",
    "        print(output['choices'][0]['message']['function_call']['arguments'])\n",
    "    return {\n",
    "        'valid_format': False,\n",
    "        'input': result['input'],\n",
    "        # 'output': output\n",
    "    }\n",
    "\n",
    "\n",
    "results_json = list(map(result_handler, results))"
   ]
  },
  {
   "cell_type": "code",
   "execution_count": 101,
   "metadata": {},
   "outputs": [],
   "source": [
    "with open('./data/09251400.json', 'w', encoding='utf-8') as f:\n",
    "    f.write(json.dumps(results_json, ensure_ascii=False, indent=4))"
   ]
  },
  {
   "cell_type": "markdown",
   "metadata": {},
   "source": [
    "保存"
   ]
  },
  {
   "cell_type": "code",
   "execution_count": 185,
   "metadata": {},
   "outputs": [
    {
     "data": {
      "text/html": [
       "<pre style=\"white-space:pre;overflow-x:auto;line-height:normal;font-family:Menlo,'DejaVu Sans Mono',consolas,'Courier New',monospace\"><span style=\"font-weight: bold\">{</span>\n",
       "  <span style=\"color: #008000; text-decoration-color: #008000\">\"categories\"</span>: <span style=\"color: #008000; text-decoration-color: #008000\">\"サービス・設備\"</span>,\n",
       "  <span style=\"color: #008000; text-decoration-color: #008000\">\"tags\"</span>: <span style=\"color: #008000; text-decoration-color: #008000\">\"接客態度(レジの担当の方が丁寧)\"</span>, <span style=\"color: #008000; text-decoration-color: #008000\">\"店内の清潔度(トイレが綺麗)\"</span>,\n",
       "  <span style=\"color: #008000; text-decoration-color: #008000\">\"keywords\"</span>: <span style=\"font-weight: bold\">[</span><span style=\"color: #008000; text-decoration-color: #008000\">\"レジ\"</span>, <span style=\"color: #008000; text-decoration-color: #008000\">\"担当\"</span>, <span style=\"color: #008000; text-decoration-color: #008000\">\"丁寧\"</span>, <span style=\"color: #008000; text-decoration-color: #008000\">\"嬉しい\"</span>, <span style=\"color: #008000; text-decoration-color: #008000\">\"トイレ\"</span>, <span style=\"color: #008000; text-decoration-color: #008000\">\"綺麗\"</span><span style=\"font-weight: bold\">]</span>\n",
       "<span style=\"font-weight: bold\">}</span>\n",
       "</pre>\n"
      ],
      "text/plain": [
       "\u001b[1m{\u001b[0m\n",
       "  \u001b[32m\"categories\"\u001b[0m: \u001b[32m\"サービス・設備\"\u001b[0m,\n",
       "  \u001b[32m\"tags\"\u001b[0m: \u001b[32m\"接客態度\u001b[0m\u001b[32m(\u001b[0m\u001b[32mレジの担当の方が丁寧\u001b[0m\u001b[32m)\u001b[0m\u001b[32m\"\u001b[0m, \u001b[32m\"店内の清潔度\u001b[0m\u001b[32m(\u001b[0m\u001b[32mトイレが綺麗\u001b[0m\u001b[32m)\u001b[0m\u001b[32m\"\u001b[0m,\n",
       "  \u001b[32m\"keywords\"\u001b[0m: \u001b[1m[\u001b[0m\u001b[32m\"レジ\"\u001b[0m, \u001b[32m\"担当\"\u001b[0m, \u001b[32m\"丁寧\"\u001b[0m, \u001b[32m\"嬉しい\"\u001b[0m, \u001b[32m\"トイレ\"\u001b[0m, \u001b[32m\"綺麗\"\u001b[0m\u001b[1m]\u001b[0m\n",
       "\u001b[1m}\u001b[0m\n"
      ]
     },
     "metadata": {},
     "output_type": "display_data"
    }
   ],
   "source": [
    "\n",
    "def arguments_handler(arguments):\n",
    "    def string_handler(arg):\n",
    "        \"\"\"文字列型であれば文字列、そうでないならばリスト型\"\"\"\n",
    "        if type(arg) == type(str()):\n",
    "            return arg\n",
    "        return [arg]\n",
    "\n",
    "    def list_handler(arg):\n",
    "        \"\"\"リスト型に変換する\"\"\"\n",
    "        if type(arg) == type(list()):\n",
    "            return arg\n",
    "        return [arg]\n",
    "\n",
    "    def tag_handler(text):\n",
    "        \"\"\"`リカー＆ワイン( アルコール飲料とワイン)`から(*)の部分を削除する\"\"\"\n",
    "        return re.sub(r'\\([^)]*\\)', '', text)\n",
    "        \n",
    "    def category_handler(text):\n",
    "        \"\"\"`商品`、`サービス・設備`、``のみを抽出する\"\"\"\n",
    "        if text in ['商品', 'サービス・設備', '']:\n",
    "            return text\n",
    "        return None\n",
    "        \n",
    "    return {\n",
    "        'categories': category_handler(string_handler(arguments['categories'])),\n",
    "        'tags': list(map(tag_handler, list_handler(arguments['tags']))),\n",
    "        'keywords': list_handler(arguments['keywords'])\n",
    "    }\n",
    "\n",
    "def result_handler(result):\n",
    "    output = result['output']\n",
    "    try:\n",
    "        if 'function_call' in output['choices'][0]['message']:\n",
    "            return {\n",
    "                'valid_format': True,\n",
    "                'input': result['input'],\n",
    "                # 'output': arguments_handler(json.loads(output['choices'][0]['message']['function_call']['arguments']))\n",
    "            } | arguments_handler(json.loads(output['choices'][0]['message']['function_call']['arguments']))\n",
    "    except:\n",
    "        print(output['choices'][0]['message']['function_call']['arguments'])\n",
    "    return {\n",
    "        'valid_format': False,\n",
    "        'input': result['input'],\n",
    "        # 'output': output\n",
    "    }\n",
    "\n",
    "\n",
    "results_json = list(map(result_handler, results))\n",
    "# print(results_json)"
   ]
  },
  {
   "cell_type": "code",
   "execution_count": 137,
   "metadata": {},
   "outputs": [],
   "source": [
    "with open('./data/09251400_fd.json', 'w', encoding='utf-8') as f:\n",
    "    f.write(json.dumps(results_json, ensure_ascii=False, indent=4))"
   ]
  },
  {
   "cell_type": "code",
   "execution_count": 253,
   "metadata": {},
   "outputs": [
    {
     "data": {
      "text/html": [
       "<pre style=\"white-space:pre;overflow-x:auto;line-height:normal;font-family:Menlo,'DejaVu Sans Mono',consolas,'Courier New',monospace\"><span style=\"color: #008080; text-decoration-color: #008080; font-weight: bold\">0.9892307692307692</span>\n",
       "</pre>\n"
      ],
      "text/plain": [
       "\u001b[1;36m0.9892307692307692\u001b[0m\n"
      ]
     },
     "metadata": {},
     "output_type": "display_data"
    },
    {
     "data": {
      "text/html": [
       "<pre style=\"white-space:pre;overflow-x:auto;line-height:normal;font-family:Menlo,'DejaVu Sans Mono',consolas,'Courier New',monospace\"><span style=\"color: #008080; text-decoration-color: #008080; font-weight: bold\">0.8306</span>\n",
       "</pre>\n"
      ],
      "text/plain": [
       "\u001b[1;36m0.8306\u001b[0m\n"
      ]
     },
     "metadata": {},
     "output_type": "display_data"
    }
   ],
   "source": [
    "results_df = pd.DataFrame(results_json)\n",
    "print(results_df.valid_format.sum() / (len(results_df) + 1))\n",
    "\n",
    "results_df = results_df.query('valid_format == True')[['input', 'categories', 'tags', 'keywords']]\n",
    "results_df.rename({'input': 'comment', 'categories':'category', 'tags':'tag'}, axis='columns', inplace=True)\n",
    "\n",
    "results_df['tag'] = results_df['tag'].apply(lambda x: None if len(x) == 0 else x[0])\n",
    "results_df.dropna(subset=['category'], inplace=True)\n",
    "\n",
    "tags_list = list(pd.read_csv('data/カテゴリー・タグ定義.csv', encoding='cp932')['タグ'])\n",
    "results_df = results_df.query('tag in @tags_list')\n",
    "\n",
    "print(f'{len(results_df) / len(voc_comments):.4f}')"
   ]
  },
  {
   "cell_type": "code",
   "execution_count": 235,
   "metadata": {},
   "outputs": [],
   "source": [
    "# results_df.query('category == \"ペット＆ガーデン\"')"
   ]
  },
  {
   "cell_type": "code",
   "execution_count": 265,
   "metadata": {},
   "outputs": [
    {
     "data": {
      "text/plain": [
       "<Axes: ylabel='tag'>"
      ]
     },
     "execution_count": 265,
     "metadata": {},
     "output_type": "execute_result"
    },
    {
     "data": {
      "image/png": "[encoded data removed]",
      "text/plain": [
       "<Figure size 500x800 with 1 Axes>"
      ]
     },
     "metadata": {},
     "output_type": "display_data"
    }
   ],
   "source": [
    "results_df['tag'].value_counts().sort_values(ascending=True).plot.barh(figsize=(5, 8))"
   ]
  },
  {
   "cell_type": "code",
   "execution_count": 270,
   "metadata": {},
   "outputs": [],
   "source": [
    "results_df.to_csv('data/09281400.csv', index=False, encoding='utf-8')"
   ]
  },
  {
   "cell_type": "code",
   "execution_count": null,
   "metadata": {},
   "outputs": [],
   "source": []
  }
 ],
 "metadata": {
  "interpreter": {
   "hash": "9422e61643bc341e0075e9a11dbab7b6575580aac996b9891ea3fbf3f8411f43"
  },
  "kernelspec": {
   "display_name": "Python 3.10.4 ('.venv': poetry)",
   "language": "python",
   "name": "python3"
  },
  "language_info": {
   "codemirror_mode": {
    "name": "ipython",
    "version": 3
   },
   "file_extension": ".py",
   "mimetype": "text/x-python",
   "name": "python",
   "nbconvert_exporter": "python",
   "pygments_lexer": "ipython3",
   "version": "3.10.4"
  },
  "orig_nbformat": 4
 },
 "nbformat": 4,
 "nbformat_minor": 2
}
