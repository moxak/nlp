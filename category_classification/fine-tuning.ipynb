{
 "cells": [
  {
   "attachments": {},
   "cell_type": "markdown",
   "metadata": {},
   "source": [
    "# 感情分析"
   ]
  },
  {
   "cell_type": "code",
   "execution_count": 2,
   "metadata": {},
   "outputs": [
    {
     "name": "stdout",
     "output_type": "stream",
     "text": [
      "2.0.1+cu117\n",
      "cuda:0\n"
     ]
    }
   ],
   "source": [
    "import torch\n",
    "\n",
    "print(torch.__version__)\n",
    "device = torch.device(\"cuda:0\" if torch.cuda.is_available() else \"cpu\")\n",
    "print(device)"
   ]
  },
  {
   "attachments": {},
   "cell_type": "markdown",
   "metadata": {},
   "source": [
    "## Fine-tuning"
   ]
  },
  {
   "cell_type": "code",
   "execution_count": 4,
   "metadata": {},
   "outputs": [
    {
     "name": "stderr",
     "output_type": "stream",
     "text": [
      "Some weights of BertForSequenceClassification were not initialized from the model checkpoint at cl-tohoku/bert-base-japanese-v3 and are newly initialized: ['classifier.weight', 'classifier.bias']\n",
      "You should probably TRAIN this model on a down-stream task to be able to use it for predictions and inference.\n"
     ]
    }
   ],
   "source": [
    "from transformers import BertForSequenceClassification, BertTokenizerFast, BertJapaneseTokenizer, Trainer, TrainingArguments\n",
    "from datasets import load_dataset\n",
    "import pandas as pd\n",
    "\n",
    "base_model_name = 'cl-tohoku/bert-base-japanese-v3'\n",
    "# base_model_name = 'cl-tohoku/bert-large-japanese-v2'\n",
    "prefix = base_model_name.split('/')[-1]\n",
    "\n",
    "id2tag = pd.read_csv('data/カテゴリー・タグ定義.csv', encoding='cp932')['タグ'].to_dict()\n",
    "tag2id = {v:k for k, v in id2tag.items()}\n",
    "\n",
    "model = BertForSequenceClassification.from_pretrained(\n",
    "    base_model_name, num_labels=len(id2tag), id2label=id2tag, label2id=tag2id)\n",
    "model = model.to(device)\n",
    "tokenizer = BertJapaneseTokenizer.from_pretrained('cl-tohoku/bert-large-japanese-v2')"
   ]
  },
  {
   "cell_type": "code",
   "execution_count": 5,
   "metadata": {},
   "outputs": [],
   "source": [
    "from sklearn.metrics import accuracy_score, precision_recall_fscore_support\n",
    "\n",
    "def compute_metrics(pred):\n",
    "    labels = pred.label_ids\n",
    "    preds = pred.predictions.argmax(-1)\n",
    "    precision, recall, f1, _ = precision_recall_fscore_support(\n",
    "        labels, preds, average='weighted', zero_division=0)\n",
    "    acc = accuracy_score(labels, preds)\n",
    "    return {\n",
    "        'accuracy': acc,\n",
    "        'f1': f1,\n",
    "        'precision': precision,\n",
    "        'recall': recall\n",
    "    }"
   ]
  },
  {
   "cell_type": "code",
   "execution_count": 6,
   "metadata": {},
   "outputs": [
    {
     "data": {
      "application/vnd.jupyter.widget-view+json": {
       "model_id": "0e33cd90803e4cfe8a37dbc70e714752",
       "version_major": 2,
       "version_minor": 0
      },
      "text/plain": [
       "Generating train split: 0 examples [00:00, ? examples/s]"
      ]
     },
     "metadata": {},
     "output_type": "display_data"
    },
    {
     "data": {
      "application/vnd.jupyter.widget-view+json": {
       "model_id": "df27d2d3b28c4885ad3578c830513451",
       "version_major": 2,
       "version_minor": 0
      },
      "text/plain": [
       "Generating test split: 0 examples [00:00, ? examples/s]"
      ]
     },
     "metadata": {},
     "output_type": "display_data"
    },
    {
     "data": {
      "application/vnd.jupyter.widget-view+json": {
       "model_id": "d5a4bc78a2ab42c3a6413812e71a3eb9",
       "version_major": 2,
       "version_minor": 0
      },
      "text/plain": [
       "Generating validation split: 0 examples [00:00, ? examples/s]"
      ]
     },
     "metadata": {},
     "output_type": "display_data"
    }
   ],
   "source": [
    "from datasets import load_dataset\n",
    "\n",
    "dataset = load_dataset('dataset_loader.py', name='category-tagging')"
   ]
  },
  {
   "cell_type": "code",
   "execution_count": 7,
   "metadata": {},
   "outputs": [
    {
     "data": {
      "application/vnd.jupyter.widget-view+json": {
       "model_id": "0d79303e448746e88187bf202c25f331",
       "version_major": 2,
       "version_minor": 0
      },
      "text/plain": [
       "Map:   0%|          | 0/536 [00:00<?, ? examples/s]"
      ]
     },
     "metadata": {},
     "output_type": "display_data"
    },
    {
     "data": {
      "application/vnd.jupyter.widget-view+json": {
       "model_id": "1274084896334ee8b4ee2317ddef9c85",
       "version_major": 2,
       "version_minor": 0
      },
      "text/plain": [
       "Map:   0%|          | 0/268 [00:00<?, ? examples/s]"
      ]
     },
     "metadata": {},
     "output_type": "display_data"
    }
   ],
   "source": [
    "def tokenize(batch):\n",
    "    return tokenizer(batch['text'], padding='max_length', truncation=True)\n",
    "\n",
    "train_dataset, test_dataset = dataset['train'].map(tokenize, batched=True), dataset['test'].map(tokenize, batched=True)\n",
    "train_dataset.set_format('torch', columns=['input_ids', 'attention_mask', 'label'])\n",
    "test_dataset.set_format('torch', columns=['input_ids', 'attention_mask', 'label'])"
   ]
  },
  {
   "cell_type": "code",
   "execution_count": 8,
   "metadata": {},
   "outputs": [
    {
     "data": {
      "text/plain": [
       "(Dataset({\n",
       "     features: ['text', 'label', 'input_ids', 'token_type_ids', 'attention_mask'],\n",
       "     num_rows: 536\n",
       " }),\n",
       " Dataset({\n",
       "     features: ['text', 'label', 'input_ids', 'token_type_ids', 'attention_mask'],\n",
       "     num_rows: 268\n",
       " }))"
      ]
     },
     "execution_count": 8,
     "metadata": {},
     "output_type": "execute_result"
    }
   ],
   "source": [
    "train_dataset, test_dataset"
   ]
  },
  {
   "cell_type": "code",
   "execution_count": 9,
   "metadata": {},
   "outputs": [
    {
     "data": {
      "application/vnd.jupyter.widget-view+json": {
       "model_id": "840e5875017e46bdb58fe2a7fe4ec0ec",
       "version_major": 2,
       "version_minor": 0
      },
      "text/plain": [
       "  0%|          | 0/4020 [00:00<?, ?it/s]"
      ]
     },
     "metadata": {},
     "output_type": "display_data"
    },
    {
     "name": "stdout",
     "output_type": "stream",
     "text": [
      "{'loss': 3.7732, 'learning_rate': 1e-05, 'epoch': 0.37}\n"
     ]
    },
    {
     "data": {
      "application/vnd.jupyter.widget-view+json": {
       "model_id": "ec6a339a9be34d448fbf9e09665d93e9",
       "version_major": 2,
       "version_minor": 0
      },
      "text/plain": [
       "  0%|          | 0/67 [00:00<?, ?it/s]"
      ]
     },
     "metadata": {},
     "output_type": "display_data"
    },
    {
     "name": "stdout",
     "output_type": "stream",
     "text": [
      "{'eval_loss': 3.2505757808685303, 'eval_runtime': 2.5704, 'eval_samples_per_second': 104.263, 'eval_steps_per_second': 26.066, 'epoch': 0.37}\n",
      "{'loss': 2.8241, 'learning_rate': 2e-05, 'epoch': 0.75}\n"
     ]
    },
    {
     "data": {
      "application/vnd.jupyter.widget-view+json": {
       "model_id": "b6b43fa93b4d4376800648766936b920",
       "version_major": 2,
       "version_minor": 0
      },
      "text/plain": [
       "  0%|          | 0/67 [00:00<?, ?it/s]"
      ]
     },
     "metadata": {},
     "output_type": "display_data"
    },
    {
     "name": "stdout",
     "output_type": "stream",
     "text": [
      "{'eval_loss': 2.5003514289855957, 'eval_runtime': 2.5893, 'eval_samples_per_second': 103.501, 'eval_steps_per_second': 25.875, 'epoch': 0.75}\n",
      "{'loss': 2.3737, 'learning_rate': 3e-05, 'epoch': 1.12}\n"
     ]
    },
    {
     "data": {
      "application/vnd.jupyter.widget-view+json": {
       "model_id": "7fb0f31db1e24bb985fd2e9ef4784511",
       "version_major": 2,
       "version_minor": 0
      },
      "text/plain": [
       "  0%|          | 0/67 [00:00<?, ?it/s]"
      ]
     },
     "metadata": {},
     "output_type": "display_data"
    },
    {
     "name": "stdout",
     "output_type": "stream",
     "text": [
      "{'eval_loss': 2.1805260181427, 'eval_runtime': 2.6, 'eval_samples_per_second': 103.077, 'eval_steps_per_second': 25.769, 'epoch': 1.12}\n",
      "{'loss': 2.0924, 'learning_rate': 4e-05, 'epoch': 1.49}\n"
     ]
    },
    {
     "data": {
      "application/vnd.jupyter.widget-view+json": {
       "model_id": "2627d1c3e6fa43699665be4fba7204c1",
       "version_major": 2,
       "version_minor": 0
      },
      "text/plain": [
       "  0%|          | 0/67 [00:00<?, ?it/s]"
      ]
     },
     "metadata": {},
     "output_type": "display_data"
    },
    {
     "name": "stdout",
     "output_type": "stream",
     "text": [
      "{'eval_loss': 2.0597333908081055, 'eval_runtime': 2.6063, 'eval_samples_per_second': 102.829, 'eval_steps_per_second': 25.707, 'epoch': 1.49}\n",
      "{'loss': 2.0491, 'learning_rate': 5e-05, 'epoch': 1.87}\n"
     ]
    },
    {
     "data": {
      "application/vnd.jupyter.widget-view+json": {
       "model_id": "6c97db4801e149228f332a6aeb59fe64",
       "version_major": 2,
       "version_minor": 0
      },
      "text/plain": [
       "  0%|          | 0/67 [00:00<?, ?it/s]"
      ]
     },
     "metadata": {},
     "output_type": "display_data"
    },
    {
     "name": "stdout",
     "output_type": "stream",
     "text": [
      "{'eval_loss': 2.11130690574646, 'eval_runtime': 2.6123, 'eval_samples_per_second': 102.591, 'eval_steps_per_second': 25.648, 'epoch': 1.87}\n",
      "{'loss': 1.5176, 'learning_rate': 4.857954545454545e-05, 'epoch': 2.24}\n"
     ]
    },
    {
     "data": {
      "application/vnd.jupyter.widget-view+json": {
       "model_id": "b6e6d7255b3049c8b78bd0e9c2120fa1",
       "version_major": 2,
       "version_minor": 0
      },
      "text/plain": [
       "  0%|          | 0/67 [00:00<?, ?it/s]"
      ]
     },
     "metadata": {},
     "output_type": "display_data"
    },
    {
     "name": "stdout",
     "output_type": "stream",
     "text": [
      "{'eval_loss': 1.8354849815368652, 'eval_runtime': 2.6158, 'eval_samples_per_second': 102.455, 'eval_steps_per_second': 25.614, 'epoch': 2.24}\n",
      "{'loss': 1.5967, 'learning_rate': 4.715909090909091e-05, 'epoch': 2.61}\n"
     ]
    },
    {
     "data": {
      "application/vnd.jupyter.widget-view+json": {
       "model_id": "eb0ffb4c702b49b1a656189a2c4b79e6",
       "version_major": 2,
       "version_minor": 0
      },
      "text/plain": [
       "  0%|          | 0/67 [00:00<?, ?it/s]"
      ]
     },
     "metadata": {},
     "output_type": "display_data"
    },
    {
     "name": "stdout",
     "output_type": "stream",
     "text": [
      "{'eval_loss': 1.6865888833999634, 'eval_runtime': 2.6207, 'eval_samples_per_second': 102.262, 'eval_steps_per_second': 25.565, 'epoch': 2.61}\n",
      "{'loss': 1.2262, 'learning_rate': 4.573863636363637e-05, 'epoch': 2.99}\n"
     ]
    },
    {
     "data": {
      "application/vnd.jupyter.widget-view+json": {
       "model_id": "cb3adb41e48f4193b793639e824efbbb",
       "version_major": 2,
       "version_minor": 0
      },
      "text/plain": [
       "  0%|          | 0/67 [00:00<?, ?it/s]"
      ]
     },
     "metadata": {},
     "output_type": "display_data"
    },
    {
     "name": "stdout",
     "output_type": "stream",
     "text": [
      "{'eval_loss': 1.8420372009277344, 'eval_runtime': 2.6401, 'eval_samples_per_second': 101.513, 'eval_steps_per_second': 25.378, 'epoch': 2.99}\n",
      "{'loss': 0.9635, 'learning_rate': 4.431818181818182e-05, 'epoch': 3.36}\n"
     ]
    },
    {
     "data": {
      "application/vnd.jupyter.widget-view+json": {
       "model_id": "5dcbde6162ee4772b9d9c5f3cbc4dc36",
       "version_major": 2,
       "version_minor": 0
      },
      "text/plain": [
       "  0%|          | 0/67 [00:00<?, ?it/s]"
      ]
     },
     "metadata": {},
     "output_type": "display_data"
    },
    {
     "name": "stdout",
     "output_type": "stream",
     "text": [
      "{'eval_loss': 1.666448712348938, 'eval_runtime': 2.6301, 'eval_samples_per_second': 101.899, 'eval_steps_per_second': 25.475, 'epoch': 3.36}\n",
      "{'loss': 0.9616, 'learning_rate': 4.289772727272727e-05, 'epoch': 3.73}\n"
     ]
    },
    {
     "data": {
      "application/vnd.jupyter.widget-view+json": {
       "model_id": "deb8eb1fbe824ac9bc6a8ab18428e2ad",
       "version_major": 2,
       "version_minor": 0
      },
      "text/plain": [
       "  0%|          | 0/67 [00:00<?, ?it/s]"
      ]
     },
     "metadata": {},
     "output_type": "display_data"
    },
    {
     "name": "stdout",
     "output_type": "stream",
     "text": [
      "{'eval_loss': 1.977490782737732, 'eval_runtime': 2.6447, 'eval_samples_per_second': 101.336, 'eval_steps_per_second': 25.334, 'epoch': 3.73}\n",
      "{'loss': 0.823, 'learning_rate': 4.1477272727272734e-05, 'epoch': 4.1}\n"
     ]
    },
    {
     "data": {
      "application/vnd.jupyter.widget-view+json": {
       "model_id": "20cbcaf188974e528d31b694e32225f8",
       "version_major": 2,
       "version_minor": 0
      },
      "text/plain": [
       "  0%|          | 0/67 [00:00<?, ?it/s]"
      ]
     },
     "metadata": {},
     "output_type": "display_data"
    },
    {
     "name": "stdout",
     "output_type": "stream",
     "text": [
      "{'eval_loss': 1.7223975658416748, 'eval_runtime': 2.659, 'eval_samples_per_second': 100.79, 'eval_steps_per_second': 25.198, 'epoch': 4.1}\n",
      "{'loss': 0.5167, 'learning_rate': 4.0056818181818185e-05, 'epoch': 4.48}\n"
     ]
    },
    {
     "data": {
      "application/vnd.jupyter.widget-view+json": {
       "model_id": "f0afdb18b59741378ee73e1782db859d",
       "version_major": 2,
       "version_minor": 0
      },
      "text/plain": [
       "  0%|          | 0/67 [00:00<?, ?it/s]"
      ]
     },
     "metadata": {},
     "output_type": "display_data"
    },
    {
     "name": "stdout",
     "output_type": "stream",
     "text": [
      "{'eval_loss': 1.8473390340805054, 'eval_runtime': 2.6351, 'eval_samples_per_second': 101.704, 'eval_steps_per_second': 25.426, 'epoch': 4.48}\n",
      "{'loss': 0.5949, 'learning_rate': 3.8636363636363636e-05, 'epoch': 4.85}\n"
     ]
    },
    {
     "data": {
      "application/vnd.jupyter.widget-view+json": {
       "model_id": "c33a539f2f854b9ea06a21003796d1bd",
       "version_major": 2,
       "version_minor": 0
      },
      "text/plain": [
       "  0%|          | 0/67 [00:00<?, ?it/s]"
      ]
     },
     "metadata": {},
     "output_type": "display_data"
    },
    {
     "name": "stdout",
     "output_type": "stream",
     "text": [
      "{'eval_loss': 1.7939337491989136, 'eval_runtime': 2.6385, 'eval_samples_per_second': 101.573, 'eval_steps_per_second': 25.393, 'epoch': 4.85}\n",
      "{'loss': 0.5338, 'learning_rate': 3.721590909090909e-05, 'epoch': 5.22}\n"
     ]
    },
    {
     "data": {
      "application/vnd.jupyter.widget-view+json": {
       "model_id": "ff949b4eec1842a88d1a58485da9b4b1",
       "version_major": 2,
       "version_minor": 0
      },
      "text/plain": [
       "  0%|          | 0/67 [00:00<?, ?it/s]"
      ]
     },
     "metadata": {},
     "output_type": "display_data"
    },
    {
     "name": "stdout",
     "output_type": "stream",
     "text": [
      "{'eval_loss': 1.8126493692398071, 'eval_runtime': 2.6412, 'eval_samples_per_second': 101.47, 'eval_steps_per_second': 25.368, 'epoch': 5.22}\n",
      "{'loss': 0.3926, 'learning_rate': 3.579545454545455e-05, 'epoch': 5.6}\n"
     ]
    },
    {
     "data": {
      "application/vnd.jupyter.widget-view+json": {
       "model_id": "172279a874354c14b02541de36dbf5d0",
       "version_major": 2,
       "version_minor": 0
      },
      "text/plain": [
       "  0%|          | 0/67 [00:00<?, ?it/s]"
      ]
     },
     "metadata": {},
     "output_type": "display_data"
    },
    {
     "name": "stdout",
     "output_type": "stream",
     "text": [
      "{'eval_loss': 1.897007703781128, 'eval_runtime': 2.656, 'eval_samples_per_second': 100.904, 'eval_steps_per_second': 25.226, 'epoch': 5.6}\n",
      "{'loss': 0.3356, 'learning_rate': 3.4375e-05, 'epoch': 5.97}\n"
     ]
    },
    {
     "data": {
      "application/vnd.jupyter.widget-view+json": {
       "model_id": "bac0779a578c49a59c5b97fd6f8de4e0",
       "version_major": 2,
       "version_minor": 0
      },
      "text/plain": [
       "  0%|          | 0/67 [00:00<?, ?it/s]"
      ]
     },
     "metadata": {},
     "output_type": "display_data"
    },
    {
     "name": "stdout",
     "output_type": "stream",
     "text": [
      "{'eval_loss': 2.024632215499878, 'eval_runtime': 2.634, 'eval_samples_per_second': 101.746, 'eval_steps_per_second': 25.436, 'epoch': 5.97}\n",
      "{'loss': 0.1618, 'learning_rate': 3.295454545454545e-05, 'epoch': 6.34}\n"
     ]
    },
    {
     "data": {
      "application/vnd.jupyter.widget-view+json": {
       "model_id": "0dc25004c86449d1b59f5d36956fe9f3",
       "version_major": 2,
       "version_minor": 0
      },
      "text/plain": [
       "  0%|          | 0/67 [00:00<?, ?it/s]"
      ]
     },
     "metadata": {},
     "output_type": "display_data"
    },
    {
     "name": "stdout",
     "output_type": "stream",
     "text": [
      "{'eval_loss': 2.079751491546631, 'eval_runtime': 2.6373, 'eval_samples_per_second': 101.619, 'eval_steps_per_second': 25.405, 'epoch': 6.34}\n",
      "{'loss': 0.213, 'learning_rate': 3.153409090909091e-05, 'epoch': 6.72}\n"
     ]
    },
    {
     "data": {
      "application/vnd.jupyter.widget-view+json": {
       "model_id": "b0374f866ca84d558444b66290e9a9eb",
       "version_major": 2,
       "version_minor": 0
      },
      "text/plain": [
       "  0%|          | 0/67 [00:00<?, ?it/s]"
      ]
     },
     "metadata": {},
     "output_type": "display_data"
    },
    {
     "name": "stdout",
     "output_type": "stream",
     "text": [
      "{'eval_loss': 2.2721245288848877, 'eval_runtime': 2.65, 'eval_samples_per_second': 101.133, 'eval_steps_per_second': 25.283, 'epoch': 6.72}\n",
      "{'loss': 0.19, 'learning_rate': 3.0113636363636365e-05, 'epoch': 7.09}\n"
     ]
    },
    {
     "data": {
      "application/vnd.jupyter.widget-view+json": {
       "model_id": "6c8f6b2c94654e91bfdc2c3cf389fa39",
       "version_major": 2,
       "version_minor": 0
      },
      "text/plain": [
       "  0%|          | 0/67 [00:00<?, ?it/s]"
      ]
     },
     "metadata": {},
     "output_type": "display_data"
    },
    {
     "name": "stdout",
     "output_type": "stream",
     "text": [
      "{'eval_loss': 2.137208938598633, 'eval_runtime': 2.6464, 'eval_samples_per_second': 101.268, 'eval_steps_per_second': 25.317, 'epoch': 7.09}\n",
      "{'loss': 0.0902, 'learning_rate': 2.869318181818182e-05, 'epoch': 7.46}\n"
     ]
    },
    {
     "data": {
      "application/vnd.jupyter.widget-view+json": {
       "model_id": "6a97e27f00914b2696d8d8ad50475349",
       "version_major": 2,
       "version_minor": 0
      },
      "text/plain": [
       "  0%|          | 0/67 [00:00<?, ?it/s]"
      ]
     },
     "metadata": {},
     "output_type": "display_data"
    },
    {
     "name": "stdout",
     "output_type": "stream",
     "text": [
      "{'eval_loss': 2.1666524410247803, 'eval_runtime': 2.6725, 'eval_samples_per_second': 100.281, 'eval_steps_per_second': 25.07, 'epoch': 7.46}\n",
      "{'loss': 0.0672, 'learning_rate': 2.7272727272727273e-05, 'epoch': 7.84}\n"
     ]
    },
    {
     "data": {
      "application/vnd.jupyter.widget-view+json": {
       "model_id": "3f990fe4e27c4baabeb98dca7c62f33d",
       "version_major": 2,
       "version_minor": 0
      },
      "text/plain": [
       "  0%|          | 0/67 [00:00<?, ?it/s]"
      ]
     },
     "metadata": {},
     "output_type": "display_data"
    },
    {
     "name": "stdout",
     "output_type": "stream",
     "text": [
      "{'eval_loss': 2.219367742538452, 'eval_runtime': 2.6609, 'eval_samples_per_second': 100.718, 'eval_steps_per_second': 25.179, 'epoch': 7.84}\n",
      "{'loss': 0.0743, 'learning_rate': 2.585227272727273e-05, 'epoch': 8.21}\n"
     ]
    },
    {
     "data": {
      "application/vnd.jupyter.widget-view+json": {
       "model_id": "cace5d4553f34cf28d4207e614b40475",
       "version_major": 2,
       "version_minor": 0
      },
      "text/plain": [
       "  0%|          | 0/67 [00:00<?, ?it/s]"
      ]
     },
     "metadata": {},
     "output_type": "display_data"
    },
    {
     "name": "stdout",
     "output_type": "stream",
     "text": [
      "{'eval_loss': 2.1944141387939453, 'eval_runtime': 2.6477, 'eval_samples_per_second': 101.221, 'eval_steps_per_second': 25.305, 'epoch': 8.21}\n",
      "{'loss': 0.0563, 'learning_rate': 2.4431818181818185e-05, 'epoch': 8.58}\n"
     ]
    },
    {
     "data": {
      "application/vnd.jupyter.widget-view+json": {
       "model_id": "80cf37123fcb48f2b0d590335487c317",
       "version_major": 2,
       "version_minor": 0
      },
      "text/plain": [
       "  0%|          | 0/67 [00:00<?, ?it/s]"
      ]
     },
     "metadata": {},
     "output_type": "display_data"
    },
    {
     "name": "stdout",
     "output_type": "stream",
     "text": [
      "{'eval_loss': 2.2810728549957275, 'eval_runtime': 2.6424, 'eval_samples_per_second': 101.423, 'eval_steps_per_second': 25.356, 'epoch': 8.58}\n",
      "{'loss': 0.0491, 'learning_rate': 2.3011363636363636e-05, 'epoch': 8.96}\n"
     ]
    },
    {
     "data": {
      "application/vnd.jupyter.widget-view+json": {
       "model_id": "86cc5a89eddb4ac8861c7bcfd5691397",
       "version_major": 2,
       "version_minor": 0
      },
      "text/plain": [
       "  0%|          | 0/67 [00:00<?, ?it/s]"
      ]
     },
     "metadata": {},
     "output_type": "display_data"
    },
    {
     "name": "stdout",
     "output_type": "stream",
     "text": [
      "{'eval_loss': 2.2253684997558594, 'eval_runtime': 2.6469, 'eval_samples_per_second': 101.249, 'eval_steps_per_second': 25.312, 'epoch': 8.96}\n",
      "{'loss': 0.0274, 'learning_rate': 2.1590909090909093e-05, 'epoch': 9.33}\n"
     ]
    },
    {
     "data": {
      "application/vnd.jupyter.widget-view+json": {
       "model_id": "8c67c26a2889446696271258c1f1e03c",
       "version_major": 2,
       "version_minor": 0
      },
      "text/plain": [
       "  0%|          | 0/67 [00:00<?, ?it/s]"
      ]
     },
     "metadata": {},
     "output_type": "display_data"
    },
    {
     "name": "stdout",
     "output_type": "stream",
     "text": [
      "{'eval_loss': 2.273850679397583, 'eval_runtime': 2.6617, 'eval_samples_per_second': 100.688, 'eval_steps_per_second': 25.172, 'epoch': 9.33}\n",
      "{'loss': 0.0462, 'learning_rate': 2.0170454545454544e-05, 'epoch': 9.7}\n"
     ]
    },
    {
     "data": {
      "application/vnd.jupyter.widget-view+json": {
       "model_id": "21ad6e43121f426b85abf5c32ce83e7f",
       "version_major": 2,
       "version_minor": 0
      },
      "text/plain": [
       "  0%|          | 0/67 [00:00<?, ?it/s]"
      ]
     },
     "metadata": {},
     "output_type": "display_data"
    },
    {
     "name": "stdout",
     "output_type": "stream",
     "text": [
      "{'eval_loss': 2.2347891330718994, 'eval_runtime': 2.6654, 'eval_samples_per_second': 100.546, 'eval_steps_per_second': 25.137, 'epoch': 9.7}\n",
      "{'loss': 0.045, 'learning_rate': 1.8750000000000002e-05, 'epoch': 10.07}\n"
     ]
    },
    {
     "data": {
      "application/vnd.jupyter.widget-view+json": {
       "model_id": "3cb78e430dd3445398b0a323a301611b",
       "version_major": 2,
       "version_minor": 0
      },
      "text/plain": [
       "  0%|          | 0/67 [00:00<?, ?it/s]"
      ]
     },
     "metadata": {},
     "output_type": "display_data"
    },
    {
     "name": "stdout",
     "output_type": "stream",
     "text": [
      "{'eval_loss': 2.1791694164276123, 'eval_runtime': 2.6459, 'eval_samples_per_second': 101.287, 'eval_steps_per_second': 25.322, 'epoch': 10.07}\n",
      "{'loss': 0.0181, 'learning_rate': 1.7329545454545456e-05, 'epoch': 10.45}\n"
     ]
    },
    {
     "data": {
      "application/vnd.jupyter.widget-view+json": {
       "model_id": "2abb44594505438b96084f2e579130c5",
       "version_major": 2,
       "version_minor": 0
      },
      "text/plain": [
       "  0%|          | 0/67 [00:00<?, ?it/s]"
      ]
     },
     "metadata": {},
     "output_type": "display_data"
    },
    {
     "name": "stdout",
     "output_type": "stream",
     "text": [
      "{'eval_loss': 2.338536500930786, 'eval_runtime': 2.643, 'eval_samples_per_second': 101.401, 'eval_steps_per_second': 25.35, 'epoch': 10.45}\n",
      "{'loss': 0.0156, 'learning_rate': 1.590909090909091e-05, 'epoch': 10.82}\n"
     ]
    },
    {
     "data": {
      "application/vnd.jupyter.widget-view+json": {
       "model_id": "dada84807622496f8516a2ba9ff22f3a",
       "version_major": 2,
       "version_minor": 0
      },
      "text/plain": [
       "  0%|          | 0/67 [00:00<?, ?it/s]"
      ]
     },
     "metadata": {},
     "output_type": "display_data"
    },
    {
     "name": "stdout",
     "output_type": "stream",
     "text": [
      "{'eval_loss': 2.339860439300537, 'eval_runtime': 2.6447, 'eval_samples_per_second': 101.335, 'eval_steps_per_second': 25.334, 'epoch': 10.82}\n",
      "{'loss': 0.0269, 'learning_rate': 1.4488636363636366e-05, 'epoch': 11.19}\n"
     ]
    },
    {
     "data": {
      "application/vnd.jupyter.widget-view+json": {
       "model_id": "510569f3d2a543cfa5e1739b3e05d407",
       "version_major": 2,
       "version_minor": 0
      },
      "text/plain": [
       "  0%|          | 0/67 [00:00<?, ?it/s]"
      ]
     },
     "metadata": {},
     "output_type": "display_data"
    },
    {
     "name": "stdout",
     "output_type": "stream",
     "text": [
      "{'eval_loss': 2.3590333461761475, 'eval_runtime': 2.6443, 'eval_samples_per_second': 101.348, 'eval_steps_per_second': 25.337, 'epoch': 11.19}\n",
      "{'loss': 0.016, 'learning_rate': 1.3068181818181819e-05, 'epoch': 11.57}\n"
     ]
    },
    {
     "data": {
      "application/vnd.jupyter.widget-view+json": {
       "model_id": "102212b568e74562bcd547556291a6a1",
       "version_major": 2,
       "version_minor": 0
      },
      "text/plain": [
       "  0%|          | 0/67 [00:00<?, ?it/s]"
      ]
     },
     "metadata": {},
     "output_type": "display_data"
    },
    {
     "name": "stdout",
     "output_type": "stream",
     "text": [
      "{'eval_loss': 2.4146957397460938, 'eval_runtime': 2.6478, 'eval_samples_per_second': 101.217, 'eval_steps_per_second': 25.304, 'epoch': 11.57}\n",
      "{'loss': 0.018, 'learning_rate': 1.1647727272727273e-05, 'epoch': 11.94}\n"
     ]
    },
    {
     "data": {
      "application/vnd.jupyter.widget-view+json": {
       "model_id": "4f868db5198b42ecb3fc3e7704471ffc",
       "version_major": 2,
       "version_minor": 0
      },
      "text/plain": [
       "  0%|          | 0/67 [00:00<?, ?it/s]"
      ]
     },
     "metadata": {},
     "output_type": "display_data"
    },
    {
     "name": "stdout",
     "output_type": "stream",
     "text": [
      "{'eval_loss': 2.384164810180664, 'eval_runtime': 2.6478, 'eval_samples_per_second': 101.216, 'eval_steps_per_second': 25.304, 'epoch': 11.94}\n",
      "{'loss': 0.002, 'learning_rate': 1.0227272727272729e-05, 'epoch': 12.31}\n"
     ]
    },
    {
     "data": {
      "application/vnd.jupyter.widget-view+json": {
       "model_id": "4023cc67154b4c5b98623c77a206b067",
       "version_major": 2,
       "version_minor": 0
      },
      "text/plain": [
       "  0%|          | 0/67 [00:00<?, ?it/s]"
      ]
     },
     "metadata": {},
     "output_type": "display_data"
    },
    {
     "name": "stdout",
     "output_type": "stream",
     "text": [
      "{'eval_loss': 2.3954646587371826, 'eval_runtime': 2.6638, 'eval_samples_per_second': 100.607, 'eval_steps_per_second': 25.152, 'epoch': 12.31}\n",
      "{'loss': 0.0121, 'learning_rate': 8.806818181818183e-06, 'epoch': 12.69}\n"
     ]
    },
    {
     "data": {
      "application/vnd.jupyter.widget-view+json": {
       "model_id": "9168b0ef96b04114a98917c5fd66872d",
       "version_major": 2,
       "version_minor": 0
      },
      "text/plain": [
       "  0%|          | 0/67 [00:00<?, ?it/s]"
      ]
     },
     "metadata": {},
     "output_type": "display_data"
    },
    {
     "name": "stdout",
     "output_type": "stream",
     "text": [
      "{'eval_loss': 2.4450697898864746, 'eval_runtime': 2.6635, 'eval_samples_per_second': 100.62, 'eval_steps_per_second': 25.155, 'epoch': 12.69}\n",
      "{'loss': 0.0169, 'learning_rate': 7.386363636363637e-06, 'epoch': 13.06}\n"
     ]
    },
    {
     "data": {
      "application/vnd.jupyter.widget-view+json": {
       "model_id": "c094ee454ad54492a1875a2734a5baf4",
       "version_major": 2,
       "version_minor": 0
      },
      "text/plain": [
       "  0%|          | 0/67 [00:00<?, ?it/s]"
      ]
     },
     "metadata": {},
     "output_type": "display_data"
    },
    {
     "name": "stdout",
     "output_type": "stream",
     "text": [
      "{'eval_loss': 2.429121732711792, 'eval_runtime': 2.667, 'eval_samples_per_second': 100.487, 'eval_steps_per_second': 25.122, 'epoch': 13.06}\n",
      "{'loss': 0.0036, 'learning_rate': 5.965909090909091e-06, 'epoch': 13.43}\n"
     ]
    },
    {
     "data": {
      "application/vnd.jupyter.widget-view+json": {
       "model_id": "2661a441cf004e708c8908161dc71fa3",
       "version_major": 2,
       "version_minor": 0
      },
      "text/plain": [
       "  0%|          | 0/67 [00:00<?, ?it/s]"
      ]
     },
     "metadata": {},
     "output_type": "display_data"
    },
    {
     "name": "stdout",
     "output_type": "stream",
     "text": [
      "{'eval_loss': 2.422100782394409, 'eval_runtime': 2.6482, 'eval_samples_per_second': 101.201, 'eval_steps_per_second': 25.3, 'epoch': 13.43}\n",
      "{'loss': 0.0126, 'learning_rate': 4.5454545454545455e-06, 'epoch': 13.81}\n"
     ]
    },
    {
     "data": {
      "application/vnd.jupyter.widget-view+json": {
       "model_id": "81864cf95a794951b016cb31de42cc41",
       "version_major": 2,
       "version_minor": 0
      },
      "text/plain": [
       "  0%|          | 0/67 [00:00<?, ?it/s]"
      ]
     },
     "metadata": {},
     "output_type": "display_data"
    },
    {
     "name": "stdout",
     "output_type": "stream",
     "text": [
      "{'eval_loss': 2.400355100631714, 'eval_runtime': 2.647, 'eval_samples_per_second': 101.248, 'eval_steps_per_second': 25.312, 'epoch': 13.81}\n",
      "{'loss': 0.0074, 'learning_rate': 3.125e-06, 'epoch': 14.18}\n"
     ]
    },
    {
     "data": {
      "application/vnd.jupyter.widget-view+json": {
       "model_id": "425cc86e58dc4419a629ff71278e8e1e",
       "version_major": 2,
       "version_minor": 0
      },
      "text/plain": [
       "  0%|          | 0/67 [00:00<?, ?it/s]"
      ]
     },
     "metadata": {},
     "output_type": "display_data"
    },
    {
     "name": "stdout",
     "output_type": "stream",
     "text": [
      "{'eval_loss': 2.413790225982666, 'eval_runtime': 2.6462, 'eval_samples_per_second': 101.279, 'eval_steps_per_second': 25.32, 'epoch': 14.18}\n",
      "{'loss': 0.0045, 'learning_rate': 1.7045454545454546e-06, 'epoch': 14.55}\n"
     ]
    },
    {
     "data": {
      "application/vnd.jupyter.widget-view+json": {
       "model_id": "ecbe4e8d4ec64d858298648af5dabdb4",
       "version_major": 2,
       "version_minor": 0
      },
      "text/plain": [
       "  0%|          | 0/67 [00:00<?, ?it/s]"
      ]
     },
     "metadata": {},
     "output_type": "display_data"
    },
    {
     "name": "stdout",
     "output_type": "stream",
     "text": [
      "{'eval_loss': 2.421081066131592, 'eval_runtime': 2.645, 'eval_samples_per_second': 101.324, 'eval_steps_per_second': 25.331, 'epoch': 14.55}\n",
      "{'loss': 0.0081, 'learning_rate': 2.840909090909091e-07, 'epoch': 14.93}\n"
     ]
    },
    {
     "data": {
      "application/vnd.jupyter.widget-view+json": {
       "model_id": "f000a7e20a34486681f04a01fddfaf25",
       "version_major": 2,
       "version_minor": 0
      },
      "text/plain": [
       "  0%|          | 0/67 [00:00<?, ?it/s]"
      ]
     },
     "metadata": {},
     "output_type": "display_data"
    },
    {
     "name": "stdout",
     "output_type": "stream",
     "text": [
      "{'eval_loss': 2.421330213546753, 'eval_runtime': 2.6489, 'eval_samples_per_second': 101.174, 'eval_steps_per_second': 25.294, 'epoch': 14.93}\n",
      "{'train_runtime': 520.1544, 'train_samples_per_second': 15.457, 'train_steps_per_second': 7.728, 'train_loss': 0.5909803340999197, 'epoch': 15.0}\n"
     ]
    },
    {
     "data": {
      "text/plain": [
       "TrainOutput(global_step=4020, training_loss=0.5909803340999197, metrics={'train_runtime': 520.1544, 'train_samples_per_second': 15.457, 'train_steps_per_second': 7.728, 'train_loss': 0.5909803340999197, 'epoch': 15.0})"
      ]
     },
     "execution_count": 9,
     "metadata": {},
     "output_type": "execute_result"
    }
   ],
   "source": [
    "# Poetryが入っていないとログが出力されないので注意\n",
    "# !pip install tensorboard/ poetry add tensorboard\n",
    "\n",
    "# トレーニングの設定\n",
    "training_args = TrainingArguments(\n",
    "    output_dir='./results',             # 出力フォルダ\n",
    "    logging_dir='./logs',               # ログ保存フォルダ\n",
    "    num_train_epochs=15,               # エポック数\n",
    "    per_device_train_batch_size=1,      # 訓練のバッチサイズ (GPU数によって変える) 8, 1\n",
    "    per_device_eval_batch_size=4,      # 評価のバッチサイズ (GPU数によって変える) 16 ,4\n",
    "    gradient_accumulation_steps=2,      # accumulate gradients over 2 batches (GPU数によって変える)\n",
    "    warmup_steps=500,                   # 学習率スケジューラのウォームアップステップ数\n",
    "    weight_decay=0.01,                  # 重み減衰の強さ\n",
    "    save_steps=1000,\n",
    "    evaluation_strategy=\"steps\",\n",
    "    eval_steps=100,\n",
    "    logging_steps=100,\n",
    "    prediction_loss_only=True,\n",
    ")\n",
    "\n",
    "training_args.output_dir = f'./results_{prefix}_{training_args.num_train_epochs}_v1' # 出力フォルダ\n",
    "\n",
    "# トレーナーの初期化とトレーニング開始\n",
    "trainer = Trainer(\n",
    "    model=model,                        # モデル\n",
    "    args=training_args,                 # 訓練引数\n",
    "    train_dataset=train_dataset,        # 訓練データセット\n",
    "    eval_dataset=test_dataset,          # 評価データセット\n",
    "    compute_metrics=compute_metrics\n",
    ")\n",
    "\n",
    "# チェックポイントから学習を再開したいとき\n",
    "# trainer.train(ignore_keys_for_eval=['last_hidden_state', 'hidden_states', 'attentions'],\n",
    "            #   resume_from_checkpoint=True)\n",
    "\n",
    "trainer.train()"
   ]
  },
  {
   "cell_type": "code",
   "execution_count": 10,
   "metadata": {},
   "outputs": [
    {
     "data": {
      "text/plain": [
       "4020.0"
      ]
     },
     "execution_count": 10,
     "metadata": {},
     "output_type": "execute_result"
    }
   ],
   "source": [
    "num_training_steps = train_dataset.num_rows / (training_args.per_device_train_batch_size * training_args.gradient_accumulation_steps) * training_args.num_train_epochs\n",
    "\n",
    "num_training_steps"
   ]
  },
  {
   "cell_type": "code",
   "execution_count": 11,
   "metadata": {},
   "outputs": [
    {
     "data": {
      "application/vnd.jupyter.widget-view+json": {
       "model_id": "5829e4da7e06465294d6464a27b7178b",
       "version_major": 2,
       "version_minor": 0
      },
      "text/plain": [
       "  0%|          | 0/67 [00:00<?, ?it/s]"
      ]
     },
     "metadata": {},
     "output_type": "display_data"
    },
    {
     "data": {
      "text/plain": [
       "{'eval_loss': 2.421374559402466,\n",
       " 'eval_runtime': 2.9094,\n",
       " 'eval_samples_per_second': 92.115,\n",
       " 'eval_steps_per_second': 23.029,\n",
       " 'epoch': 15.0}"
      ]
     },
     "execution_count": 11,
     "metadata": {},
     "output_type": "execute_result"
    }
   ],
   "source": [
    "trainer.evaluate(test_dataset)"
   ]
  },
  {
   "cell_type": "code",
   "execution_count": 12,
   "metadata": {},
   "outputs": [],
   "source": [
    "trainer.save_state()\n",
    "trainer.save_model()"
   ]
  },
  {
   "cell_type": "code",
   "execution_count": 13,
   "metadata": {},
   "outputs": [
    {
     "data": {
      "text/plain": [
       "'./results_bert-base-japanese-v3_15_v1'"
      ]
     },
     "execution_count": 13,
     "metadata": {},
     "output_type": "execute_result"
    }
   ],
   "source": [
    "training_args.output_dir"
   ]
  },
  {
   "cell_type": "code",
   "execution_count": null,
   "metadata": {},
   "outputs": [],
   "source": [
    "# poetry shell\n",
    "# tensorboard --logdir ./datasets/sentiment_classification/logs"
   ]
  },
  {
   "attachments": {},
   "cell_type": "markdown",
   "metadata": {},
   "source": [
    "## 保存したモデルで予測する"
   ]
  },
  {
   "cell_type": "code",
   "execution_count": 14,
   "metadata": {},
   "outputs": [
    {
     "data": {
      "application/vnd.jupyter.widget-view+json": {
       "model_id": "4e1c236d4e594be5a954685cab606160",
       "version_major": 2,
       "version_minor": 0
      },
      "text/plain": [
       "Map:   0%|          | 0/269 [00:00<?, ? examples/s]"
      ]
     },
     "metadata": {},
     "output_type": "display_data"
    }
   ],
   "source": [
    "from transformers import BertForSequenceClassification, BertTokenizerFast, BertJapaneseTokenizer, Trainer, TrainingArguments\n",
    "from datasets import load_dataset\n",
    "\n",
    "tokenizer = BertJapaneseTokenizer.from_pretrained('cl-tohoku/bert-base-japanese-v3')\n",
    "dataset = load_dataset('dataset_loader.py', name='category-tagging')\n",
    "\n",
    "def tokenize(batch):\n",
    "    return tokenizer(batch['text'], padding='max_length', truncation=True)\n",
    "\n",
    "eval_dataset =  dataset['validation'].map(tokenize, batched=True)\n",
    "eval_dataset.set_format('torch', columns=['input_ids', 'attention_mask', 'label'])"
   ]
  },
  {
   "cell_type": "code",
   "execution_count": 16,
   "metadata": {},
   "outputs": [],
   "source": [
    "# 保存したモデルを読み込む\n",
    "model_path = training_args.output_dir\n",
    "model = BertForSequenceClassification.from_pretrained(model_path)\n",
    "\n",
    "trainer = Trainer(\n",
    "    model=model\n",
    ")"
   ]
  },
  {
   "cell_type": "code",
   "execution_count": 17,
   "metadata": {},
   "outputs": [
    {
     "data": {
      "application/vnd.jupyter.widget-view+json": {
       "model_id": "1adcdb0d1e2e400aa1ac67994d206a93",
       "version_major": 2,
       "version_minor": 0
      },
      "text/plain": [
       "  0%|          | 0/34 [00:00<?, ?it/s]"
      ]
     },
     "metadata": {},
     "output_type": "display_data"
    },
    {
     "data": {
      "text/plain": [
       "PredictionOutput(predictions=array([[-0.9863571 , -0.13852763, -1.7837257 , ..., -0.19132227,\n",
       "        -0.7434132 , -0.92474407],\n",
       "       [-0.69445306, -0.62088645, -1.3496959 , ..., -0.14248541,\n",
       "        -1.6268102 , -0.26580027],\n",
       "       [-0.3526515 , -0.22929403, -1.0686407 , ..., -1.1821756 ,\n",
       "        -0.63832587, -0.5525821 ],\n",
       "       ...,\n",
       "       [-2.17435   ,  0.01401598, -1.4897481 , ..., -1.4572196 ,\n",
       "        -0.58419603, -1.2601547 ],\n",
       "       [-1.646641  , -0.2593412 , -1.3778213 , ..., -0.8424611 ,\n",
       "        -0.99090457, -0.69828653],\n",
       "       [-0.36242336, -0.7550067 ,  0.42984337, ...,  0.7644263 ,\n",
       "         0.77423805,  0.47332215]], dtype=float32), label_ids=array([40, 41, 40, 30, 30, 41, 40, 40,  8, 45, 40, 39, 39, 41, 40, 40, 52,\n",
       "       45, 30, 52, 17, 40, 40, 30, 43, 41, 43, 30, 40, 36, 36, 41, 40, 40,\n",
       "       40, 41, 48, 45, 41, 43, 42, 52, 40,  3, 41, 41, 41, 15, 41, 40, 40,\n",
       "       40, 46, 40, 30, 43, 40, 40, 44, 52, 40, 45, 30, 41, 45, 40, 33, 30,\n",
       "       45, 45, 40, 44, 29, 30, 40, 31, 40, 52, 40, 16, 46, 40, 52, 38, 30,\n",
       "       40, 40, 40, 40, 30, 40, 40, 45, 45, 30, 30,  2, 40, 30, 40, 31,  8,\n",
       "       44, 40, 45,  0, 48, 45, 41, 40, 44, 43, 40, 45, 30, 30, 43, 43, 30,\n",
       "       41, 16, 40, 39, 40, 40, 40, 44, 44, 41, 44, 40, 42,  8, 16, 40, 40,\n",
       "       41, 52, 33, 40, 41, 30, 44, 29, 40, 40, 30, 45, 45, 40, 40, 29, 43,\n",
       "       40, 52, 43, 46, 40, 40, 41, 40, 40, 30, 30, 48, 45, 52, 40, 41, 44,\n",
       "       48, 40, 30, 46, 30, 39, 42, 18, 44, 30, 40, 29, 40,  8, 42, 36, 16,\n",
       "       40, 52, 29, 43, 15, 44, 40, 42, 41, 39, 30, 41, 42, 42, 39, 38, 30,\n",
       "       41,  7, 40, 40, 30, 44, 40, 44, 51,  8, 44, 43, 39, 41, 43, 36, 41,\n",
       "       34, 55, 40, 41, 30, 30, 30, 40, 41, 41, 41, 39, 57, 30, 49, 30, 45,\n",
       "        8, 30, 43, 44, 19, 30, 46,  8, 41, 40, 40, 16, 40, 29, 41, 46, 40,\n",
       "       39, 43, 40, 39, 40, 33, 54,  0, 44, 39, 44,  2, 30, 17],\n",
       "      dtype=int64), metrics={'test_loss': 2.647322416305542, 'test_runtime': 2.7828, 'test_samples_per_second': 96.664, 'test_steps_per_second': 12.218})"
      ]
     },
     "execution_count": 17,
     "metadata": {},
     "output_type": "execute_result"
    }
   ],
   "source": [
    "predictions = trainer.predict(eval_dataset)\n",
    "predictions"
   ]
  },
  {
   "cell_type": "code",
   "execution_count": 11,
   "metadata": {},
   "outputs": [
    {
     "data": {
      "text/html": [
       "<div>\n",
       "<style scoped>\n",
       "    .dataframe tbody tr th:only-of-type {\n",
       "        vertical-align: middle;\n",
       "    }\n",
       "\n",
       "    .dataframe tbody tr th {\n",
       "        vertical-align: top;\n",
       "    }\n",
       "\n",
       "    .dataframe thead th {\n",
       "        text-align: right;\n",
       "    }\n",
       "</style>\n",
       "<table border=\"1\" class=\"dataframe\">\n",
       "  <thead>\n",
       "    <tr style=\"text-align: right;\">\n",
       "      <th></th>\n",
       "      <th>text</th>\n",
       "      <th>label</th>\n",
       "      <th>input_ids</th>\n",
       "      <th>token_type_ids</th>\n",
       "      <th>attention_mask</th>\n",
       "    </tr>\n",
       "  </thead>\n",
       "  <tbody>\n",
       "    <tr>\n",
       "      <th>0</th>\n",
       "      <td>以前より高くなっている 。</td>\n",
       "      <td>0</td>\n",
       "      <td>[2, 13204, 12505, 14031, 12493, 456, 12483, 38...</td>\n",
       "      <td>[0, 0, 0, 0, 0, 0, 0, 0, 0, 0, 0, 0, 0, 0, 0, ...</td>\n",
       "      <td>[1, 1, 1, 1, 1, 1, 1, 1, 1, 0, 0, 0, 0, 0, 0, ...</td>\n",
       "    </tr>\n",
       "    <tr>\n",
       "      <th>1</th>\n",
       "      <td>小岩井の生乳100％ヨーグルトを安くしてくださって嬉しいです これからも買い続けるのでお値段...</td>\n",
       "      <td>1</td>\n",
       "      <td>[2, 1829, 7718, 7641, 464, 3904, 7507, 12915, ...</td>\n",
       "      <td>[0, 0, 0, 0, 0, 0, 0, 0, 0, 0, 0, 0, 0, 0, 0, ...</td>\n",
       "      <td>[1, 1, 1, 1, 1, 1, 1, 1, 1, 1, 1, 1, 1, 1, 1, ...</td>\n",
       "    </tr>\n",
       "    <tr>\n",
       "      <th>2</th>\n",
       "      <td>ＱＵＩＣpayで支払いで10%OＦＦにするならば、majicaにチャージして支払いをした場合...</td>\n",
       "      <td>1</td>\n",
       "      <td>[2, 64, 7100, 13952, 7085, 13243, 457, 19567, ...</td>\n",
       "      <td>[0, 0, 0, 0, 0, 0, 0, 0, 0, 0, 0, 0, 0, 0, 0, ...</td>\n",
       "      <td>[1, 1, 1, 1, 1, 1, 1, 1, 1, 1, 1, 1, 1, 1, 1, ...</td>\n",
       "    </tr>\n",
       "    <tr>\n",
       "      <th>3</th>\n",
       "      <td>9月の特売品がたくさん有って良かったです!</td>\n",
       "      <td>1</td>\n",
       "      <td>[2, 40, 2806, 464, 3720, 7932, 1286, 430, 2227...</td>\n",
       "      <td>[0, 0, 0, 0, 0, 0, 0, 0, 0, 0, 0, 0, 0, 0, 0, ...</td>\n",
       "      <td>[1, 1, 1, 1, 1, 1, 1, 1, 1, 1, 1, 1, 1, 1, 1, ...</td>\n",
       "    </tr>\n",
       "    <tr>\n",
       "      <th>4</th>\n",
       "      <td>是非気軽にいただける飲食店を増やしてほしいです！フードコートでも店舗でも。</td>\n",
       "      <td>1</td>\n",
       "      <td>[2, 32039, 3235, 7316, 461, 27184, 12685, 1901...</td>\n",
       "      <td>[0, 0, 0, 0, 0, 0, 0, 0, 0, 0, 0, 0, 0, 0, 0, ...</td>\n",
       "      <td>[1, 1, 1, 1, 1, 1, 1, 1, 1, 1, 1, 1, 1, 1, 1, ...</td>\n",
       "    </tr>\n",
       "    <tr>\n",
       "      <th>...</th>\n",
       "      <td>...</td>\n",
       "      <td>...</td>\n",
       "      <td>...</td>\n",
       "      <td>...</td>\n",
       "      <td>...</td>\n",
       "    </tr>\n",
       "    <tr>\n",
       "      <th>320</th>\n",
       "      <td>カツカレーライスを、購入したのだけど、フォークと割り箸しか無くて、残念ですスプーンも有ると嬉...</td>\n",
       "      <td>0</td>\n",
       "      <td>[2, 21804, 19487, 25281, 500, 384, 13929, 441,...</td>\n",
       "      <td>[0, 0, 0, 0, 0, 0, 0, 0, 0, 0, 0, 0, 0, 0, 0, ...</td>\n",
       "      <td>[1, 1, 1, 1, 1, 1, 1, 1, 1, 1, 1, 1, 1, 1, 1, ...</td>\n",
       "    </tr>\n",
       "    <tr>\n",
       "      <th>321</th>\n",
       "      <td>ナシ。</td>\n",
       "      <td>2</td>\n",
       "      <td>[2, 546, 7033, 385, 3, 0, 0, 0, 0, 0, 0, 0, 0,...</td>\n",
       "      <td>[0, 0, 0, 0, 0, 0, 0, 0, 0, 0, 0, 0, 0, 0, 0, ...</td>\n",
       "      <td>[1, 1, 1, 1, 1, 0, 0, 0, 0, 0, 0, 0, 0, 0, 0, ...</td>\n",
       "    </tr>\n",
       "    <tr>\n",
       "      <th>322</th>\n",
       "      <td>手首を痛めているので、店員さんにカゴの移動をお願いしたら、笑顔で運んでくれ､とても感じ良かっ...</td>\n",
       "      <td>1</td>\n",
       "      <td>[2, 29091, 500, 24031, 456, 12483, 464, 457, 3...</td>\n",
       "      <td>[0, 0, 0, 0, 0, 0, 0, 0, 0, 0, 0, 0, 0, 0, 0, ...</td>\n",
       "      <td>[1, 1, 1, 1, 1, 1, 1, 1, 1, 1, 1, 1, 1, 1, 1, ...</td>\n",
       "    </tr>\n",
       "    <tr>\n",
       "      <th>323</th>\n",
       "      <td>会計時にSSさんがLINEのお友達登録を勧めて下さりスマホの登録の方法も丁寧に教えてくれまし...</td>\n",
       "      <td>1</td>\n",
       "      <td>[2, 17643, 2734, 461, 16104, 13038, 430, 25426...</td>\n",
       "      <td>[0, 0, 0, 0, 0, 0, 0, 0, 0, 0, 0, 0, 0, 0, 0, ...</td>\n",
       "      <td>[1, 1, 1, 1, 1, 1, 1, 1, 1, 1, 1, 1, 1, 1, 1, ...</td>\n",
       "    </tr>\n",
       "    <tr>\n",
       "      <th>324</th>\n",
       "      <td>箱入りのアイスがどれもイオンやハローズより高い。</td>\n",
       "      <td>0</td>\n",
       "      <td>[2, 4429, 16192, 464, 15911, 430, 19382, 484, ...</td>\n",
       "      <td>[0, 0, 0, 0, 0, 0, 0, 0, 0, 0, 0, 0, 0, 0, 0, ...</td>\n",
       "      <td>[1, 1, 1, 1, 1, 1, 1, 1, 1, 1, 1, 1, 1, 1, 1, ...</td>\n",
       "    </tr>\n",
       "  </tbody>\n",
       "</table>\n",
       "<p>325 rows × 5 columns</p>\n",
       "</div>"
      ],
      "text/plain": [
       "                                                  text  label  \\\n",
       "0                                        以前より高くなっている 。      0   \n",
       "1    小岩井の生乳100％ヨーグルトを安くしてくださって嬉しいです これからも買い続けるのでお値段...      1   \n",
       "2    ＱＵＩＣpayで支払いで10%OＦＦにするならば、majicaにチャージして支払いをした場合...      1   \n",
       "3                                9月の特売品がたくさん有って良かったです!      1   \n",
       "4                是非気軽にいただける飲食店を増やしてほしいです！フードコートでも店舗でも。      1   \n",
       "..                                                 ...    ...   \n",
       "320  カツカレーライスを、購入したのだけど、フォークと割り箸しか無くて、残念ですスプーンも有ると嬉...      0   \n",
       "321                                                ナシ。      2   \n",
       "322  手首を痛めているので、店員さんにカゴの移動をお願いしたら、笑顔で運んでくれ､とても感じ良かっ...      1   \n",
       "323  会計時にSSさんがLINEのお友達登録を勧めて下さりスマホの登録の方法も丁寧に教えてくれまし...      1   \n",
       "324                           箱入りのアイスがどれもイオンやハローズより高い。      0   \n",
       "\n",
       "                                             input_ids  \\\n",
       "0    [2, 13204, 12505, 14031, 12493, 456, 12483, 38...   \n",
       "1    [2, 1829, 7718, 7641, 464, 3904, 7507, 12915, ...   \n",
       "2    [2, 64, 7100, 13952, 7085, 13243, 457, 19567, ...   \n",
       "3    [2, 40, 2806, 464, 3720, 7932, 1286, 430, 2227...   \n",
       "4    [2, 32039, 3235, 7316, 461, 27184, 12685, 1901...   \n",
       "..                                                 ...   \n",
       "320  [2, 21804, 19487, 25281, 500, 384, 13929, 441,...   \n",
       "321  [2, 546, 7033, 385, 3, 0, 0, 0, 0, 0, 0, 0, 0,...   \n",
       "322  [2, 29091, 500, 24031, 456, 12483, 464, 457, 3...   \n",
       "323  [2, 17643, 2734, 461, 16104, 13038, 430, 25426...   \n",
       "324  [2, 4429, 16192, 464, 15911, 430, 19382, 484, ...   \n",
       "\n",
       "                                        token_type_ids  \\\n",
       "0    [0, 0, 0, 0, 0, 0, 0, 0, 0, 0, 0, 0, 0, 0, 0, ...   \n",
       "1    [0, 0, 0, 0, 0, 0, 0, 0, 0, 0, 0, 0, 0, 0, 0, ...   \n",
       "2    [0, 0, 0, 0, 0, 0, 0, 0, 0, 0, 0, 0, 0, 0, 0, ...   \n",
       "3    [0, 0, 0, 0, 0, 0, 0, 0, 0, 0, 0, 0, 0, 0, 0, ...   \n",
       "4    [0, 0, 0, 0, 0, 0, 0, 0, 0, 0, 0, 0, 0, 0, 0, ...   \n",
       "..                                                 ...   \n",
       "320  [0, 0, 0, 0, 0, 0, 0, 0, 0, 0, 0, 0, 0, 0, 0, ...   \n",
       "321  [0, 0, 0, 0, 0, 0, 0, 0, 0, 0, 0, 0, 0, 0, 0, ...   \n",
       "322  [0, 0, 0, 0, 0, 0, 0, 0, 0, 0, 0, 0, 0, 0, 0, ...   \n",
       "323  [0, 0, 0, 0, 0, 0, 0, 0, 0, 0, 0, 0, 0, 0, 0, ...   \n",
       "324  [0, 0, 0, 0, 0, 0, 0, 0, 0, 0, 0, 0, 0, 0, 0, ...   \n",
       "\n",
       "                                        attention_mask  \n",
       "0    [1, 1, 1, 1, 1, 1, 1, 1, 1, 0, 0, 0, 0, 0, 0, ...  \n",
       "1    [1, 1, 1, 1, 1, 1, 1, 1, 1, 1, 1, 1, 1, 1, 1, ...  \n",
       "2    [1, 1, 1, 1, 1, 1, 1, 1, 1, 1, 1, 1, 1, 1, 1, ...  \n",
       "3    [1, 1, 1, 1, 1, 1, 1, 1, 1, 1, 1, 1, 1, 1, 1, ...  \n",
       "4    [1, 1, 1, 1, 1, 1, 1, 1, 1, 1, 1, 1, 1, 1, 1, ...  \n",
       "..                                                 ...  \n",
       "320  [1, 1, 1, 1, 1, 1, 1, 1, 1, 1, 1, 1, 1, 1, 1, ...  \n",
       "321  [1, 1, 1, 1, 1, 0, 0, 0, 0, 0, 0, 0, 0, 0, 0, ...  \n",
       "322  [1, 1, 1, 1, 1, 1, 1, 1, 1, 1, 1, 1, 1, 1, 1, ...  \n",
       "323  [1, 1, 1, 1, 1, 1, 1, 1, 1, 1, 1, 1, 1, 1, 1, ...  \n",
       "324  [1, 1, 1, 1, 1, 1, 1, 1, 1, 1, 1, 1, 1, 1, 1, ...  \n",
       "\n",
       "[325 rows x 5 columns]"
      ]
     },
     "execution_count": 11,
     "metadata": {},
     "output_type": "execute_result"
    }
   ],
   "source": [
    "eval_dataset.to_pandas()"
   ]
  },
  {
   "cell_type": "code",
   "execution_count": null,
   "metadata": {},
   "outputs": [],
   "source": []
  }
 ],
 "metadata": {
  "interpreter": {
   "hash": "1685e972c8e6ae035eec8c83118266536b1044e7517d791fce49ac42e275e5e1"
  },
  "kernelspec": {
   "display_name": "Python 3.10.4 ('.venv': poetry)",
   "language": "python",
   "name": "python3"
  },
  "language_info": {
   "codemirror_mode": {
    "name": "ipython",
    "version": 3
   },
   "file_extension": ".py",
   "mimetype": "text/x-python",
   "name": "python",
   "nbconvert_exporter": "python",
   "pygments_lexer": "ipython3",
   "version": "3.10.11"
  },
  "orig_nbformat": 4
 },
 "nbformat": 4,
 "nbformat_minor": 2
}
