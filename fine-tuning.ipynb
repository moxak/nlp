{
 "cells": [
  {
   "cell_type": "markdown",
   "metadata": {},
   "source": [
    "## Fine-tuning"
   ]
  },
  {
   "cell_type": "code",
   "execution_count": 1,
   "metadata": {},
   "outputs": [
    {
     "name": "stdout",
     "output_type": "stream",
     "text": [
      "2.0.1+cu117\n",
      "cuda:0\n"
     ]
    }
   ],
   "source": [
    "import torch\n",
    "\n",
    "print(torch.__version__)\n",
    "device = torch.device(\"cuda:0\" if torch.cuda.is_available() else \"cpu\")\n",
    "print(device)"
   ]
  },
  {
   "cell_type": "code",
   "execution_count": 2,
   "metadata": {},
   "outputs": [
    {
     "name": "stderr",
     "output_type": "stream",
     "text": [
      "Some weights of BertForSequenceClassification were not initialized from the model checkpoint at bert-base-uncased and are newly initialized: ['classifier.weight', 'classifier.bias']\n",
      "You should probably TRAIN this model on a down-stream task to be able to use it for predictions and inference.\n"
     ]
    }
   ],
   "source": [
    "from transformers import BertForSequenceClassification, BertTokenizerFast, Trainer, TrainingArguments\n",
    "from datasets import load_dataset\n",
    "\n",
    "# BERTモデルとトークナイザの準備\n",
    "model = BertForSequenceClassification.from_pretrained('bert-base-uncased', num_labels=2)\n",
    "tokenizer = BertTokenizerFast.from_pretrained('bert-base-uncased')\n"
   ]
  },
  {
   "cell_type": "code",
   "execution_count": 3,
   "metadata": {},
   "outputs": [],
   "source": [
    "# データセットのダウンロードと前処理\n",
    "dataset = load_dataset('imdb')\n",
    "\n",
    "def tokenize(batch):\n",
    "    return tokenizer(batch['text'], padding=True, truncation=True)\n",
    "\n",
    "train_dataset, test_dataset = dataset['train'].map(tokenize, batched=True), dataset['test'].map(tokenize, batched=True)\n",
    "train_dataset.set_format('torch', columns=['input_ids', 'attention_mask', 'label'])\n",
    "test_dataset.set_format('torch', columns=['input_ids', 'attention_mask', 'label'])"
   ]
  },
  {
   "cell_type": "code",
   "execution_count": 4,
   "metadata": {},
   "outputs": [
    {
     "data": {
      "text/plain": [
       "Dataset({\n",
       "    features: ['text', 'label', 'input_ids', 'token_type_ids', 'attention_mask'],\n",
       "    num_rows: 25000\n",
       "})"
      ]
     },
     "execution_count": 4,
     "metadata": {},
     "output_type": "execute_result"
    }
   ],
   "source": [
    "test_dataset"
   ]
  },
  {
   "cell_type": "code",
   "execution_count": 8,
   "metadata": {},
   "outputs": [
    {
     "data": {
      "application/vnd.jupyter.widget-view+json": {
       "model_id": "a63ee008242e4c1187a8bd7a4204ec1a",
       "version_major": 2,
       "version_minor": 0
      },
      "text/plain": [
       "  0%|          | 0/9375 [00:00<?, ?it/s]"
      ]
     },
     "metadata": {},
     "output_type": "display_data"
    },
    {
     "name": "stdout",
     "output_type": "stream",
     "text": [
      "{'loss': 0.4668, 'learning_rate': 5e-05, 'epoch': 0.16}\n",
      "{'loss': 0.36, 'learning_rate': 4.71830985915493e-05, 'epoch': 0.32}\n",
      "{'loss': 0.3425, 'learning_rate': 4.436619718309859e-05, 'epoch': 0.48}\n",
      "{'loss': 0.321, 'learning_rate': 4.154929577464789e-05, 'epoch': 0.64}\n",
      "{'loss': 0.2957, 'learning_rate': 3.8732394366197184e-05, 'epoch': 0.8}\n",
      "{'loss': 0.2968, 'learning_rate': 3.5915492957746486e-05, 'epoch': 0.96}\n",
      "{'loss': 0.2073, 'learning_rate': 3.3098591549295775e-05, 'epoch': 1.12}\n",
      "{'loss': 0.2059, 'learning_rate': 3.028169014084507e-05, 'epoch': 1.28}\n",
      "{'loss': 0.1906, 'learning_rate': 2.746478873239437e-05, 'epoch': 1.44}\n",
      "{'loss': 0.1981, 'learning_rate': 2.4647887323943664e-05, 'epoch': 1.6}\n",
      "{'loss': 0.1749, 'learning_rate': 2.1830985915492956e-05, 'epoch': 1.76}\n",
      "{'loss': 0.1839, 'learning_rate': 1.9014084507042255e-05, 'epoch': 1.92}\n",
      "{'loss': 0.1278, 'learning_rate': 1.619718309859155e-05, 'epoch': 2.08}\n",
      "{'loss': 0.0868, 'learning_rate': 1.3380281690140845e-05, 'epoch': 2.24}\n",
      "{'loss': 0.0836, 'learning_rate': 1.056338028169014e-05, 'epoch': 2.4}\n",
      "{'loss': 0.073, 'learning_rate': 7.746478873239436e-06, 'epoch': 2.56}\n",
      "{'loss': 0.0801, 'learning_rate': 4.929577464788732e-06, 'epoch': 2.72}\n",
      "{'loss': 0.0736, 'learning_rate': 2.112676056338028e-06, 'epoch': 2.88}\n",
      "{'train_runtime': 2544.3499, 'train_samples_per_second': 29.477, 'train_steps_per_second': 3.685, 'train_loss': 0.2035408331298828, 'epoch': 3.0}\n"
     ]
    },
    {
     "data": {
      "text/plain": [
       "TrainOutput(global_step=9375, training_loss=0.2035408331298828, metrics={'train_runtime': 2544.3499, 'train_samples_per_second': 29.477, 'train_steps_per_second': 3.685, 'train_loss': 0.2035408331298828, 'epoch': 3.0})"
      ]
     },
     "execution_count": 8,
     "metadata": {},
     "output_type": "execute_result"
    }
   ],
   "source": [
    "# トレーニングの設定\n",
    "training_args = TrainingArguments(\n",
    "    output_dir='./results',\n",
    "    num_train_epochs=3,\n",
    "    per_device_train_batch_size=4,\n",
    "    per_device_eval_batch_size=16,\n",
    "    gradient_accumulation_steps=2,  # accumulate gradients over 2 batches\n",
    "    warmup_steps=500,\n",
    "    weight_decay=0.01,\n",
    "    logging_dir='./logs',\n",
    ")\n",
    "\n",
    "# トレーナーの初期化とトレーニング開始\n",
    "trainer = Trainer(\n",
    "    model=model,\n",
    "    args=training_args,\n",
    "    train_dataset=train_dataset,\n",
    "    eval_dataset=test_dataset\n",
    ")\n",
    "\n",
    "trainer.train()"
   ]
  },
  {
   "cell_type": "code",
   "execution_count": null,
   "metadata": {},
   "outputs": [],
   "source": []
  }
 ],
 "metadata": {
  "kernelspec": {
   "display_name": ".venv",
   "language": "python",
   "name": "python3"
  },
  "language_info": {
   "codemirror_mode": {
    "name": "ipython",
    "version": 3
   },
   "file_extension": ".py",
   "mimetype": "text/x-python",
   "name": "python",
   "nbconvert_exporter": "python",
   "pygments_lexer": "ipython3",
   "version": "3.10.11"
  },
  "orig_nbformat": 4
 },
 "nbformat": 4,
 "nbformat_minor": 2
}
