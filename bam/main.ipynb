{
 "cells": [
  {
   "cell_type": "code",
   "execution_count": 1,
   "metadata": {},
   "outputs": [
    {
     "name": "stdout",
     "output_type": "stream",
     "text": [
      "[Prompt] \"Hello\"\n",
      "[Result]  and \"Goodbye\" are the most common greetings in English.\n",
      "\n",
      "\"Hello\" is used to greet someone when you meet them or when you answer the phone. It's a friendly and informal way to say \"hi\" and is appropriate to use in most situations.\n",
      "\n",
      "\"Goodbye\" is used to bid farewell to someone when you're leaving or when you're ending a conversation on the phone. It's a polite way to say \"bye\" and is appropriate to use in most situations.\n",
      "\n",
      "Here are some examples of how to use \"Hello\" and \"Goodbye\" in different situations:\n",
      "\n",
      "* When you meet someone:\n",
      "\t+ \"Hello, my name is John.\"\n",
      "\t+ \"Hi, how are you?\"\n",
      "* When you answer the phone:\n",
      "\t+ \"Hello, this is John speaking.\"\n",
      "\t+ \"Hi, can I speak to Jane please?\"\n",
      "* When you're leaving:\n",
      "\t+ \"Goodbye, it was nice meeting you.\"\n",
      "\t+ \"See you later, have a great day.\"\n",
      "* When you're ending a conversation on the phone:\n",
      "\t+ \"Goodbye, I'll talk to you later.\"\n",
      "\t+ \"Thanks for your help, goodbye.\"\n",
      "\n",
      "It's worth noting that there are many other ways to greet people in English, depending on the time of day and the level of formality you want to convey. Here are a few more examples:\n",
      "\n",
      "* \"Good morning\" / \"Good afternoon\" / \"Good evening\" - These are more formal ways to greet someone, and are appropriate to use in professional or formal settings.\n",
      "* \"Hi there\" - This is a friendly and informal way to greet someone, and is appropriate to use in most social situations.\n",
      "* \"Hey\" - This is a casual and informal way to greet someone, and is often used with friends or in informal settings.\n",
      "* \"Greetings\" - This is a more formal way to greet someone, and is often used in business or professional settings.\n",
      "\n",
      "I hope this helps! Let me know if you have any other questions.\n"
     ]
    }
   ],
   "source": [
    "import os\n",
    "\n",
    "from dotenv import load_dotenv\n",
    "\n",
    "from genai.credentials import Credentials\n",
    "from genai.model import Model\n",
    "from genai.schemas import GenerateParams\n",
    "\n",
    "load_dotenv()\n",
    "api_key = os.getenv(\"GENAI_KEY\", None)\n",
    "api_endpoint = os.getenv(\"GENAI_API\", None)\n",
    "\n",
    "model_id = \"meta-llama/llama-2-70b-chat\" # https://bam.res.ibm.com/docs/models#meta-llama-llama-2-70b-chat\n",
    "\n",
    "params = GenerateParams(\n",
    "    decoding_method=\"sample\",\n",
    "    max_new_tokens=1200,\n",
    "  min_new_tokens=10,\n",
    "    stream=False,\n",
    "    temperature=0.05,\n",
    "    top_k=50,\n",
    "    top_p=1,\n",
    ")\n",
    "\n",
    "creds = Credentials(api_key, api_endpoint)\n",
    "model = Model(model_id, params=params, credentials=creds)\n",
    "\n",
    "prompt = input()\n",
    "print(f\"[Prompt] {prompt}\")\n",
    "\n",
    "response = model.generate([prompt])\n",
    "print(f\"[Result] {response[0].generated_text}\")"
   ]
  }
 ],
 "metadata": {
  "kernelspec": {
   "display_name": ".venv",
   "language": "python",
   "name": "python3"
  },
  "language_info": {
   "codemirror_mode": {
    "name": "ipython",
    "version": 3
   },
   "file_extension": ".py",
   "mimetype": "text/x-python",
   "name": "python",
   "nbconvert_exporter": "python",
   "pygments_lexer": "ipython3",
   "version": "3.10.11"
  },
  "orig_nbformat": 4
 },
 "nbformat": 4,
 "nbformat_minor": 2
}
