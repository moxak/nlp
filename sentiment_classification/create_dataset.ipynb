{
 "cells": [
  {
   "cell_type": "markdown",
   "metadata": {},
   "source": [
    "ファインチューニング用のデータセットをOpenAIのGPT APIを使って作成します。"
   ]
  },
  {
   "cell_type": "code",
   "execution_count": null,
   "metadata": {},
   "outputs": [],
   "source": []
  }
 ],
 "metadata": {
  "language_info": {
   "name": "python"
  },
  "orig_nbformat": 4
 },
 "nbformat": 4,
 "nbformat_minor": 2
}
