{
 "cells": [
  {
   "cell_type": "markdown",
   "metadata": {},
   "source": [
    "# 実行時間"
   ]
  },
  {
   "cell_type": "code",
   "execution_count": 1,
   "metadata": {},
   "outputs": [],
   "source": [
    "import os, sys, glob\n",
    "from typing import Dict, List, Tuple\n",
    "\n",
    "import numpy as np\n",
    "import pandas as pd\n",
    "import matplotlib.pyplot as plt\n",
    "import seaborn as sns\n",
    "import japanize_matplotlib\n",
    "\n",
    "from sklearn.metrics import precision_score, recall_score\n",
    "from transformers import BertForSequenceClassification, BertTokenizerFast, BertJapaneseTokenizer, Trainer, TrainingArguments\n",
    "from transformers import pipeline, Pipeline\n",
    "from datasets import load_dataset, Dataset\n",
    "\n",
    "pd.options.display.float_format = \"{:.4f}\".format\n"
   ]
  },
  {
   "cell_type": "code",
   "execution_count": 2,
   "metadata": {},
   "outputs": [],
   "source": [
    "def load_assets(model_path:str) -> Tuple[Trainer, Dataset]:\n",
    "  \"\"\"モデルとデータセットを読み込む\n",
    "  \"\"\"\n",
    "  # tokenizer = BertJapaneseTokenizer.from_pretrained('cl-tohoku/bert-base-japanese-v3')\n",
    "  tokenizer = BertJapaneseTokenizer.from_pretrained('cl-tohoku/bert-large-japanese-v2')\n",
    "  dataset = load_dataset('dataset_loader.py', name='sentiment_dataset')\n",
    "\n",
    "  def _tokenize(batch):\n",
    "      return tokenizer(batch['text'], padding='max_length', truncation=True)\n",
    "\n",
    "  # データセットを準備する\n",
    "  eval_dataset =  dataset['validation'].map(_tokenize, batched=True)\n",
    "  eval_dataset.set_format('torch', columns=['input_ids', 'attention_mask', 'label'])\n",
    "\n",
    "  # モデルを読み込む\n",
    "  model = BertForSequenceClassification.from_pretrained(model_path, num_labels=3)\n",
    "  trainer = Trainer(\n",
    "      model=model\n",
    "  )\n",
    "  return trainer, eval_dataset\n",
    "\n",
    "def predict(sentiment_analyzer:Pipeline, eval_dataset:Dataset) -> Dict[np.ndarray, np.ndarray]:\n",
    "# def predict(trainer:Trainer, eval_dataset:Dataset) -> Dict[np.ndarray, np.ndarray]:\n",
    "  # metricsを計算する\n",
    "  # print(trainer.evaluate(eval_dataset))\n",
    "  # 予測する\n",
    "  predictions = sentiment_analyzer.predict(eval_dataset)\n",
    "  return {'predict_proba':predictions.predictions, 'labels':np.argmax(predictions.predictions, axis=1)}\n",
    "\n",
    "def evaluate(y_true, y_pred, method='macro', verbose=True):\n",
    "  precision_macro = precision_score(y_true, y_pred, average=method)\n",
    "  recall_macro = recall_score(y_true, y_pred, average=method)\n",
    "  f1 = 2 * (precision_macro * recall_macro) / (precision_macro + recall_macro)\n",
    "  if verbose:\n",
    "    print(f'precision_macro: {precision_macro:.3f}\\nrecall_macro: {recall_macro:.3f}\\nf1: {f1:.3f}')\n",
    "    display(pd.crosstab(y_true, y_pred, rownames=['True'], colnames=['Predicted'], margins=True))\n",
    "  return precision_macro, recall_macro, f1\n",
    "\n",
    "def calculate_f1_score(model_name: str, eval_df: pd.DataFrame):\n",
    "  prefix = model_name.split('/')[-1]\n",
    "  prediction_results = predict(*load_assets(model_name))\n",
    "  eval_df[f'pred_{prefix}'] = prediction_results['labels']\n",
    "  _, _, f1 = evaluate(eval_df['label'], eval_df[f'pred_{prefix}'])\n",
    "  return f1"
   ]
  },
  {
   "cell_type": "code",
   "execution_count": 3,
   "metadata": {},
   "outputs": [
    {
     "data": {
      "application/vnd.jupyter.widget-view+json": {
       "model_id": "8bf7cdce3e004095831adbf6482912bb",
       "version_major": 2,
       "version_minor": 0
      },
      "text/plain": [
       "Generating train split: 0 examples [00:00, ? examples/s]"
      ]
     },
     "metadata": {},
     "output_type": "display_data"
    },
    {
     "data": {
      "application/vnd.jupyter.widget-view+json": {
       "model_id": "d9e5781faf494ea09b908567b78ffbd6",
       "version_major": 2,
       "version_minor": 0
      },
      "text/plain": [
       "Generating test split: 0 examples [00:00, ? examples/s]"
      ]
     },
     "metadata": {},
     "output_type": "display_data"
    },
    {
     "data": {
      "application/vnd.jupyter.widget-view+json": {
       "model_id": "7efd48cfcd51469d9df402b185390cd0",
       "version_major": 2,
       "version_minor": 0
      },
      "text/plain": [
       "Generating validation split: 0 examples [00:00, ? examples/s]"
      ]
     },
     "metadata": {},
     "output_type": "display_data"
    },
    {
     "name": "stdout",
     "output_type": "stream",
     "text": [
      "Dataset({\n",
      "    features: ['text', 'label'],\n",
      "    num_rows: 325\n",
      "})\n"
     ]
    },
    {
     "data": {
      "text/html": [
       "<div>\n",
       "<style scoped>\n",
       "    .dataframe tbody tr th:only-of-type {\n",
       "        vertical-align: middle;\n",
       "    }\n",
       "\n",
       "    .dataframe tbody tr th {\n",
       "        vertical-align: top;\n",
       "    }\n",
       "\n",
       "    .dataframe thead th {\n",
       "        text-align: right;\n",
       "    }\n",
       "</style>\n",
       "<table border=\"1\" class=\"dataframe\">\n",
       "  <thead>\n",
       "    <tr style=\"text-align: right;\">\n",
       "      <th></th>\n",
       "      <th>text</th>\n",
       "      <th>label</th>\n",
       "    </tr>\n",
       "  </thead>\n",
       "  <tbody>\n",
       "    <tr>\n",
       "      <th>0</th>\n",
       "      <td>以前より高くなっている 。</td>\n",
       "      <td>0</td>\n",
       "    </tr>\n",
       "    <tr>\n",
       "      <th>1</th>\n",
       "      <td>小岩井の生乳100％ヨーグルトを安くしてくださって嬉しいです これからも買い続けるのでお値段...</td>\n",
       "      <td>1</td>\n",
       "    </tr>\n",
       "    <tr>\n",
       "      <th>2</th>\n",
       "      <td>ＱＵＩＣpayで支払いで10%OＦＦにするならば、majicaにチャージして支払いをした場合...</td>\n",
       "      <td>1</td>\n",
       "    </tr>\n",
       "    <tr>\n",
       "      <th>3</th>\n",
       "      <td>9月の特売品がたくさん有って良かったです!</td>\n",
       "      <td>1</td>\n",
       "    </tr>\n",
       "    <tr>\n",
       "      <th>4</th>\n",
       "      <td>是非気軽にいただける飲食店を増やしてほしいです！フードコートでも店舗でも。</td>\n",
       "      <td>1</td>\n",
       "    </tr>\n",
       "  </tbody>\n",
       "</table>\n",
       "</div>"
      ],
      "text/plain": [
       "                                                text  label\n",
       "0                                      以前より高くなっている 。      0\n",
       "1  小岩井の生乳100％ヨーグルトを安くしてくださって嬉しいです これからも買い続けるのでお値段...      1\n",
       "2  ＱＵＩＣpayで支払いで10%OＦＦにするならば、majicaにチャージして支払いをした場合...      1\n",
       "3                              9月の特売品がたくさん有って良かったです!      1\n",
       "4              是非気軽にいただける飲食店を増やしてほしいです！フードコートでも店舗でも。      1"
      ]
     },
     "execution_count": 3,
     "metadata": {},
     "output_type": "execute_result"
    }
   ],
   "source": [
    "eval_dataset = load_dataset('dataset_loader.py', name='sentiment_dataset')['validation']\n",
    "print(eval_dataset)\n",
    "eval_df = eval_dataset.to_pandas()\n",
    "eval_df.head()"
   ]
  },
  {
   "cell_type": "code",
   "execution_count": 6,
   "metadata": {},
   "outputs": [],
   "source": [
    "from transformers import pipeline\n",
    "# ref:https://huggingface.co/docs/transformers/main_classes/pipelines\n",
    "\n",
    "model = BertForSequenceClassification.from_pretrained('./results', num_labels=3)\n",
    "tokenizer = BertJapaneseTokenizer.from_pretrained('cl-tohoku/bert-large-japanese-v2')\n",
    "sentiment_analyzer = pipeline('sentiment-analysis', model=model, tokenizer=tokenizer)"
   ]
  },
  {
   "cell_type": "markdown",
   "metadata": {},
   "source": [
    "- GPU: 3104件で1分10秒程度, 173037件で1時間5分程度\n",
    "- CPU: 3104件で4分, 173037件で3時間45分程度"
   ]
  },
  {
   "cell_type": "code",
   "execution_count": 9,
   "metadata": {},
   "outputs": [],
   "source": [
    "voc_all_df = pd.read_csv(\n",
    "    os.path.join('..\\\\1_insight_summary\\\\data\\\\STARS_4月\\\\data.csv'), encoding='cp932')\n",
    "target_store_list = ['MEGAドン・キホーテUNY東海通店', 'MEGAドン・キホーテUNY 横浜大口店', 'ドン・キホーテ 川西店', 'ドン・キホーテ 六本木店','小樽店']\n",
    "\n",
    "_df = voc_all_df.query('store_name in @target_store_list')"
   ]
  },
  {
   "cell_type": "code",
   "execution_count": 11,
   "metadata": {},
   "outputs": [
    {
     "data": {
      "text/plain": [
       "(3104, 16)"
      ]
     },
     "execution_count": 11,
     "metadata": {},
     "output_type": "execute_result"
    }
   ],
   "source": [
    "_df.shape"
   ]
  },
  {
   "cell_type": "code",
   "execution_count": 10,
   "metadata": {},
   "outputs": [
    {
     "name": "stderr",
     "output_type": "stream",
     "text": [
      "c:\\Users\\000063JP6\\Documents\\15_案件\\09_PPIH\\技術検証②\\nlp\\.venv\\lib\\site-packages\\transformers\\pipelines\\text_classification.py:104: UserWarning: `return_all_scores` is now deprecated,  if want a similar functionality use `top_k=None` instead of `return_all_scores=True` or `top_k=1` instead of `return_all_scores=False`.\n",
      "  warnings.warn(\n",
      "C:\\Users\\000063JP6\\AppData\\Local\\Temp\\ipykernel_11660\\3135849880.py:1: SettingWithCopyWarning: \n",
      "A value is trying to be set on a copy of a slice from a DataFrame.\n",
      "Try using .loc[row_indexer,col_indexer] = value instead\n",
      "\n",
      "See the caveats in the documentation: https://pandas.pydata.org/pandas-docs/stable/user_guide/indexing.html#returning-a-view-versus-a-copy\n",
      "  _df['sentiment_results'] = _df['answer_question'].apply(lambda x: sentiment_analyzer(x, return_all_scores=True))\n"
     ]
    }
   ],
   "source": [
    "_df['sentiment_results'] = _df['answer_question'].apply(lambda x: sentiment_analyzer(x, return_all_scores=True))"
   ]
  },
  {
   "cell_type": "code",
   "execution_count": 21,
   "metadata": {},
   "outputs": [
    {
     "data": {
      "text/plain": [
       "[[{'label': 'LABEL_0', 'score': 0.0009338804520666599},\n",
       "  {'label': 'LABEL_1', 'score': 0.9943874478340149},\n",
       "  {'label': 'LABEL_2', 'score': 0.004678693599998951}]]"
      ]
     },
     "execution_count": 21,
     "metadata": {},
     "output_type": "execute_result"
    }
   ],
   "source": [
    "_df['sentiment_results'].iloc[0]"
   ]
  },
  {
   "cell_type": "code",
   "execution_count": null,
   "metadata": {},
   "outputs": [],
   "source": []
  }
 ],
 "metadata": {
  "interpreter": {
   "hash": "1685e972c8e6ae035eec8c83118266536b1044e7517d791fce49ac42e275e5e1"
  },
  "kernelspec": {
   "display_name": "Python 3.10.4 ('.venv': poetry)",
   "language": "python",
   "name": "python3"
  },
  "language_info": {
   "codemirror_mode": {
    "name": "ipython",
    "version": 3
   },
   "file_extension": ".py",
   "mimetype": "text/x-python",
   "name": "python",
   "nbconvert_exporter": "python",
   "pygments_lexer": "ipython3",
   "version": "3.10.4"
  },
  "orig_nbformat": 4
 },
 "nbformat": 4,
 "nbformat_minor": 2
}
