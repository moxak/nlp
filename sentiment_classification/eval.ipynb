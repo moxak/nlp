{
 "cells": [
  {
   "cell_type": "markdown",
   "metadata": {},
   "source": [
    "# 評価"
   ]
  },
  {
   "cell_type": "markdown",
   "metadata": {},
   "source": [
    "- トークナイザは`cl-tohoku/bert-large-japanese-v2`固定"
   ]
  },
  {
   "cell_type": "code",
   "execution_count": 11,
   "metadata": {},
   "outputs": [],
   "source": [
    "import os, sys, glob\n",
    "from typing import Dict, List, Tuple\n",
    "\n",
    "import numpy as np\n",
    "import pandas as pd\n",
    "import matplotlib.pyplot as plt\n",
    "import seaborn as sns\n",
    "import japanize_matplotlib\n",
    "\n",
    "from sklearn.metrics import precision_score, recall_score\n",
    "from transformers import BertForSequenceClassification, BertTokenizerFast, BertJapaneseTokenizer, Trainer, TrainingArguments\n",
    "from transformers import pipeline, Pipeline\n",
    "from datasets import load_dataset, Dataset\n",
    "\n",
    "pd.options.display.float_format = \"{:.4f}\".format\n"
   ]
  },
  {
   "cell_type": "code",
   "execution_count": null,
   "metadata": {},
   "outputs": [],
   "source": [
    "def load_assets(model_path:str) -> Tuple[Trainer, Dataset]:\n",
    "  \"\"\"モデルとデータセットを読み込む\n",
    "  \"\"\"\n",
    "  # tokenizer = BertJapaneseTokenizer.from_pretrained('cl-tohoku/bert-base-japanese-v3')\n",
    "  tokenizer = BertJapaneseTokenizer.from_pretrained('cl-tohoku/bert-large-japanese-v2')\n",
    "  dataset = load_dataset('dataset_loader.py', name='sentiment_dataset')\n",
    "\n",
    "  def _tokenize(batch):\n",
    "      return tokenizer(batch['text'], padding='max_length', truncation=True)\n",
    "\n",
    "  # データセットを準備する\n",
    "  eval_dataset =  dataset['validation'].map(_tokenize, batched=True)\n",
    "  eval_dataset.set_format('torch', columns=['input_ids', 'attention_mask', 'label'])\n",
    "\n",
    "  # モデルを読み込む\n",
    "  model = BertForSequenceClassification.from_pretrained(model_path, num_labels=3)\n",
    "  trainer = Trainer(\n",
    "      model=model\n",
    "  )\n",
    "  return trainer, eval_dataset\n",
    "\n",
    "def predict(sentiment_analyzer:Pipeline, eval_dataset:Dataset) -> Dict[np.ndarray, np.ndarray]:\n",
    "# def predict(trainer:Trainer, eval_dataset:Dataset) -> Dict[np.ndarray, np.ndarray]:\n",
    "  # metricsを計算する\n",
    "  # print(trainer.evaluate(eval_dataset))\n",
    "  # 予測する\n",
    "  predictions = sentiment_analyzer.predict(eval_dataset)\n",
    "  return {'predict_proba':predictions.predictions, 'labels':np.argmax(predictions.predictions, axis=1)}\n",
    "\n",
    "def evaluate(y_true, y_pred, method='macro', verbose=True):\n",
    "  precision_macro = precision_score(y_true, y_pred, average=method)\n",
    "  recall_macro = recall_score(y_true, y_pred, average=method)\n",
    "  f1 = 2 * (precision_macro * recall_macro) / (precision_macro + recall_macro)\n",
    "  if verbose:\n",
    "    print(f'precision_macro: {precision_macro:.3f}\\nrecall_macro: {recall_macro:.3f}\\nf1: {f1:.3f}')\n",
    "    display(pd.crosstab(y_true, y_pred, rownames=['True'], colnames=['Predicted'], margins=True))\n",
    "  return precision_macro, recall_macro, f1\n",
    "\n",
    "def calculate_f1_score(model_name: str, eval_df: pd.DataFrame):\n",
    "  prefix = model_name.split('/')[-1]\n",
    "  prediction_results = predict(*load_assets(model_name))\n",
    "  eval_df[f'pred_{prefix}'] = prediction_results['labels']\n",
    "  _, _, f1 = evaluate(eval_df['label'], eval_df[f'pred_{prefix}'])\n",
    "  return f1"
   ]
  },
  {
   "cell_type": "code",
   "execution_count": 264,
   "metadata": {},
   "outputs": [],
   "source": [
    "results = {\n",
    "  '東北大日本語BERT': {\n",
    "    'base':'-',\n",
    "    'large':'-',\n",
    "  },\n",
    "  'Fine-Tuning-3epochs': {\n",
    "    'base': '-',\n",
    "    'large': '-'\n",
    "  },\n",
    "  'Fine-Tuning-10epochs': {\n",
    "    'base': '-',\n",
    "    'large': '-'   \n",
    "  },\n",
    "  'Fine-Tuning-50epochs': {\n",
    "    'base': '-',\n",
    "    'large': '-'\n",
    "  },\n",
    "  'Fine-Tuning-100epochs': {\n",
    "    'base': '-',\n",
    "    'large': '-'\n",
    "  }\n",
    "}"
   ]
  },
  {
   "cell_type": "code",
   "execution_count": null,
   "metadata": {},
   "outputs": [
    {
     "name": "stdout",
     "output_type": "stream",
     "text": [
      "Dataset({\n",
      "    features: ['text', 'label'],\n",
      "    num_rows: 325\n",
      "})\n"
     ]
    },
    {
     "data": {
      "text/html": [
       "<div>\n",
       "<style scoped>\n",
       "    .dataframe tbody tr th:only-of-type {\n",
       "        vertical-align: middle;\n",
       "    }\n",
       "\n",
       "    .dataframe tbody tr th {\n",
       "        vertical-align: top;\n",
       "    }\n",
       "\n",
       "    .dataframe thead th {\n",
       "        text-align: right;\n",
       "    }\n",
       "</style>\n",
       "<table border=\"1\" class=\"dataframe\">\n",
       "  <thead>\n",
       "    <tr style=\"text-align: right;\">\n",
       "      <th></th>\n",
       "      <th>text</th>\n",
       "      <th>label</th>\n",
       "    </tr>\n",
       "  </thead>\n",
       "  <tbody>\n",
       "    <tr>\n",
       "      <th>0</th>\n",
       "      <td>以前より高くなっている 。</td>\n",
       "      <td>0</td>\n",
       "    </tr>\n",
       "    <tr>\n",
       "      <th>1</th>\n",
       "      <td>小岩井の生乳100％ヨーグルトを安くしてくださって嬉しいです これからも買い続けるのでお値段...</td>\n",
       "      <td>1</td>\n",
       "    </tr>\n",
       "    <tr>\n",
       "      <th>2</th>\n",
       "      <td>ＱＵＩＣpayで支払いで10%OＦＦにするならば、majicaにチャージして支払いをした場合...</td>\n",
       "      <td>1</td>\n",
       "    </tr>\n",
       "    <tr>\n",
       "      <th>3</th>\n",
       "      <td>9月の特売品がたくさん有って良かったです!</td>\n",
       "      <td>1</td>\n",
       "    </tr>\n",
       "    <tr>\n",
       "      <th>4</th>\n",
       "      <td>是非気軽にいただける飲食店を増やしてほしいです！フードコートでも店舗でも。</td>\n",
       "      <td>1</td>\n",
       "    </tr>\n",
       "  </tbody>\n",
       "</table>\n",
       "</div>"
      ],
      "text/plain": [
       "                                                text  label\n",
       "0                                      以前より高くなっている 。      0\n",
       "1  小岩井の生乳100％ヨーグルトを安くしてくださって嬉しいです これからも買い続けるのでお値段...      1\n",
       "2  ＱＵＩＣpayで支払いで10%OＦＦにするならば、majicaにチャージして支払いをした場合...      1\n",
       "3                              9月の特売品がたくさん有って良かったです!      1\n",
       "4              是非気軽にいただける飲食店を増やしてほしいです！フードコートでも店舗でも。      1"
      ]
     },
     "execution_count": 244,
     "metadata": {},
     "output_type": "execute_result"
    }
   ],
   "source": [
    "eval_dataset = load_dataset('dataset_loader.py', name='sentiment_dataset')['validation']\n",
    "print(eval_dataset)\n",
    "eval_df = eval_dataset.to_pandas()\n",
    "eval_df.head()"
   ]
  },
  {
   "cell_type": "code",
   "execution_count": null,
   "metadata": {},
   "outputs": [],
   "source": [
    "from transformers import pipeline\n",
    "# ref:https://huggingface.co/docs/transformers/main_classes/pipelines\n",
    "\n",
    "model = BertForSequenceClassification.from_pretrained('./results', num_labels=3)\n",
    "tokenizer = BertJapaneseTokenizer.from_pretrained('cl-tohoku/bert-large-japanese-v2')\n",
    "sentiment_analyzer = pipeline('sentiment-analysis', model=model, tokenizer=tokenizer)"
   ]
  },
  {
   "cell_type": "code",
   "execution_count": 17,
   "metadata": {},
   "outputs": [
    {
     "name": "stdout",
     "output_type": "stream",
     "text": [
      "[[{'label': 'LABEL_1', 'score': 0.9616061449050903}],\n",
      " [{'label': 'LABEL_1', 'score': 0.4617416262626648}],\n",
      " [{'label': 'LABEL_2', 'score': 0.5467666983604431}]]\n"
     ]
    }
   ],
   "source": [
    "from pprint import pprint \n",
    "pprint(\n",
    "    [sentiment_analyzer('確かにすばらしいことです。私の注文が届くまでに3週間かかりました'), # \n",
    "    sentiment_analyzer('私はサブスクリプションが高額であったとは言いません'),\n",
    "    sentiment_analyzer('頑丈な造りであることには満足していますが、色には感心していません')])"
   ]
  },
  {
   "cell_type": "markdown",
   "metadata": {},
   "source": [
    "## 東北大BERT vs FTBERT"
   ]
  },
  {
   "cell_type": "markdown",
   "metadata": {},
   "source": [
    "東北大BERT-base"
   ]
  },
  {
   "cell_type": "code",
   "execution_count": 265,
   "metadata": {},
   "outputs": [
    {
     "name": "stderr",
     "output_type": "stream",
     "text": [
      "Some weights of BertForSequenceClassification were not initialized from the model checkpoint at cl-tohoku/bert-base-japanese-v3 and are newly initialized: ['classifier.bias', 'classifier.weight']\n",
      "You should probably TRAIN this model on a down-stream task to be able to use it for predictions and inference.\n"
     ]
    },
    {
     "data": {
      "application/vnd.jupyter.widget-view+json": {
       "model_id": "c5ef5b05269f49ae9a94b3accabb44e8",
       "version_major": 2,
       "version_minor": 0
      },
      "text/plain": [
       "  0%|          | 0/41 [00:00<?, ?it/s]"
      ]
     },
     "metadata": {},
     "output_type": "display_data"
    },
    {
     "name": "stdout",
     "output_type": "stream",
     "text": [
      "precision_macro: 0.291\n",
      "recall_macro: 0.320\n",
      "f1: 0.304\n"
     ]
    },
    {
     "data": {
      "text/html": [
       "<div>\n",
       "<style scoped>\n",
       "    .dataframe tbody tr th:only-of-type {\n",
       "        vertical-align: middle;\n",
       "    }\n",
       "\n",
       "    .dataframe tbody tr th {\n",
       "        vertical-align: top;\n",
       "    }\n",
       "\n",
       "    .dataframe thead th {\n",
       "        text-align: right;\n",
       "    }\n",
       "</style>\n",
       "<table border=\"1\" class=\"dataframe\">\n",
       "  <thead>\n",
       "    <tr style=\"text-align: right;\">\n",
       "      <th>Predicted</th>\n",
       "      <th>0</th>\n",
       "      <th>1</th>\n",
       "      <th>2</th>\n",
       "      <th>All</th>\n",
       "    </tr>\n",
       "    <tr>\n",
       "      <th>True</th>\n",
       "      <th></th>\n",
       "      <th></th>\n",
       "      <th></th>\n",
       "      <th></th>\n",
       "    </tr>\n",
       "  </thead>\n",
       "  <tbody>\n",
       "    <tr>\n",
       "      <th>0</th>\n",
       "      <td>2</td>\n",
       "      <td>52</td>\n",
       "      <td>37</td>\n",
       "      <td>91</td>\n",
       "    </tr>\n",
       "    <tr>\n",
       "      <th>1</th>\n",
       "      <td>3</td>\n",
       "      <td>88</td>\n",
       "      <td>73</td>\n",
       "      <td>164</td>\n",
       "    </tr>\n",
       "    <tr>\n",
       "      <th>2</th>\n",
       "      <td>7</td>\n",
       "      <td>35</td>\n",
       "      <td>28</td>\n",
       "      <td>70</td>\n",
       "    </tr>\n",
       "    <tr>\n",
       "      <th>All</th>\n",
       "      <td>12</td>\n",
       "      <td>175</td>\n",
       "      <td>138</td>\n",
       "      <td>325</td>\n",
       "    </tr>\n",
       "  </tbody>\n",
       "</table>\n",
       "</div>"
      ],
      "text/plain": [
       "Predicted   0    1    2  All\n",
       "True                        \n",
       "0           2   52   37   91\n",
       "1           3   88   73  164\n",
       "2           7   35   28   70\n",
       "All        12  175  138  325"
      ]
     },
     "metadata": {},
     "output_type": "display_data"
    }
   ],
   "source": [
    "model_name = 'cl-tohoku/bert-base-japanese-v3'\n",
    "results['東北大日本語BERT']['base'] = calculate_f1_score(model_name=model_name, eval_df=eval_df)"
   ]
  },
  {
   "cell_type": "markdown",
   "metadata": {},
   "source": [
    "東北大BERT-large"
   ]
  },
  {
   "cell_type": "code",
   "execution_count": 266,
   "metadata": {},
   "outputs": [
    {
     "name": "stderr",
     "output_type": "stream",
     "text": [
      "Some weights of BertForSequenceClassification were not initialized from the model checkpoint at cl-tohoku/bert-large-japanese-v2 and are newly initialized: ['classifier.bias', 'classifier.weight']\n",
      "You should probably TRAIN this model on a down-stream task to be able to use it for predictions and inference.\n"
     ]
    },
    {
     "data": {
      "application/vnd.jupyter.widget-view+json": {
       "model_id": "7ebb0821be0b4eea8094b360744f3027",
       "version_major": 2,
       "version_minor": 0
      },
      "text/plain": [
       "  0%|          | 0/41 [00:00<?, ?it/s]"
      ]
     },
     "metadata": {},
     "output_type": "display_data"
    },
    {
     "name": "stdout",
     "output_type": "stream",
     "text": [
      "precision_macro: 0.174\n",
      "recall_macro: 0.326\n",
      "f1: 0.227\n"
     ]
    },
    {
     "name": "stderr",
     "output_type": "stream",
     "text": [
      "c:\\Users\\mak1_\\Documents\\Code\\nlp\\.venv\\lib\\site-packages\\sklearn\\metrics\\_classification.py:1469: UndefinedMetricWarning: Precision is ill-defined and being set to 0.0 in labels with no predicted samples. Use `zero_division` parameter to control this behavior.\n",
      "  _warn_prf(average, modifier, msg_start, len(result))\n"
     ]
    },
    {
     "data": {
      "text/html": [
       "<div>\n",
       "<style scoped>\n",
       "    .dataframe tbody tr th:only-of-type {\n",
       "        vertical-align: middle;\n",
       "    }\n",
       "\n",
       "    .dataframe tbody tr th {\n",
       "        vertical-align: top;\n",
       "    }\n",
       "\n",
       "    .dataframe thead th {\n",
       "        text-align: right;\n",
       "    }\n",
       "</style>\n",
       "<table border=\"1\" class=\"dataframe\">\n",
       "  <thead>\n",
       "    <tr style=\"text-align: right;\">\n",
       "      <th>Predicted</th>\n",
       "      <th>0</th>\n",
       "      <th>1</th>\n",
       "      <th>All</th>\n",
       "    </tr>\n",
       "    <tr>\n",
       "      <th>True</th>\n",
       "      <th></th>\n",
       "      <th></th>\n",
       "      <th></th>\n",
       "    </tr>\n",
       "  </thead>\n",
       "  <tbody>\n",
       "    <tr>\n",
       "      <th>0</th>\n",
       "      <td>85</td>\n",
       "      <td>6</td>\n",
       "      <td>91</td>\n",
       "    </tr>\n",
       "    <tr>\n",
       "      <th>1</th>\n",
       "      <td>157</td>\n",
       "      <td>7</td>\n",
       "      <td>164</td>\n",
       "    </tr>\n",
       "    <tr>\n",
       "      <th>2</th>\n",
       "      <td>53</td>\n",
       "      <td>17</td>\n",
       "      <td>70</td>\n",
       "    </tr>\n",
       "    <tr>\n",
       "      <th>All</th>\n",
       "      <td>295</td>\n",
       "      <td>30</td>\n",
       "      <td>325</td>\n",
       "    </tr>\n",
       "  </tbody>\n",
       "</table>\n",
       "</div>"
      ],
      "text/plain": [
       "Predicted    0   1  All\n",
       "True                   \n",
       "0           85   6   91\n",
       "1          157   7  164\n",
       "2           53  17   70\n",
       "All        295  30  325"
      ]
     },
     "metadata": {},
     "output_type": "display_data"
    }
   ],
   "source": [
    "model_name = 'cl-tohoku/bert-large-japanese-v2'\n",
    "results['東北大日本語BERT']['large'] = calculate_f1_score(model_name=model_name, eval_df=eval_df)"
   ]
  },
  {
   "cell_type": "markdown",
   "metadata": {},
   "source": [
    "FT BERT-base 3 epochs (240 steps)"
   ]
  },
  {
   "cell_type": "code",
   "execution_count": 267,
   "metadata": {},
   "outputs": [
    {
     "data": {
      "application/vnd.jupyter.widget-view+json": {
       "model_id": "f92d1f2fcdd142a08f24e6cd89a8307b",
       "version_major": 2,
       "version_minor": 0
      },
      "text/plain": [
       "  0%|          | 0/41 [00:00<?, ?it/s]"
      ]
     },
     "metadata": {},
     "output_type": "display_data"
    },
    {
     "name": "stdout",
     "output_type": "stream",
     "text": [
      "precision_macro: 0.758\n",
      "recall_macro: 0.699\n",
      "f1: 0.727\n"
     ]
    },
    {
     "data": {
      "text/html": [
       "<div>\n",
       "<style scoped>\n",
       "    .dataframe tbody tr th:only-of-type {\n",
       "        vertical-align: middle;\n",
       "    }\n",
       "\n",
       "    .dataframe tbody tr th {\n",
       "        vertical-align: top;\n",
       "    }\n",
       "\n",
       "    .dataframe thead th {\n",
       "        text-align: right;\n",
       "    }\n",
       "</style>\n",
       "<table border=\"1\" class=\"dataframe\">\n",
       "  <thead>\n",
       "    <tr style=\"text-align: right;\">\n",
       "      <th>Predicted</th>\n",
       "      <th>0</th>\n",
       "      <th>1</th>\n",
       "      <th>2</th>\n",
       "      <th>All</th>\n",
       "    </tr>\n",
       "    <tr>\n",
       "      <th>True</th>\n",
       "      <th></th>\n",
       "      <th></th>\n",
       "      <th></th>\n",
       "      <th></th>\n",
       "    </tr>\n",
       "  </thead>\n",
       "  <tbody>\n",
       "    <tr>\n",
       "      <th>0</th>\n",
       "      <td>71</td>\n",
       "      <td>14</td>\n",
       "      <td>6</td>\n",
       "      <td>91</td>\n",
       "    </tr>\n",
       "    <tr>\n",
       "      <th>1</th>\n",
       "      <td>4</td>\n",
       "      <td>155</td>\n",
       "      <td>5</td>\n",
       "      <td>164</td>\n",
       "    </tr>\n",
       "    <tr>\n",
       "      <th>2</th>\n",
       "      <td>15</td>\n",
       "      <td>29</td>\n",
       "      <td>26</td>\n",
       "      <td>70</td>\n",
       "    </tr>\n",
       "    <tr>\n",
       "      <th>All</th>\n",
       "      <td>90</td>\n",
       "      <td>198</td>\n",
       "      <td>37</td>\n",
       "      <td>325</td>\n",
       "    </tr>\n",
       "  </tbody>\n",
       "</table>\n",
       "</div>"
      ],
      "text/plain": [
       "Predicted   0    1   2  All\n",
       "True                       \n",
       "0          71   14   6   91\n",
       "1           4  155   5  164\n",
       "2          15   29  26   70\n",
       "All        90  198  37  325"
      ]
     },
     "metadata": {},
     "output_type": "display_data"
    }
   ],
   "source": [
    "model_name = 'results_bert-base-japanese-v3_3'\n",
    "results['Fine-Tuning-3epochs']['base'] = calculate_f1_score(model_name=model_name, eval_df=eval_df)"
   ]
  },
  {
   "cell_type": "markdown",
   "metadata": {},
   "source": [
    "FT BERT-large 3 epochs (970 steps)\n",
    "\n",
    "```json\n",
    "{'eval_loss': 1.0628305673599243,\n",
    " 'eval_runtime': 58.2609,\n",
    " 'eval_samples_per_second': 5.561,\n",
    " 'eval_steps_per_second': 1.39,\n",
    " 'epoch': 3.0}\n",
    "```"
   ]
  },
  {
   "cell_type": "code",
   "execution_count": 293,
   "metadata": {},
   "outputs": [
    {
     "data": {
      "application/vnd.jupyter.widget-view+json": {
       "model_id": "17791acf9d2a4cefa497cdf5f0849d59",
       "version_major": 2,
       "version_minor": 0
      },
      "text/plain": [
       "  0%|          | 0/41 [00:00<?, ?it/s]"
      ]
     },
     "metadata": {},
     "output_type": "display_data"
    },
    {
     "name": "stdout",
     "output_type": "stream",
     "text": [
      "precision_macro: 0.168\n",
      "recall_macro: 0.333\n",
      "f1: 0.224\n"
     ]
    },
    {
     "name": "stderr",
     "output_type": "stream",
     "text": [
      "c:\\Users\\mak1_\\Documents\\Code\\nlp\\.venv\\lib\\site-packages\\sklearn\\metrics\\_classification.py:1469: UndefinedMetricWarning: Precision is ill-defined and being set to 0.0 in labels with no predicted samples. Use `zero_division` parameter to control this behavior.\n",
      "  _warn_prf(average, modifier, msg_start, len(result))\n"
     ]
    },
    {
     "data": {
      "text/html": [
       "<div>\n",
       "<style scoped>\n",
       "    .dataframe tbody tr th:only-of-type {\n",
       "        vertical-align: middle;\n",
       "    }\n",
       "\n",
       "    .dataframe tbody tr th {\n",
       "        vertical-align: top;\n",
       "    }\n",
       "\n",
       "    .dataframe thead th {\n",
       "        text-align: right;\n",
       "    }\n",
       "</style>\n",
       "<table border=\"1\" class=\"dataframe\">\n",
       "  <thead>\n",
       "    <tr style=\"text-align: right;\">\n",
       "      <th>Predicted</th>\n",
       "      <th>1</th>\n",
       "      <th>All</th>\n",
       "    </tr>\n",
       "    <tr>\n",
       "      <th>True</th>\n",
       "      <th></th>\n",
       "      <th></th>\n",
       "    </tr>\n",
       "  </thead>\n",
       "  <tbody>\n",
       "    <tr>\n",
       "      <th>0</th>\n",
       "      <td>91</td>\n",
       "      <td>91</td>\n",
       "    </tr>\n",
       "    <tr>\n",
       "      <th>1</th>\n",
       "      <td>164</td>\n",
       "      <td>164</td>\n",
       "    </tr>\n",
       "    <tr>\n",
       "      <th>2</th>\n",
       "      <td>70</td>\n",
       "      <td>70</td>\n",
       "    </tr>\n",
       "    <tr>\n",
       "      <th>All</th>\n",
       "      <td>325</td>\n",
       "      <td>325</td>\n",
       "    </tr>\n",
       "  </tbody>\n",
       "</table>\n",
       "</div>"
      ],
      "text/plain": [
       "Predicted    1  All\n",
       "True               \n",
       "0           91   91\n",
       "1          164  164\n",
       "2           70   70\n",
       "All        325  325"
      ]
     },
     "metadata": {},
     "output_type": "display_data"
    }
   ],
   "source": [
    "model_name = 'results_bert-large-japanese-v2_3'\n",
    "results['Fine-Tuning-3epochs']['large'] = calculate_f1_score(model_name=model_name, eval_df=eval_df)"
   ]
  },
  {
   "cell_type": "markdown",
   "metadata": {},
   "source": [
    "FT BERT-base 10 epochs (810 steps)"
   ]
  },
  {
   "cell_type": "code",
   "execution_count": 275,
   "metadata": {},
   "outputs": [
    {
     "data": {
      "application/vnd.jupyter.widget-view+json": {
       "model_id": "e61562bc4dd54643bab51ad245426d46",
       "version_major": 2,
       "version_minor": 0
      },
      "text/plain": [
       "  0%|          | 0/41 [00:00<?, ?it/s]"
      ]
     },
     "metadata": {},
     "output_type": "display_data"
    },
    {
     "name": "stdout",
     "output_type": "stream",
     "text": [
      "precision_macro: 0.720\n",
      "recall_macro: 0.715\n",
      "f1: 0.718\n"
     ]
    },
    {
     "data": {
      "text/html": [
       "<div>\n",
       "<style scoped>\n",
       "    .dataframe tbody tr th:only-of-type {\n",
       "        vertical-align: middle;\n",
       "    }\n",
       "\n",
       "    .dataframe tbody tr th {\n",
       "        vertical-align: top;\n",
       "    }\n",
       "\n",
       "    .dataframe thead th {\n",
       "        text-align: right;\n",
       "    }\n",
       "</style>\n",
       "<table border=\"1\" class=\"dataframe\">\n",
       "  <thead>\n",
       "    <tr style=\"text-align: right;\">\n",
       "      <th>Predicted</th>\n",
       "      <th>0</th>\n",
       "      <th>1</th>\n",
       "      <th>2</th>\n",
       "      <th>All</th>\n",
       "    </tr>\n",
       "    <tr>\n",
       "      <th>True</th>\n",
       "      <th></th>\n",
       "      <th></th>\n",
       "      <th></th>\n",
       "      <th></th>\n",
       "    </tr>\n",
       "  </thead>\n",
       "  <tbody>\n",
       "    <tr>\n",
       "      <th>0</th>\n",
       "      <td>71</td>\n",
       "      <td>5</td>\n",
       "      <td>15</td>\n",
       "      <td>91</td>\n",
       "    </tr>\n",
       "    <tr>\n",
       "      <th>1</th>\n",
       "      <td>6</td>\n",
       "      <td>142</td>\n",
       "      <td>16</td>\n",
       "      <td>164</td>\n",
       "    </tr>\n",
       "    <tr>\n",
       "      <th>2</th>\n",
       "      <td>13</td>\n",
       "      <td>22</td>\n",
       "      <td>35</td>\n",
       "      <td>70</td>\n",
       "    </tr>\n",
       "    <tr>\n",
       "      <th>All</th>\n",
       "      <td>90</td>\n",
       "      <td>169</td>\n",
       "      <td>66</td>\n",
       "      <td>325</td>\n",
       "    </tr>\n",
       "  </tbody>\n",
       "</table>\n",
       "</div>"
      ],
      "text/plain": [
       "Predicted   0    1   2  All\n",
       "True                       \n",
       "0          71    5  15   91\n",
       "1           6  142  16  164\n",
       "2          13   22  35   70\n",
       "All        90  169  66  325"
      ]
     },
     "metadata": {},
     "output_type": "display_data"
    }
   ],
   "source": [
    "model_name = 'results_bert-base-japanese-v3_10'\n",
    "results['Fine-Tuning-10epochs']['base'] = calculate_f1_score(model_name=model_name, eval_df=eval_df)"
   ]
  },
  {
   "cell_type": "markdown",
   "metadata": {},
   "source": [
    "FT BERT-large 10 epochs (3200 steps)"
   ]
  },
  {
   "cell_type": "code",
   "execution_count": 269,
   "metadata": {},
   "outputs": [
    {
     "data": {
      "application/vnd.jupyter.widget-view+json": {
       "model_id": "9a3ee2b0184847098df7595cd11d583b",
       "version_major": 2,
       "version_minor": 0
      },
      "text/plain": [
       "  0%|          | 0/41 [00:00<?, ?it/s]"
      ]
     },
     "metadata": {},
     "output_type": "display_data"
    },
    {
     "name": "stdout",
     "output_type": "stream",
     "text": [
      "precision_macro: 0.168\n",
      "recall_macro: 0.333\n",
      "f1: 0.224\n"
     ]
    },
    {
     "name": "stderr",
     "output_type": "stream",
     "text": [
      "c:\\Users\\mak1_\\Documents\\Code\\nlp\\.venv\\lib\\site-packages\\sklearn\\metrics\\_classification.py:1469: UndefinedMetricWarning: Precision is ill-defined and being set to 0.0 in labels with no predicted samples. Use `zero_division` parameter to control this behavior.\n",
      "  _warn_prf(average, modifier, msg_start, len(result))\n"
     ]
    },
    {
     "data": {
      "text/html": [
       "<div>\n",
       "<style scoped>\n",
       "    .dataframe tbody tr th:only-of-type {\n",
       "        vertical-align: middle;\n",
       "    }\n",
       "\n",
       "    .dataframe tbody tr th {\n",
       "        vertical-align: top;\n",
       "    }\n",
       "\n",
       "    .dataframe thead th {\n",
       "        text-align: right;\n",
       "    }\n",
       "</style>\n",
       "<table border=\"1\" class=\"dataframe\">\n",
       "  <thead>\n",
       "    <tr style=\"text-align: right;\">\n",
       "      <th>Predicted</th>\n",
       "      <th>1</th>\n",
       "      <th>All</th>\n",
       "    </tr>\n",
       "    <tr>\n",
       "      <th>True</th>\n",
       "      <th></th>\n",
       "      <th></th>\n",
       "    </tr>\n",
       "  </thead>\n",
       "  <tbody>\n",
       "    <tr>\n",
       "      <th>0</th>\n",
       "      <td>91</td>\n",
       "      <td>91</td>\n",
       "    </tr>\n",
       "    <tr>\n",
       "      <th>1</th>\n",
       "      <td>164</td>\n",
       "      <td>164</td>\n",
       "    </tr>\n",
       "    <tr>\n",
       "      <th>2</th>\n",
       "      <td>70</td>\n",
       "      <td>70</td>\n",
       "    </tr>\n",
       "    <tr>\n",
       "      <th>All</th>\n",
       "      <td>325</td>\n",
       "      <td>325</td>\n",
       "    </tr>\n",
       "  </tbody>\n",
       "</table>\n",
       "</div>"
      ],
      "text/plain": [
       "Predicted    1  All\n",
       "True               \n",
       "0           91   91\n",
       "1          164  164\n",
       "2           70   70\n",
       "All        325  325"
      ]
     },
     "metadata": {},
     "output_type": "display_data"
    }
   ],
   "source": [
    "model_name = 'results_bert-large-japanese-v2_10'\n",
    "results['Fine-Tuning-10epochs']['large'] = calculate_f1_score(model_name=model_name, eval_df=eval_df)"
   ]
  },
  {
   "cell_type": "markdown",
   "metadata": {},
   "source": [
    "FT BERT-base 50 epochs (4050 steps)"
   ]
  },
  {
   "cell_type": "code",
   "execution_count": 283,
   "metadata": {},
   "outputs": [
    {
     "data": {
      "application/vnd.jupyter.widget-view+json": {
       "model_id": "b1744b084105475b8b11dd5511647a8f",
       "version_major": 2,
       "version_minor": 0
      },
      "text/plain": [
       "  0%|          | 0/41 [00:00<?, ?it/s]"
      ]
     },
     "metadata": {},
     "output_type": "display_data"
    },
    {
     "name": "stdout",
     "output_type": "stream",
     "text": [
      "precision_macro: 0.770\n",
      "recall_macro: 0.739\n",
      "f1: 0.754\n"
     ]
    },
    {
     "data": {
      "text/html": [
       "<div>\n",
       "<style scoped>\n",
       "    .dataframe tbody tr th:only-of-type {\n",
       "        vertical-align: middle;\n",
       "    }\n",
       "\n",
       "    .dataframe tbody tr th {\n",
       "        vertical-align: top;\n",
       "    }\n",
       "\n",
       "    .dataframe thead th {\n",
       "        text-align: right;\n",
       "    }\n",
       "</style>\n",
       "<table border=\"1\" class=\"dataframe\">\n",
       "  <thead>\n",
       "    <tr style=\"text-align: right;\">\n",
       "      <th>Predicted</th>\n",
       "      <th>0</th>\n",
       "      <th>1</th>\n",
       "      <th>2</th>\n",
       "      <th>All</th>\n",
       "    </tr>\n",
       "    <tr>\n",
       "      <th>True</th>\n",
       "      <th></th>\n",
       "      <th></th>\n",
       "      <th></th>\n",
       "      <th></th>\n",
       "    </tr>\n",
       "  </thead>\n",
       "  <tbody>\n",
       "    <tr>\n",
       "      <th>0</th>\n",
       "      <td>80</td>\n",
       "      <td>8</td>\n",
       "      <td>3</td>\n",
       "      <td>91</td>\n",
       "    </tr>\n",
       "    <tr>\n",
       "      <th>1</th>\n",
       "      <td>5</td>\n",
       "      <td>149</td>\n",
       "      <td>10</td>\n",
       "      <td>164</td>\n",
       "    </tr>\n",
       "    <tr>\n",
       "      <th>2</th>\n",
       "      <td>17</td>\n",
       "      <td>23</td>\n",
       "      <td>30</td>\n",
       "      <td>70</td>\n",
       "    </tr>\n",
       "    <tr>\n",
       "      <th>All</th>\n",
       "      <td>102</td>\n",
       "      <td>180</td>\n",
       "      <td>43</td>\n",
       "      <td>325</td>\n",
       "    </tr>\n",
       "  </tbody>\n",
       "</table>\n",
       "</div>"
      ],
      "text/plain": [
       "Predicted    0    1   2  All\n",
       "True                        \n",
       "0           80    8   3   91\n",
       "1            5  149  10  164\n",
       "2           17   23  30   70\n",
       "All        102  180  43  325"
      ]
     },
     "metadata": {},
     "output_type": "display_data"
    }
   ],
   "source": [
    "model_name = 'results_bert-base-japanese-v3_50'\n",
    "results['Fine-Tuning-50epochs']['base'] = calculate_f1_score(model_name=model_name, eval_df=eval_df)"
   ]
  },
  {
   "cell_type": "markdown",
   "metadata": {},
   "source": [
    "FT BERT-base 100 epochs (8100 steps)\n",
    "\n",
    "```json\n",
    "{'eval_loss': 2.221827268600464,\n",
    " 'eval_runtime': 15.5509,\n",
    " 'eval_samples_per_second': 20.835,\n",
    " 'eval_steps_per_second': 1.35,\n",
    " 'epoch': 100.0}\n",
    "```"
   ]
  },
  {
   "cell_type": "code",
   "execution_count": 284,
   "metadata": {},
   "outputs": [
    {
     "data": {
      "application/vnd.jupyter.widget-view+json": {
       "model_id": "e73c3d4ad7c8474ba0d41d127061e543",
       "version_major": 2,
       "version_minor": 0
      },
      "text/plain": [
       "  0%|          | 0/41 [00:00<?, ?it/s]"
      ]
     },
     "metadata": {},
     "output_type": "display_data"
    },
    {
     "name": "stdout",
     "output_type": "stream",
     "text": [
      "precision_macro: 0.717\n",
      "recall_macro: 0.694\n",
      "f1: 0.705\n"
     ]
    },
    {
     "data": {
      "text/html": [
       "<div>\n",
       "<style scoped>\n",
       "    .dataframe tbody tr th:only-of-type {\n",
       "        vertical-align: middle;\n",
       "    }\n",
       "\n",
       "    .dataframe tbody tr th {\n",
       "        vertical-align: top;\n",
       "    }\n",
       "\n",
       "    .dataframe thead th {\n",
       "        text-align: right;\n",
       "    }\n",
       "</style>\n",
       "<table border=\"1\" class=\"dataframe\">\n",
       "  <thead>\n",
       "    <tr style=\"text-align: right;\">\n",
       "      <th>Predicted</th>\n",
       "      <th>0</th>\n",
       "      <th>1</th>\n",
       "      <th>2</th>\n",
       "      <th>All</th>\n",
       "    </tr>\n",
       "    <tr>\n",
       "      <th>True</th>\n",
       "      <th></th>\n",
       "      <th></th>\n",
       "      <th></th>\n",
       "      <th></th>\n",
       "    </tr>\n",
       "  </thead>\n",
       "  <tbody>\n",
       "    <tr>\n",
       "      <th>0</th>\n",
       "      <td>69</td>\n",
       "      <td>10</td>\n",
       "      <td>12</td>\n",
       "      <td>91</td>\n",
       "    </tr>\n",
       "    <tr>\n",
       "      <th>1</th>\n",
       "      <td>4</td>\n",
       "      <td>149</td>\n",
       "      <td>11</td>\n",
       "      <td>164</td>\n",
       "    </tr>\n",
       "    <tr>\n",
       "      <th>2</th>\n",
       "      <td>14</td>\n",
       "      <td>27</td>\n",
       "      <td>29</td>\n",
       "      <td>70</td>\n",
       "    </tr>\n",
       "    <tr>\n",
       "      <th>All</th>\n",
       "      <td>87</td>\n",
       "      <td>186</td>\n",
       "      <td>52</td>\n",
       "      <td>325</td>\n",
       "    </tr>\n",
       "  </tbody>\n",
       "</table>\n",
       "</div>"
      ],
      "text/plain": [
       "Predicted   0    1   2  All\n",
       "True                       \n",
       "0          69   10  12   91\n",
       "1           4  149  11  164\n",
       "2          14   27  29   70\n",
       "All        87  186  52  325"
      ]
     },
     "metadata": {},
     "output_type": "display_data"
    }
   ],
   "source": [
    "model_name = 'results_bert-base-japanese-v3_100'\n",
    "results['Fine-Tuning-100epochs']['base'] = calculate_f1_score(model_name=model_name, eval_df=eval_df)"
   ]
  },
  {
   "cell_type": "markdown",
   "metadata": {},
   "source": [
    "### F1スコア"
   ]
  },
  {
   "cell_type": "markdown",
   "metadata": {},
   "source": [
    "`compute_metrics`: default\n",
    "\n",
    "|       |   東北大日本語BERT |   Fine-Tuning-3epochs |   Fine-Tuning-10epochs | Fine-Tuning-50epochs   | Fine-Tuning-100epochs   |\n",
    "|:------|-------------------:|----------------------:|-----------------------:|-----------------------:|------------------------:|\n",
    "| base  |           0.304489 |              0.66XXXX |               0.67XXXX |     0.70XXXX | 0.708076      |\n",
    "| large |           0.226644 |              0.223586 |               0.223586 | -                      | -                       |\n",
    "\n",
    "`compute_metrics`: acc, f1, precision, recall\n",
    "\n",
    "|       |   東北大日本語BERT |   Fine-Tuning-3epochs |   Fine-Tuning-10epochs | Fine-Tuning-50epochs   | Fine-Tuning-100epochs   |\n",
    "|:------|-------------------:|----------------------:|-----------------------:|-----------------------:|------------------------:|\n",
    "| base  |           0.304489 |              0.727328 |               0.717577 |      **0.754010** |      0.705292 |\n",
    "| large |           0.226644 |              0.223586 |               - | -                      | -                       |"
   ]
  },
  {
   "cell_type": "code",
   "execution_count": 288,
   "metadata": {},
   "outputs": [
    {
     "data": {
      "text/html": [
       "<div>\n",
       "<style scoped>\n",
       "    .dataframe tbody tr th:only-of-type {\n",
       "        vertical-align: middle;\n",
       "    }\n",
       "\n",
       "    .dataframe tbody tr th {\n",
       "        vertical-align: top;\n",
       "    }\n",
       "\n",
       "    .dataframe thead th {\n",
       "        text-align: right;\n",
       "    }\n",
       "</style>\n",
       "<table border=\"1\" class=\"dataframe\">\n",
       "  <thead>\n",
       "    <tr style=\"text-align: right;\">\n",
       "      <th></th>\n",
       "      <th>東北大日本語BERT</th>\n",
       "      <th>Fine-Tuning-3epochs</th>\n",
       "      <th>Fine-Tuning-10epochs</th>\n",
       "      <th>Fine-Tuning-50epochs</th>\n",
       "      <th>Fine-Tuning-100epochs</th>\n",
       "    </tr>\n",
       "  </thead>\n",
       "  <tbody>\n",
       "    <tr>\n",
       "      <th>base</th>\n",
       "      <td>0.304489</td>\n",
       "      <td>0.727328</td>\n",
       "      <td>0.717577</td>\n",
       "      <td>0.75401</td>\n",
       "      <td>0.705292</td>\n",
       "    </tr>\n",
       "    <tr>\n",
       "      <th>large</th>\n",
       "      <td>0.226644</td>\n",
       "      <td>0.223586</td>\n",
       "      <td>0.223586</td>\n",
       "      <td>-</td>\n",
       "      <td>-</td>\n",
       "    </tr>\n",
       "  </tbody>\n",
       "</table>\n",
       "</div>"
      ],
      "text/plain": [
       "       東北大日本語BERT  Fine-Tuning-3epochs  Fine-Tuning-10epochs  \\\n",
       "base     0.304489             0.727328              0.717577   \n",
       "large    0.226644             0.223586              0.223586   \n",
       "\n",
       "      Fine-Tuning-50epochs Fine-Tuning-100epochs  \n",
       "base               0.75401              0.705292  \n",
       "large                    -                     -  "
      ]
     },
     "execution_count": 288,
     "metadata": {},
     "output_type": "execute_result"
    }
   ],
   "source": [
    "pd.DataFrame.from_dict(results)"
   ]
  },
  {
   "cell_type": "markdown",
   "metadata": {},
   "source": [
    "### 学習時損失"
   ]
  },
  {
   "cell_type": "code",
   "execution_count": 292,
   "metadata": {},
   "outputs": [
    {
     "data": {
      "image/png": "[encoded data removed]",
      "text/plain": [
       "<Figure size 560x160 with 2 Axes>"
      ]
     },
     "metadata": {},
     "output_type": "display_data"
    },
    {
     "data": {
      "image/png": "[encoded data removed]",
      "text/plain": [
       "<Figure size 560x160 with 2 Axes>"
      ]
     },
     "metadata": {},
     "output_type": "display_data"
    },
    {
     "data": {
      "image/png": "[encoded data removed]",
      "text/plain": [
       "<Figure size 560x160 with 2 Axes>"
      ]
     },
     "metadata": {},
     "output_type": "display_data"
    },
    {
     "data": {
      "image/png": "[encoded data removed]",
      "text/plain": [
       "<Figure size 560x160 with 2 Axes>"
      ]
     },
     "metadata": {},
     "output_type": "display_data"
    },
    {
     "data": {
      "image/png": "[encoded data removed]",
      "text/plain": [
       "<Figure size 560x160 with 2 Axes>"
      ]
     },
     "metadata": {},
     "output_type": "display_data"
    },
    {
     "data": {
      "image/png": "[encoded data removed]",
      "text/plain": [
       "<Figure size 560x160 with 2 Axes>"
      ]
     },
     "metadata": {},
     "output_type": "display_data"
    }
   ],
   "source": [
    "import json\n",
    "\n",
    "def plot_loss_curve(log_path):\n",
    "\n",
    "  with open(log_path) as f:\n",
    "    training_state = json.loads(f.read())\n",
    "  log_history = training_state['log_history']\n",
    "\n",
    "  fig, ax = plt.subplots(1, 1, figsize=(7, 2), dpi=80)\n",
    "  ax2 = ax.twinx()\n",
    "\n",
    "  train_log_df = pd.DataFrame(log_history).iloc[0::2,:].iloc[:-1]\n",
    "  eval_log_df = pd.DataFrame(log_history).iloc[1::2,:]\n",
    "\n",
    "  train_log_df.plot(x='step', y=['loss'], ax=ax)\n",
    "  eval_log_df.plot(x='step', y=['eval_loss'], ax=ax2, color='red')\n",
    "\n",
    "  plt.title(f'{log_path}\\nTraining/Validation Loss')\n",
    "  plt.show()\n",
    "\n",
    "plot_loss_curve(log_path='./results_bert-base-japanese-v3_3/trainer_state.json')\n",
    "plot_loss_curve(log_path='./results_bert-base-japanese-v3_10/trainer_state.json')\n",
    "plot_loss_curve(log_path='./results_bert-base-japanese-v3_50/trainer_state.json')\n",
    "plot_loss_curve(log_path='./results_bert-base-japanese-v3_100/trainer_state.json')\n",
    "plot_loss_curve(log_path='./results_bert-large-japanese-v2_3/trainer_state.json')\n",
    "plot_loss_curve(log_path='./results_bert-large-japanese-v2_10/trainer_state.json')"
   ]
  },
  {
   "cell_type": "markdown",
   "metadata": {},
   "source": [
    "## 感情得点の計算"
   ]
  },
  {
   "cell_type": "code",
   "execution_count": null,
   "metadata": {},
   "outputs": [],
   "source": [
    "model_name = 'results_bert-base-japanese-v3_50'\n",
    "prediction_results = predict(*load_assets(model_name))"
   ]
  },
  {
   "cell_type": "code",
   "execution_count": 389,
   "metadata": {},
   "outputs": [
    {
     "name": "stdout",
     "output_type": "stream",
     "text": [
      "The sentiment score is: [0.2093348999756493, 0.15042637522293034, 0.19460776878746955]\n"
     ]
    }
   ],
   "source": [
    "def softmax(x):\n",
    "    e_x = np.exp(x - np.max(x))\n",
    "    return e_x / e_x.sum()\n",
    "\n",
    "def calculate_sentiment_score(probabilities):\n",
    "    \"\"\"感情得点を計算する\n",
    "    感情得点：\n",
    "        - 肯定的なほど1に近くなり、否定的なほど-1に近くなる。また、中立的なほど0に近くなるような指標。\n",
    "    Args:\n",
    "        probabilities (numpy.ndarray): 肯定的、中立的、否定的な確率の配列\n",
    "            [negative_prob, positive_prob, neutral_prob]\n",
    "    Returns:\n",
    "        sentiment_score (float): 感情得点\n",
    "    \n",
    "    Examples:\n",
    "        >>> import numpy as np\n",
    "        >>> probabilities = np.array([0.1, 0.7, 0.2])\n",
    "        >>> calculate_sentiment_score(probabilities)\n",
    "        0.15042637522293034\n",
    "    \"\"\"\n",
    "    # Softmax関数を適用して確率を合計1にする\n",
    "    probabilities = softmax(probabilities)\n",
    "\n",
    "    # 感情得点の計算\n",
    "    negative_prob, positive_prob, neutral_prob = probabilities\n",
    "\n",
    "    scores = []\n",
    "\n",
    "    # Implementation 0\n",
    "    sentiment_score = -1 * negative_prob + 1 * positive_prob + 0 * neutral_prob\n",
    "    scores.append(sentiment_score)\n",
    "\n",
    "    # Implementation 1\n",
    "    sentiment_score = (positive_prob * (1 - neutral_prob)) - (negative_prob * (1 - neutral_prob))\n",
    "    scores.append(sentiment_score)\n",
    "\n",
    "\n",
    "    # Implementation 2: 中立的な確率に重みをかける\n",
    "    weight = 0.25 # 0から1の範囲で調整\n",
    "    sentiment_score = (positive_prob * (1 - neutral_prob * weight)) - (negative_prob * (1 - neutral_prob * weight))\n",
    "    scores.append(sentiment_score)\n",
    "\n",
    "    # return sentiment_score\n",
    "    return scores\n",
    "\n",
    "# 例: 肯定的な確率=0.7、中立的な確率=0.2、否定的な確率=0.1の場合\n",
    "probabilities = np.array([0.1, 0.7, 0.2])\n",
    "\n",
    "# 感情得点の計算\n",
    "sentiment_score = calculate_sentiment_score(probabilities)\n",
    "\n",
    "print(f\"The sentiment score is: {sentiment_score}\")"
   ]
  },
  {
   "cell_type": "code",
   "execution_count": 390,
   "metadata": {},
   "outputs": [],
   "source": [
    "eval_df = eval_dataset.to_pandas()[['text', 'label']]\n",
    "eval_df['pred'] = prediction_results['labels']\n",
    "\n",
    "# eval_df['sentiment_score'] = np.apply_along_axis(calculate_sentiment_score, 1, prediction_results['predict_proba'])\n",
    "\n",
    "scores_array = np.apply_along_axis(calculate_sentiment_score, 1, prediction_results['predict_proba'])\n",
    "eval_df['加重合計'] = scores_array[:, 0]\n",
    "eval_df['確率の引き算'] = scores_array[:, 1]\n",
    "eval_df['確率の引き算(ソフト)'] = scores_array[:, 2]"
   ]
  },
  {
   "cell_type": "code",
   "execution_count": 392,
   "metadata": {},
   "outputs": [
    {
     "data": {
      "image/png": "[encoded data removed]",
      "text/plain": [
       "<Figure size 640x480 with 1 Axes>"
      ]
     },
     "metadata": {},
     "output_type": "display_data"
    }
   ],
   "source": [
    "eval_df[['加重合計', '確率の引き算', '確率の引き算(ソフト)']].plot.hist(bins=30, alpha=0.5)\n",
    "plt.show()"
   ]
  },
  {
   "cell_type": "code",
   "execution_count": 393,
   "metadata": {},
   "outputs": [],
   "source": [
    "# eval_df.sentiment_score.plot.hist(bins=40)"
   ]
  },
  {
   "cell_type": "code",
   "execution_count": 362,
   "metadata": {},
   "outputs": [
    {
     "name": "stdout",
     "output_type": "stream",
     "text": [
      "0.9以上 肯定:  (177, 4)\n"
     ]
    },
    {
     "data": {
      "text/html": [
       "<div>\n",
       "<style scoped>\n",
       "    .dataframe tbody tr th:only-of-type {\n",
       "        vertical-align: middle;\n",
       "    }\n",
       "\n",
       "    .dataframe tbody tr th {\n",
       "        vertical-align: top;\n",
       "    }\n",
       "\n",
       "    .dataframe thead th {\n",
       "        text-align: right;\n",
       "    }\n",
       "</style>\n",
       "<table border=\"1\" class=\"dataframe\">\n",
       "  <thead>\n",
       "    <tr style=\"text-align: right;\">\n",
       "      <th></th>\n",
       "      <th>text</th>\n",
       "      <th>label</th>\n",
       "      <th>pred</th>\n",
       "      <th>sentiment_score</th>\n",
       "    </tr>\n",
       "  </thead>\n",
       "  <tbody>\n",
       "    <tr>\n",
       "      <th>1</th>\n",
       "      <td>小岩井の生乳100％ヨーグルトを安くしてくださって嬉しいです これからも買い続けるのでお値段...</td>\n",
       "      <td>1</td>\n",
       "      <td>1</td>\n",
       "      <td>0.9999</td>\n",
       "    </tr>\n",
       "    <tr>\n",
       "      <th>2</th>\n",
       "      <td>ＱＵＩＣpayで支払いで10%OＦＦにするならば、majicaにチャージして支払いをした場合...</td>\n",
       "      <td>1</td>\n",
       "      <td>1</td>\n",
       "      <td>0.9996</td>\n",
       "    </tr>\n",
       "    <tr>\n",
       "      <th>3</th>\n",
       "      <td>9月の特売品がたくさん有って良かったです!</td>\n",
       "      <td>1</td>\n",
       "      <td>1</td>\n",
       "      <td>0.9999</td>\n",
       "    </tr>\n",
       "    <tr>\n",
       "      <th>4</th>\n",
       "      <td>是非気軽にいただける飲食店を増やしてほしいです！フードコートでも店舗でも。</td>\n",
       "      <td>1</td>\n",
       "      <td>1</td>\n",
       "      <td>0.9999</td>\n",
       "    </tr>\n",
       "    <tr>\n",
       "      <th>5</th>\n",
       "      <td>従業員の人が親切でした❗。</td>\n",
       "      <td>1</td>\n",
       "      <td>1</td>\n",
       "      <td>0.9999</td>\n",
       "    </tr>\n",
       "  </tbody>\n",
       "</table>\n",
       "</div>"
      ],
      "text/plain": [
       "                                                text  label  pred  \\\n",
       "1  小岩井の生乳100％ヨーグルトを安くしてくださって嬉しいです これからも買い続けるのでお値段...      1     1   \n",
       "2  ＱＵＩＣpayで支払いで10%OＦＦにするならば、majicaにチャージして支払いをした場合...      1     1   \n",
       "3                              9月の特売品がたくさん有って良かったです!      1     1   \n",
       "4              是非気軽にいただける飲食店を増やしてほしいです！フードコートでも店舗でも。      1     1   \n",
       "5                                      従業員の人が親切でした❗。      1     1   \n",
       "\n",
       "   sentiment_score  \n",
       "1           0.9999  \n",
       "2           0.9996  \n",
       "3           0.9999  \n",
       "4           0.9999  \n",
       "5           0.9999  "
      ]
     },
     "metadata": {},
     "output_type": "display_data"
    },
    {
     "name": "stdout",
     "output_type": "stream",
     "text": [
      "0.5以上 0.9未満 肯定寄り:  (1, 4)\n"
     ]
    },
    {
     "data": {
      "text/html": [
       "<div>\n",
       "<style scoped>\n",
       "    .dataframe tbody tr th:only-of-type {\n",
       "        vertical-align: middle;\n",
       "    }\n",
       "\n",
       "    .dataframe tbody tr th {\n",
       "        vertical-align: top;\n",
       "    }\n",
       "\n",
       "    .dataframe thead th {\n",
       "        text-align: right;\n",
       "    }\n",
       "</style>\n",
       "<table border=\"1\" class=\"dataframe\">\n",
       "  <thead>\n",
       "    <tr style=\"text-align: right;\">\n",
       "      <th></th>\n",
       "      <th>text</th>\n",
       "      <th>label</th>\n",
       "      <th>pred</th>\n",
       "      <th>sentiment_score</th>\n",
       "    </tr>\n",
       "  </thead>\n",
       "  <tbody>\n",
       "    <tr>\n",
       "      <th>155</th>\n",
       "      <td>チョコレート菓子が安くて助かってます！チョコレートが無い人生なんて考えられないので 。</td>\n",
       "      <td>1</td>\n",
       "      <td>1</td>\n",
       "      <td>0.8471</td>\n",
       "    </tr>\n",
       "  </tbody>\n",
       "</table>\n",
       "</div>"
      ],
      "text/plain": [
       "                                            text  label  pred  sentiment_score\n",
       "155  チョコレート菓子が安くて助かってます！チョコレートが無い人生なんて考えられないので 。      1     1           0.8471"
      ]
     },
     "metadata": {},
     "output_type": "display_data"
    },
    {
     "name": "stdout",
     "output_type": "stream",
     "text": [
      "0.1以上 0.5未満 やや肯定より:  (4, 4)\n"
     ]
    },
    {
     "data": {
      "text/html": [
       "<div>\n",
       "<style scoped>\n",
       "    .dataframe tbody tr th:only-of-type {\n",
       "        vertical-align: middle;\n",
       "    }\n",
       "\n",
       "    .dataframe tbody tr th {\n",
       "        vertical-align: top;\n",
       "    }\n",
       "\n",
       "    .dataframe thead th {\n",
       "        text-align: right;\n",
       "    }\n",
       "</style>\n",
       "<table border=\"1\" class=\"dataframe\">\n",
       "  <thead>\n",
       "    <tr style=\"text-align: right;\">\n",
       "      <th></th>\n",
       "      <th>text</th>\n",
       "      <th>label</th>\n",
       "      <th>pred</th>\n",
       "      <th>sentiment_score</th>\n",
       "    </tr>\n",
       "  </thead>\n",
       "  <tbody>\n",
       "    <tr>\n",
       "      <th>98</th>\n",
       "      <td>特に問題ありませんでした。</td>\n",
       "      <td>2</td>\n",
       "      <td>2</td>\n",
       "      <td>0.1499</td>\n",
       "    </tr>\n",
       "    <tr>\n",
       "      <th>127</th>\n",
       "      <td>伊勢市のごみ袋、少し高いかなと思います 。</td>\n",
       "      <td>2</td>\n",
       "      <td>2</td>\n",
       "      <td>0.2494</td>\n",
       "    </tr>\n",
       "    <tr>\n",
       "      <th>160</th>\n",
       "      <td>さくら大根をいれて！。</td>\n",
       "      <td>1</td>\n",
       "      <td>1</td>\n",
       "      <td>0.4601</td>\n",
       "    </tr>\n",
       "    <tr>\n",
       "      <th>232</th>\n",
       "      <td>2.2ミリの太麺パスタを入れて下さい 。</td>\n",
       "      <td>2</td>\n",
       "      <td>1</td>\n",
       "      <td>0.4881</td>\n",
       "    </tr>\n",
       "  </tbody>\n",
       "</table>\n",
       "</div>"
      ],
      "text/plain": [
       "                      text  label  pred  sentiment_score\n",
       "98           特に問題ありませんでした。      2     2           0.1499\n",
       "127  伊勢市のごみ袋、少し高いかなと思います 。      2     2           0.2494\n",
       "160            さくら大根をいれて！。      1     1           0.4601\n",
       "232   2.2ミリの太麺パスタを入れて下さい 。      2     1           0.4881"
      ]
     },
     "metadata": {},
     "output_type": "display_data"
    },
    {
     "name": "stdout",
     "output_type": "stream",
     "text": [
      "-0.1以上 0.1未満 中立:  (39, 4)\n"
     ]
    },
    {
     "data": {
      "text/html": [
       "<div>\n",
       "<style scoped>\n",
       "    .dataframe tbody tr th:only-of-type {\n",
       "        vertical-align: middle;\n",
       "    }\n",
       "\n",
       "    .dataframe tbody tr th {\n",
       "        vertical-align: top;\n",
       "    }\n",
       "\n",
       "    .dataframe thead th {\n",
       "        text-align: right;\n",
       "    }\n",
       "</style>\n",
       "<table border=\"1\" class=\"dataframe\">\n",
       "  <thead>\n",
       "    <tr style=\"text-align: right;\">\n",
       "      <th></th>\n",
       "      <th>text</th>\n",
       "      <th>label</th>\n",
       "      <th>pred</th>\n",
       "      <th>sentiment_score</th>\n",
       "    </tr>\n",
       "  </thead>\n",
       "  <tbody>\n",
       "    <tr>\n",
       "      <th>19</th>\n",
       "      <td>クジてなかなか当たら無いのやな～。</td>\n",
       "      <td>0</td>\n",
       "      <td>2</td>\n",
       "      <td>-0.0001</td>\n",
       "    </tr>\n",
       "    <tr>\n",
       "      <th>27</th>\n",
       "      <td>本屋さんを置いて。</td>\n",
       "      <td>1</td>\n",
       "      <td>2</td>\n",
       "      <td>0.0000</td>\n",
       "    </tr>\n",
       "    <tr>\n",
       "      <th>38</th>\n",
       "      <td>エゴマの葉を置いて欲しいです。</td>\n",
       "      <td>1</td>\n",
       "      <td>2</td>\n",
       "      <td>0.0000</td>\n",
       "    </tr>\n",
       "    <tr>\n",
       "      <th>46</th>\n",
       "      <td>特に無し。</td>\n",
       "      <td>2</td>\n",
       "      <td>2</td>\n",
       "      <td>0.0000</td>\n",
       "    </tr>\n",
       "    <tr>\n",
       "      <th>59</th>\n",
       "      <td>同じ種類のものはなるべく1箇所にまとめて陳列お願いします。</td>\n",
       "      <td>1</td>\n",
       "      <td>2</td>\n",
       "      <td>0.0269</td>\n",
       "    </tr>\n",
       "  </tbody>\n",
       "</table>\n",
       "</div>"
      ],
      "text/plain": [
       "                             text  label  pred  sentiment_score\n",
       "19              クジてなかなか当たら無いのやな～。      0     2          -0.0001\n",
       "27                      本屋さんを置いて。      1     2           0.0000\n",
       "38                エゴマの葉を置いて欲しいです。      1     2           0.0000\n",
       "46                          特に無し。      2     2           0.0000\n",
       "59  同じ種類のものはなるべく1箇所にまとめて陳列お願いします。      1     2           0.0269"
      ]
     },
     "metadata": {},
     "output_type": "display_data"
    },
    {
     "name": "stdout",
     "output_type": "stream",
     "text": [
      "-0.5以上 -0.1未満 やや否定より:  (2, 4)\n"
     ]
    },
    {
     "data": {
      "text/html": [
       "<div>\n",
       "<style scoped>\n",
       "    .dataframe tbody tr th:only-of-type {\n",
       "        vertical-align: middle;\n",
       "    }\n",
       "\n",
       "    .dataframe tbody tr th {\n",
       "        vertical-align: top;\n",
       "    }\n",
       "\n",
       "    .dataframe thead th {\n",
       "        text-align: right;\n",
       "    }\n",
       "</style>\n",
       "<table border=\"1\" class=\"dataframe\">\n",
       "  <thead>\n",
       "    <tr style=\"text-align: right;\">\n",
       "      <th></th>\n",
       "      <th>text</th>\n",
       "      <th>label</th>\n",
       "      <th>pred</th>\n",
       "      <th>sentiment_score</th>\n",
       "    </tr>\n",
       "  </thead>\n",
       "  <tbody>\n",
       "    <tr>\n",
       "      <th>198</th>\n",
       "      <td>このくじ、ほんとに当たらない。</td>\n",
       "      <td>0</td>\n",
       "      <td>2</td>\n",
       "      <td>-0.1853</td>\n",
       "    </tr>\n",
       "    <tr>\n",
       "      <th>216</th>\n",
       "      <td>店舗によって取扱品が変わる 。</td>\n",
       "      <td>2</td>\n",
       "      <td>2</td>\n",
       "      <td>-0.2143</td>\n",
       "    </tr>\n",
       "  </tbody>\n",
       "</table>\n",
       "</div>"
      ],
      "text/plain": [
       "                text  label  pred  sentiment_score\n",
       "198  このくじ、ほんとに当たらない。      0     2          -0.1853\n",
       "216  店舗によって取扱品が変わる 。      2     2          -0.2143"
      ]
     },
     "metadata": {},
     "output_type": "display_data"
    },
    {
     "name": "stdout",
     "output_type": "stream",
     "text": [
      "-0.9以上 -0.5未満 否定寄り:  (6, 4)\n"
     ]
    },
    {
     "data": {
      "text/html": [
       "<div>\n",
       "<style scoped>\n",
       "    .dataframe tbody tr th:only-of-type {\n",
       "        vertical-align: middle;\n",
       "    }\n",
       "\n",
       "    .dataframe tbody tr th {\n",
       "        vertical-align: top;\n",
       "    }\n",
       "\n",
       "    .dataframe thead th {\n",
       "        text-align: right;\n",
       "    }\n",
       "</style>\n",
       "<table border=\"1\" class=\"dataframe\">\n",
       "  <thead>\n",
       "    <tr style=\"text-align: right;\">\n",
       "      <th></th>\n",
       "      <th>text</th>\n",
       "      <th>label</th>\n",
       "      <th>pred</th>\n",
       "      <th>sentiment_score</th>\n",
       "    </tr>\n",
       "  </thead>\n",
       "  <tbody>\n",
       "    <tr>\n",
       "      <th>77</th>\n",
       "      <td>アイス高い。</td>\n",
       "      <td>0</td>\n",
       "      <td>0</td>\n",
       "      <td>-0.8339</td>\n",
       "    </tr>\n",
       "    <tr>\n",
       "      <th>103</th>\n",
       "      <td>キリンアリカリイオン水安くしてください。</td>\n",
       "      <td>0</td>\n",
       "      <td>0</td>\n",
       "      <td>-0.6207</td>\n",
       "    </tr>\n",
       "    <tr>\n",
       "      <th>180</th>\n",
       "      <td>レジの行列で通路を塞いでいる場合が多くあり通路が通り難い様に思います(岸和田店) レジ場所移...</td>\n",
       "      <td>2</td>\n",
       "      <td>0</td>\n",
       "      <td>-0.6101</td>\n",
       "    </tr>\n",
       "    <tr>\n",
       "      <th>208</th>\n",
       "      <td>一度買って、気に入った品物が２～３日後には売り切れてます その後同じ品物が入荷されなくって残...</td>\n",
       "      <td>0</td>\n",
       "      <td>0</td>\n",
       "      <td>-0.6548</td>\n",
       "    </tr>\n",
       "    <tr>\n",
       "      <th>218</th>\n",
       "      <td>レジが混まないように…。</td>\n",
       "      <td>2</td>\n",
       "      <td>0</td>\n",
       "      <td>-0.8185</td>\n",
       "    </tr>\n",
       "  </tbody>\n",
       "</table>\n",
       "</div>"
      ],
      "text/plain": [
       "                                                  text  label  pred  \\\n",
       "77                                              アイス高い。      0     0   \n",
       "103                               キリンアリカリイオン水安くしてください。      0     0   \n",
       "180  レジの行列で通路を塞いでいる場合が多くあり通路が通り難い様に思います(岸和田店) レジ場所移...      2     0   \n",
       "208  一度買って、気に入った品物が２～３日後には売り切れてます その後同じ品物が入荷されなくって残...      0     0   \n",
       "218                                       レジが混まないように…。      2     0   \n",
       "\n",
       "     sentiment_score  \n",
       "77           -0.8339  \n",
       "103          -0.6207  \n",
       "180          -0.6101  \n",
       "208          -0.6548  \n",
       "218          -0.8185  "
      ]
     },
     "metadata": {},
     "output_type": "display_data"
    },
    {
     "name": "stdout",
     "output_type": "stream",
     "text": [
      "-0.9未満 否定:  (96, 4)\n"
     ]
    },
    {
     "data": {
      "text/html": [
       "<div>\n",
       "<style scoped>\n",
       "    .dataframe tbody tr th:only-of-type {\n",
       "        vertical-align: middle;\n",
       "    }\n",
       "\n",
       "    .dataframe tbody tr th {\n",
       "        vertical-align: top;\n",
       "    }\n",
       "\n",
       "    .dataframe thead th {\n",
       "        text-align: right;\n",
       "    }\n",
       "</style>\n",
       "<table border=\"1\" class=\"dataframe\">\n",
       "  <thead>\n",
       "    <tr style=\"text-align: right;\">\n",
       "      <th></th>\n",
       "      <th>text</th>\n",
       "      <th>label</th>\n",
       "      <th>pred</th>\n",
       "      <th>sentiment_score</th>\n",
       "    </tr>\n",
       "  </thead>\n",
       "  <tbody>\n",
       "    <tr>\n",
       "      <th>0</th>\n",
       "      <td>以前より高くなっている 。</td>\n",
       "      <td>0</td>\n",
       "      <td>0</td>\n",
       "      <td>-0.9999</td>\n",
       "    </tr>\n",
       "    <tr>\n",
       "      <th>7</th>\n",
       "      <td>店員さんは親切ですが商品について聞きたいことがあつてもだれもいなくて探すのに時間がかかります...</td>\n",
       "      <td>0</td>\n",
       "      <td>0</td>\n",
       "      <td>-0.9999</td>\n",
       "    </tr>\n",
       "    <tr>\n",
       "      <th>8</th>\n",
       "      <td>レジが並んでるにかなり。</td>\n",
       "      <td>2</td>\n",
       "      <td>0</td>\n",
       "      <td>-0.9696</td>\n",
       "    </tr>\n",
       "    <tr>\n",
       "      <th>9</th>\n",
       "      <td>混んでいた 凄く配達多いですね 。</td>\n",
       "      <td>2</td>\n",
       "      <td>0</td>\n",
       "      <td>-0.9999</td>\n",
       "    </tr>\n",
       "    <tr>\n",
       "      <th>12</th>\n",
       "      <td>タメ口の定員さんがいて気分が悪い。</td>\n",
       "      <td>0</td>\n",
       "      <td>0</td>\n",
       "      <td>-0.9999</td>\n",
       "    </tr>\n",
       "  </tbody>\n",
       "</table>\n",
       "</div>"
      ],
      "text/plain": [
       "                                                 text  label  pred  \\\n",
       "0                                       以前より高くなっている 。      0     0   \n",
       "7   店員さんは親切ですが商品について聞きたいことがあつてもだれもいなくて探すのに時間がかかります...      0     0   \n",
       "8                                        レジが並んでるにかなり。      2     0   \n",
       "9                                   混んでいた 凄く配達多いですね 。      2     0   \n",
       "12                                  タメ口の定員さんがいて気分が悪い。      0     0   \n",
       "\n",
       "    sentiment_score  \n",
       "0           -0.9999  \n",
       "7           -0.9999  \n",
       "8           -0.9696  \n",
       "9           -0.9999  \n",
       "12          -0.9999  "
      ]
     },
     "metadata": {},
     "output_type": "display_data"
    }
   ],
   "source": [
    "# 0.9以上 肯定\n",
    "print('0.9以上 肯定: ', eval_df.query('0.9 <= sentiment_score').shape)\n",
    "display(eval_df.query('0.9 <= sentiment_score').head())\n",
    "# 0.5以上 0.9未満 肯定寄り\n",
    "print('0.5以上 0.9未満 肯定寄り: ', eval_df.query('0.5 <= sentiment_score & sentiment_score < 0.9').shape)\n",
    "display(eval_df.query('0.5 <= sentiment_score & sentiment_score < 0.9').head())\n",
    "# 0.1以上 0.5未満 やや肯定より\n",
    "print('0.1以上 0.5未満 やや肯定より: ', eval_df.query('0.1 <= sentiment_score & sentiment_score < 0.5').shape)\n",
    "display(eval_df.query('0.1 <= sentiment_score & sentiment_score < 0.5').head())\n",
    "# -0.1以上 0.1未満 中立\n",
    "print('-0.1以上 0.1未満 中立: ', eval_df.query('-0.1 <= sentiment_score & sentiment_score < 0.1').shape)\n",
    "display(eval_df.query('-0.1 <= sentiment_score & sentiment_score < 0.1').head())\n",
    "# -0.5以上 -0.1未満 やや否定より\n",
    "print('-0.5以上 -0.1未満 やや否定より: ', eval_df.query('-0.5 <= sentiment_score & sentiment_score < -0.1').shape)\n",
    "display(eval_df.query('-0.5 <= sentiment_score & sentiment_score < -0.1').head())\n",
    "# -0.9以上 -0.5未満 否定寄り\n",
    "print('-0.9以上 -0.5未満 否定寄り: ', eval_df.query('-0.9 <= sentiment_score & sentiment_score < -0.5').shape)\n",
    "display(eval_df.query('-0.9 <= sentiment_score & sentiment_score < -0.5').head())\n",
    "# -0.9未満 否定\n",
    "print('-0.9未満 否定: ', eval_df.query('sentiment_score < -0.9').shape)\n",
    "display(eval_df.query('sentiment_score < -0.9').head())"
   ]
  },
  {
   "cell_type": "code",
   "execution_count": null,
   "metadata": {},
   "outputs": [],
   "source": []
  }
 ],
 "metadata": {
  "interpreter": {
   "hash": "1685e972c8e6ae035eec8c83118266536b1044e7517d791fce49ac42e275e5e1"
  },
  "kernelspec": {
   "display_name": "Python 3.10.4 ('.venv': poetry)",
   "language": "python",
   "name": "python3"
  },
  "language_info": {
   "codemirror_mode": {
    "name": "ipython",
    "version": 3
   },
   "file_extension": ".py",
   "mimetype": "text/x-python",
   "name": "python",
   "nbconvert_exporter": "python",
   "pygments_lexer": "ipython3",
   "version": "3.10.4"
  },
  "orig_nbformat": 4
 },
 "nbformat": 4,
 "nbformat_minor": 2
}
